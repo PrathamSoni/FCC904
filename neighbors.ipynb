{
 "cells": [
  {
   "cell_type": "code",
   "execution_count": 2,
   "metadata": {},
   "outputs": [],
   "source": [
    "import pandas as pd\n",
    "import time\n",
    "import geopandas\n",
    "from glob import glob\n",
    "from shapely.ops import cascaded_union\n",
    "import pickle"
   ]
  },
  {
   "cell_type": "code",
   "execution_count": 3,
   "metadata": {},
   "outputs": [
    {
     "data": {
      "text/plain": "         round                      bidder     tier latency     census_id  \\\n0            1  Rainbow Communications LLC  Gigabit     Low  200050816001   \n1            1  Rainbow Communications LLC  Gigabit     Low  200050816002   \n2            1  Rainbow Communications LLC  Gigabit     Low  200050816003   \n3            1  Rainbow Communications LLC  Gigabit     Low  200050816005   \n4            1  Rainbow Communications LLC  Gigabit     Low  200050817002   \n...        ...                         ...      ...     ...           ...   \n4331242     19          NexTier Consortium  Gigabit     Low  484690014001   \n4331243     19          NexTier Consortium  Gigabit     Low  484690015011   \n4331244     19          NexTier Consortium  Gigabit     Low  484690015012   \n4331245     19     Segnem Egere Consortium  Gigabit     Low   50850208001   \n4331246     19     Segnem Egere Consortium  Gigabit     Low   50850208002   \n\n         state  \n0           20  \n1           20  \n2           20  \n3           20  \n4           20  \n...        ...  \n4331242     48  \n4331243     48  \n4331244     48  \n4331245      5  \n4331246      5  \n\n[4331247 rows x 6 columns]",
      "text/html": "<div>\n<style scoped>\n    .dataframe tbody tr th:only-of-type {\n        vertical-align: middle;\n    }\n\n    .dataframe tbody tr th {\n        vertical-align: top;\n    }\n\n    .dataframe thead th {\n        text-align: right;\n    }\n</style>\n<table border=\"1\" class=\"dataframe\">\n  <thead>\n    <tr style=\"text-align: right;\">\n      <th></th>\n      <th>round</th>\n      <th>bidder</th>\n      <th>tier</th>\n      <th>latency</th>\n      <th>census_id</th>\n      <th>state</th>\n    </tr>\n  </thead>\n  <tbody>\n    <tr>\n      <th>0</th>\n      <td>1</td>\n      <td>Rainbow Communications LLC</td>\n      <td>Gigabit</td>\n      <td>Low</td>\n      <td>200050816001</td>\n      <td>20</td>\n    </tr>\n    <tr>\n      <th>1</th>\n      <td>1</td>\n      <td>Rainbow Communications LLC</td>\n      <td>Gigabit</td>\n      <td>Low</td>\n      <td>200050816002</td>\n      <td>20</td>\n    </tr>\n    <tr>\n      <th>2</th>\n      <td>1</td>\n      <td>Rainbow Communications LLC</td>\n      <td>Gigabit</td>\n      <td>Low</td>\n      <td>200050816003</td>\n      <td>20</td>\n    </tr>\n    <tr>\n      <th>3</th>\n      <td>1</td>\n      <td>Rainbow Communications LLC</td>\n      <td>Gigabit</td>\n      <td>Low</td>\n      <td>200050816005</td>\n      <td>20</td>\n    </tr>\n    <tr>\n      <th>4</th>\n      <td>1</td>\n      <td>Rainbow Communications LLC</td>\n      <td>Gigabit</td>\n      <td>Low</td>\n      <td>200050817002</td>\n      <td>20</td>\n    </tr>\n    <tr>\n      <th>...</th>\n      <td>...</td>\n      <td>...</td>\n      <td>...</td>\n      <td>...</td>\n      <td>...</td>\n      <td>...</td>\n    </tr>\n    <tr>\n      <th>4331242</th>\n      <td>19</td>\n      <td>NexTier Consortium</td>\n      <td>Gigabit</td>\n      <td>Low</td>\n      <td>484690014001</td>\n      <td>48</td>\n    </tr>\n    <tr>\n      <th>4331243</th>\n      <td>19</td>\n      <td>NexTier Consortium</td>\n      <td>Gigabit</td>\n      <td>Low</td>\n      <td>484690015011</td>\n      <td>48</td>\n    </tr>\n    <tr>\n      <th>4331244</th>\n      <td>19</td>\n      <td>NexTier Consortium</td>\n      <td>Gigabit</td>\n      <td>Low</td>\n      <td>484690015012</td>\n      <td>48</td>\n    </tr>\n    <tr>\n      <th>4331245</th>\n      <td>19</td>\n      <td>Segnem Egere Consortium</td>\n      <td>Gigabit</td>\n      <td>Low</td>\n      <td>50850208001</td>\n      <td>5</td>\n    </tr>\n    <tr>\n      <th>4331246</th>\n      <td>19</td>\n      <td>Segnem Egere Consortium</td>\n      <td>Gigabit</td>\n      <td>Low</td>\n      <td>50850208002</td>\n      <td>5</td>\n    </tr>\n  </tbody>\n</table>\n<p>4331247 rows × 6 columns</p>\n</div>"
     },
     "execution_count": 3,
     "metadata": {},
     "output_type": "execute_result"
    }
   ],
   "source": [
    "bids = pd.read_csv(\"data/all_bids.csv\")[[\"round\", \"bidder\", \"tier\", \"latency\", \"census_id\"]]\n",
    "bids[\"state\"] = bids[\"census_id\"]//10000000000\n",
    "bids"
   ]
  },
  {
   "cell_type": "code",
   "execution_count": 4,
   "metadata": {},
   "outputs": [
    {
     "data": {
      "text/plain": "          LogRecNo  Provider_Id       FRN          ProviderName  \\\n0                1        59590  17678236     Webformix Company   \n1                2        59590  17678236     Webformix Company   \n2                3        59590  17678236     Webformix Company   \n3                4        59590  17678236     Webformix Company   \n4                5        59590  17678236     Webformix Company   \n...            ...          ...       ...                   ...   \n42151570  42151571        79963  21999305  OSNET Wireless Corp.   \n42151571  42151572        79963  21999305  OSNET Wireless Corp.   \n42151572  42151573        79963  21999305  OSNET Wireless Corp.   \n42151573  42151574        79963  21999305  OSNET Wireless Corp.   \n42151574  42151575        79963  21999305  OSNET Wireless Corp.   \n\n                 DBAName    HoldingCompanyName  HocoNum             HocoFinal  \\\n0              Webformix     Webformix Company   290118     Webformix Company   \n1              Webformix     Webformix Company   290118     Webformix Company   \n2              Webformix     Webformix Company   290118     Webformix Company   \n3              Webformix     Webformix Company   290118     Webformix Company   \n4              Webformix     Webformix Company   290118     Webformix Company   \n...                  ...                   ...      ...                   ...   \n42151570  OSNET Wireless  OSNET Wireless Corp.   420091  Osnet Wireless Corp.   \n42151571  OSNET Wireless  OSNET Wireless Corp.   420091  Osnet Wireless Corp.   \n42151572  OSNET Wireless  OSNET Wireless Corp.   420091  Osnet Wireless Corp.   \n42151573  OSNET Wireless  OSNET Wireless Corp.   420091  Osnet Wireless Corp.   \n42151574  OSNET Wireless  OSNET Wireless Corp.   420091  Osnet Wireless Corp.   \n\n         StateAbbr        BlockCode  TechCode  Consumer  MaxAdDown  MaxAdUp  \\\n0               OR  410139501002019        70         1       40.0     10.0   \n1               OR  410139503002023        70         1       40.0     10.0   \n2               OR  410139502002027        70         1       40.0     10.0   \n3               OR  410139501003004        70         1       40.0     10.0   \n4               OR  410139504001109        70         1       40.0     10.0   \n...            ...              ...       ...       ...        ...      ...   \n42151570        PR  720054006003006        70         1       30.0     10.0   \n42151571        PR  720054006003005        70         1       30.0     10.0   \n42151572        PR  720054006003004        70         1       30.0     10.0   \n42151573        PR  720054006003003        70         1       30.0     10.0   \n42151574        PR  720054006003002        70         1       30.0     10.0   \n\n          Business            bg  state  \n0                1  410139501002     41  \n1                1  410139503002     41  \n2                1  410139502002     41  \n3                1  410139501003     41  \n4                1  410139504001     41  \n...            ...           ...    ...  \n42151570         1  720054006003     72  \n42151571         1  720054006003     72  \n42151572         1  720054006003     72  \n42151573         1  720054006003     72  \n42151574         1  720054006003     72  \n\n[15841979 rows x 17 columns]",
      "text/html": "<div>\n<style scoped>\n    .dataframe tbody tr th:only-of-type {\n        vertical-align: middle;\n    }\n\n    .dataframe tbody tr th {\n        vertical-align: top;\n    }\n\n    .dataframe thead th {\n        text-align: right;\n    }\n</style>\n<table border=\"1\" class=\"dataframe\">\n  <thead>\n    <tr style=\"text-align: right;\">\n      <th></th>\n      <th>LogRecNo</th>\n      <th>Provider_Id</th>\n      <th>FRN</th>\n      <th>ProviderName</th>\n      <th>DBAName</th>\n      <th>HoldingCompanyName</th>\n      <th>HocoNum</th>\n      <th>HocoFinal</th>\n      <th>StateAbbr</th>\n      <th>BlockCode</th>\n      <th>TechCode</th>\n      <th>Consumer</th>\n      <th>MaxAdDown</th>\n      <th>MaxAdUp</th>\n      <th>Business</th>\n      <th>bg</th>\n      <th>state</th>\n    </tr>\n  </thead>\n  <tbody>\n    <tr>\n      <th>0</th>\n      <td>1</td>\n      <td>59590</td>\n      <td>17678236</td>\n      <td>Webformix Company</td>\n      <td>Webformix</td>\n      <td>Webformix Company</td>\n      <td>290118</td>\n      <td>Webformix Company</td>\n      <td>OR</td>\n      <td>410139501002019</td>\n      <td>70</td>\n      <td>1</td>\n      <td>40.0</td>\n      <td>10.0</td>\n      <td>1</td>\n      <td>410139501002</td>\n      <td>41</td>\n    </tr>\n    <tr>\n      <th>1</th>\n      <td>2</td>\n      <td>59590</td>\n      <td>17678236</td>\n      <td>Webformix Company</td>\n      <td>Webformix</td>\n      <td>Webformix Company</td>\n      <td>290118</td>\n      <td>Webformix Company</td>\n      <td>OR</td>\n      <td>410139503002023</td>\n      <td>70</td>\n      <td>1</td>\n      <td>40.0</td>\n      <td>10.0</td>\n      <td>1</td>\n      <td>410139503002</td>\n      <td>41</td>\n    </tr>\n    <tr>\n      <th>2</th>\n      <td>3</td>\n      <td>59590</td>\n      <td>17678236</td>\n      <td>Webformix Company</td>\n      <td>Webformix</td>\n      <td>Webformix Company</td>\n      <td>290118</td>\n      <td>Webformix Company</td>\n      <td>OR</td>\n      <td>410139502002027</td>\n      <td>70</td>\n      <td>1</td>\n      <td>40.0</td>\n      <td>10.0</td>\n      <td>1</td>\n      <td>410139502002</td>\n      <td>41</td>\n    </tr>\n    <tr>\n      <th>3</th>\n      <td>4</td>\n      <td>59590</td>\n      <td>17678236</td>\n      <td>Webformix Company</td>\n      <td>Webformix</td>\n      <td>Webformix Company</td>\n      <td>290118</td>\n      <td>Webformix Company</td>\n      <td>OR</td>\n      <td>410139501003004</td>\n      <td>70</td>\n      <td>1</td>\n      <td>40.0</td>\n      <td>10.0</td>\n      <td>1</td>\n      <td>410139501003</td>\n      <td>41</td>\n    </tr>\n    <tr>\n      <th>4</th>\n      <td>5</td>\n      <td>59590</td>\n      <td>17678236</td>\n      <td>Webformix Company</td>\n      <td>Webformix</td>\n      <td>Webformix Company</td>\n      <td>290118</td>\n      <td>Webformix Company</td>\n      <td>OR</td>\n      <td>410139504001109</td>\n      <td>70</td>\n      <td>1</td>\n      <td>40.0</td>\n      <td>10.0</td>\n      <td>1</td>\n      <td>410139504001</td>\n      <td>41</td>\n    </tr>\n    <tr>\n      <th>...</th>\n      <td>...</td>\n      <td>...</td>\n      <td>...</td>\n      <td>...</td>\n      <td>...</td>\n      <td>...</td>\n      <td>...</td>\n      <td>...</td>\n      <td>...</td>\n      <td>...</td>\n      <td>...</td>\n      <td>...</td>\n      <td>...</td>\n      <td>...</td>\n      <td>...</td>\n      <td>...</td>\n      <td>...</td>\n    </tr>\n    <tr>\n      <th>42151570</th>\n      <td>42151571</td>\n      <td>79963</td>\n      <td>21999305</td>\n      <td>OSNET Wireless Corp.</td>\n      <td>OSNET Wireless</td>\n      <td>OSNET Wireless Corp.</td>\n      <td>420091</td>\n      <td>Osnet Wireless Corp.</td>\n      <td>PR</td>\n      <td>720054006003006</td>\n      <td>70</td>\n      <td>1</td>\n      <td>30.0</td>\n      <td>10.0</td>\n      <td>1</td>\n      <td>720054006003</td>\n      <td>72</td>\n    </tr>\n    <tr>\n      <th>42151571</th>\n      <td>42151572</td>\n      <td>79963</td>\n      <td>21999305</td>\n      <td>OSNET Wireless Corp.</td>\n      <td>OSNET Wireless</td>\n      <td>OSNET Wireless Corp.</td>\n      <td>420091</td>\n      <td>Osnet Wireless Corp.</td>\n      <td>PR</td>\n      <td>720054006003005</td>\n      <td>70</td>\n      <td>1</td>\n      <td>30.0</td>\n      <td>10.0</td>\n      <td>1</td>\n      <td>720054006003</td>\n      <td>72</td>\n    </tr>\n    <tr>\n      <th>42151572</th>\n      <td>42151573</td>\n      <td>79963</td>\n      <td>21999305</td>\n      <td>OSNET Wireless Corp.</td>\n      <td>OSNET Wireless</td>\n      <td>OSNET Wireless Corp.</td>\n      <td>420091</td>\n      <td>Osnet Wireless Corp.</td>\n      <td>PR</td>\n      <td>720054006003004</td>\n      <td>70</td>\n      <td>1</td>\n      <td>30.0</td>\n      <td>10.0</td>\n      <td>1</td>\n      <td>720054006003</td>\n      <td>72</td>\n    </tr>\n    <tr>\n      <th>42151573</th>\n      <td>42151574</td>\n      <td>79963</td>\n      <td>21999305</td>\n      <td>OSNET Wireless Corp.</td>\n      <td>OSNET Wireless</td>\n      <td>OSNET Wireless Corp.</td>\n      <td>420091</td>\n      <td>Osnet Wireless Corp.</td>\n      <td>PR</td>\n      <td>720054006003003</td>\n      <td>70</td>\n      <td>1</td>\n      <td>30.0</td>\n      <td>10.0</td>\n      <td>1</td>\n      <td>720054006003</td>\n      <td>72</td>\n    </tr>\n    <tr>\n      <th>42151574</th>\n      <td>42151575</td>\n      <td>79963</td>\n      <td>21999305</td>\n      <td>OSNET Wireless Corp.</td>\n      <td>OSNET Wireless</td>\n      <td>OSNET Wireless Corp.</td>\n      <td>420091</td>\n      <td>Osnet Wireless Corp.</td>\n      <td>PR</td>\n      <td>720054006003002</td>\n      <td>70</td>\n      <td>1</td>\n      <td>30.0</td>\n      <td>10.0</td>\n      <td>1</td>\n      <td>720054006003</td>\n      <td>72</td>\n    </tr>\n  </tbody>\n</table>\n<p>15841979 rows × 17 columns</p>\n</div>"
     },
     "execution_count": 4,
     "metadata": {},
     "output_type": "execute_result"
    }
   ],
   "source": [
    "existing = pd.read_csv(\"data/existing_service.csv\", encoding=\"latin\")\n",
    "existing[\"bg\"] = existing[\"BlockCode\"]//1000\n",
    "existing  = existing.loc[(existing[\"MaxAdDown\"]>=25) & (existing[\"MaxAdUp\"]>=3) & (existing[\"TechCode\"]!=60)]\n",
    "existing[\"state\"] = existing[\"bg\"]//10000000000\n",
    "existing"
   ]
  },
  {
   "cell_type": "code",
   "execution_count": 5,
   "metadata": {
    "pycharm": {
     "name": "#%%\n"
    }
   },
   "outputs": [
    {
     "name": "stdout",
     "output_type": "stream",
     "text": [
      "219391\n",
      "61766\n",
      "61021\n"
     ]
    }
   ],
   "source": [
    "existing_bg = set(existing[\"bg\"].tolist())\n",
    "bid_bg = set(bids[\"census_id\"].tolist())\n",
    "print(len(existing_bg))\n",
    "print(len(bid_bg))\n",
    "print(len(existing_bg.intersection(bid_bg)))"
   ]
  },
  {
   "cell_type": "code",
   "execution_count": 6,
   "metadata": {
    "pycharm": {
     "name": "#%%\n"
    }
   },
   "outputs": [
    {
     "name": "stdout",
     "output_type": "stream",
     "text": [
      "61766\n",
      "        LogRecNo  Provider_Id      FRN                         ProviderName  \\\n",
      "307522    307523        59866  3576352  Frontier Communications Corporation   \n",
      "\n",
      "                                    DBAName  \\\n",
      "307522  Frontier Communications Corporation   \n",
      "\n",
      "                         HoldingCompanyName  HocoNum  \\\n",
      "307522  Frontier Communications Corporation   130258   \n",
      "\n",
      "                                  HocoFinal StateAbbr        BlockCode  \\\n",
      "307522  Frontier Communications Corporation        IL  170679543005184   \n",
      "\n",
      "        TechCode  Consumer  MaxAdDown  MaxAdUp  Business            bg  state  \n",
      "307522        12         1      115.0      7.0         1  170679543005     17  \n",
      "8063170\n",
      "786952\n",
      "292114\n",
      "[170679543005184, 170679543005185, 170679543005186, 170679543005187, 170679543005188]\n"
     ]
    }
   ],
   "source": [
    "eligible = pd.read_csv(\"data/auction904_updated_block_cbg.csv\")\n",
    "eligible_bg = eligible[\"cbg_id\"].tolist()\n",
    "print(len(set(eligible_bg)))\n",
    "eligible_b = eligible[\"block_id\"].tolist()\n",
    "existing_b = set(existing[\"BlockCode\"].tolist())\n",
    "print(existing.loc[existing[\"BlockCode\"] == 170679543005184])\n",
    "print(len(existing_b))\n",
    "print(len(eligible_b))\n",
    "intersect = existing_b.intersection(eligible_b)\n",
    "print(len(existing_b.intersection(eligible_b)))\n",
    "print(list(intersect)[:5])\n"
   ]
  },
  {
   "cell_type": "code",
   "execution_count": 7,
   "metadata": {},
   "outputs": [
    {
     "data": {
      "text/plain": "     STATEFP20 COUNTYFP20 TRACTCE20       GEOID20  \\\n0           12        086    008415  120860084151   \n1           12        086    008415  120860084152   \n2           12        086    008415  120860084153   \n3           12        086    016800  120860168002   \n4           12        086    016800  120860168001   \n...        ...        ...       ...           ...   \n3920        01        079    979501   10799795012   \n3921        01        079    979502   10799795023   \n3922        01        079    979201   10799792011   \n3923        01        079    979202   10799792022   \n3924        01        079    979501   10799795011   \n\n                                               geometry  \n0     POLYGON ((-80.36757 25.66494, -80.36491 25.665...  \n1     POLYGON ((-80.35607 25.66529, -80.35605 25.665...  \n2     POLYGON ((-80.36721 25.65017, -80.36511 25.650...  \n3     POLYGON ((-80.42949 25.71012, -80.42940 25.710...  \n4     POLYGON ((-80.43107 25.71388, -80.43044 25.713...  \n...                                                 ...  \n3920  POLYGON ((-87.20741 34.55710, -87.20740 34.557...  \n3921  POLYGON ((-87.24162 34.53591, -87.24161 34.536...  \n3922  POLYGON ((-87.43611 34.72743, -87.43610 34.727...  \n3923  POLYGON ((-87.45696 34.61352, -87.45693 34.613...  \n3924  POLYGON ((-87.15945 34.56001, -87.15944 34.560...  \n\n[242335 rows x 5 columns]",
      "text/html": "<div>\n<style scoped>\n    .dataframe tbody tr th:only-of-type {\n        vertical-align: middle;\n    }\n\n    .dataframe tbody tr th {\n        vertical-align: top;\n    }\n\n    .dataframe thead th {\n        text-align: right;\n    }\n</style>\n<table border=\"1\" class=\"dataframe\">\n  <thead>\n    <tr style=\"text-align: right;\">\n      <th></th>\n      <th>STATEFP20</th>\n      <th>COUNTYFP20</th>\n      <th>TRACTCE20</th>\n      <th>GEOID20</th>\n      <th>geometry</th>\n    </tr>\n  </thead>\n  <tbody>\n    <tr>\n      <th>0</th>\n      <td>12</td>\n      <td>086</td>\n      <td>008415</td>\n      <td>120860084151</td>\n      <td>POLYGON ((-80.36757 25.66494, -80.36491 25.665...</td>\n    </tr>\n    <tr>\n      <th>1</th>\n      <td>12</td>\n      <td>086</td>\n      <td>008415</td>\n      <td>120860084152</td>\n      <td>POLYGON ((-80.35607 25.66529, -80.35605 25.665...</td>\n    </tr>\n    <tr>\n      <th>2</th>\n      <td>12</td>\n      <td>086</td>\n      <td>008415</td>\n      <td>120860084153</td>\n      <td>POLYGON ((-80.36721 25.65017, -80.36511 25.650...</td>\n    </tr>\n    <tr>\n      <th>3</th>\n      <td>12</td>\n      <td>086</td>\n      <td>016800</td>\n      <td>120860168002</td>\n      <td>POLYGON ((-80.42949 25.71012, -80.42940 25.710...</td>\n    </tr>\n    <tr>\n      <th>4</th>\n      <td>12</td>\n      <td>086</td>\n      <td>016800</td>\n      <td>120860168001</td>\n      <td>POLYGON ((-80.43107 25.71388, -80.43044 25.713...</td>\n    </tr>\n    <tr>\n      <th>...</th>\n      <td>...</td>\n      <td>...</td>\n      <td>...</td>\n      <td>...</td>\n      <td>...</td>\n    </tr>\n    <tr>\n      <th>3920</th>\n      <td>01</td>\n      <td>079</td>\n      <td>979501</td>\n      <td>10799795012</td>\n      <td>POLYGON ((-87.20741 34.55710, -87.20740 34.557...</td>\n    </tr>\n    <tr>\n      <th>3921</th>\n      <td>01</td>\n      <td>079</td>\n      <td>979502</td>\n      <td>10799795023</td>\n      <td>POLYGON ((-87.24162 34.53591, -87.24161 34.536...</td>\n    </tr>\n    <tr>\n      <th>3922</th>\n      <td>01</td>\n      <td>079</td>\n      <td>979201</td>\n      <td>10799792011</td>\n      <td>POLYGON ((-87.43611 34.72743, -87.43610 34.727...</td>\n    </tr>\n    <tr>\n      <th>3923</th>\n      <td>01</td>\n      <td>079</td>\n      <td>979202</td>\n      <td>10799792022</td>\n      <td>POLYGON ((-87.45696 34.61352, -87.45693 34.613...</td>\n    </tr>\n    <tr>\n      <th>3924</th>\n      <td>01</td>\n      <td>079</td>\n      <td>979501</td>\n      <td>10799795011</td>\n      <td>POLYGON ((-87.15945 34.56001, -87.15944 34.560...</td>\n    </tr>\n  </tbody>\n</table>\n<p>242335 rows × 5 columns</p>\n</div>"
     },
     "execution_count": 7,
     "metadata": {},
     "output_type": "execute_result"
    }
   ],
   "source": [
    "shapefiles = glob(\"data/all_data/*.shp\")\n",
    "county_shapes = []\n",
    "for file in  shapefiles:\n",
    "    county_shapes.append(geopandas.read_file(file))\n",
    "\n",
    "county_shapes = pd.concat(county_shapes)[[\"STATEFP20\", \"COUNTYFP20\", \"TRACTCE20\",\"GEOID20\", \"geometry\"]]\n",
    "county_shapes[\"GEOID20\"] = pd.to_numeric(county_shapes[\"GEOID20\"])\n",
    "county_shapes"
   ]
  },
  {
   "cell_type": "code",
   "execution_count": 8,
   "metadata": {
    "pycharm": {
     "name": "#%%\n"
    }
   },
   "outputs": [
    {
     "data": {
      "text/plain": "   STATEFP20                                           geometry  \\\n0         01  POLYGON ((-85.24009 31.00088, -85.24204 31.000...   \n1         02  MULTIPOLYGON (((-179.23023 51.28393, -179.2256...   \n2         04  POLYGON ((-109.49449 31.33398, -109.49874 31.3...   \n3         05  POLYGON ((-91.19596 33.13342, -91.19609 33.133...   \n4         06  MULTIPOLYGON (((-119.63607 33.28071, -119.6347...   \n5         08  POLYGON ((-104.43399 36.99374, -104.43521 36.9...   \n6         09  POLYGON ((-73.64983 40.97920, -73.65637 40.984...   \n7         10  POLYGON ((-75.42864 38.45277, -75.43031 38.452...   \n8         11  POLYGON ((-77.03919 38.80050, -77.03913 38.800...   \n9         12  MULTIPOLYGON (((-83.10874 24.62949, -83.10711 ...   \n10        13  POLYGON ((-82.41891 30.58177, -82.42177 30.581...   \n11        15  MULTIPOLYGON (((-155.01851 19.27753, -155.0261...   \n12        16  POLYGON ((-113.76472 41.98946, -113.76542 41.9...   \n13        17  POLYGON ((-90.45081 38.96777, -90.45128 38.967...   \n14        18  POLYGON ((-85.90528 38.08894, -85.90531 38.088...   \n15        19  POLYGON ((-94.91490 40.57507, -94.92111 40.575...   \n16        20  POLYGON ((-101.86268 36.99379, -101.86340 36.9...   \n17        21  MULTIPOLYGON (((-89.57120 36.55214, -89.57114 ...   \n18        22  POLYGON ((-88.87923 29.64741, -88.89729 29.629...   \n19        23  POLYGON ((-70.60619 42.97287, -70.60865 42.975...   \n20        24  POLYGON ((-75.04760 38.45126, -75.03931 38.451...   \n21        25  POLYGON ((-73.29633 42.04701, -73.30428 42.047...   \n22        26  POLYGON ((-86.74617 41.75990, -86.74666 41.759...   \n23        27  POLYGON ((-91.73022 43.50081, -91.73033 43.500...   \n24        28  POLYGON ((-89.61693 30.22767, -89.61683 30.228...   \n25        29  POLYGON ((-91.67233 36.49939, -91.68536 36.499...   \n26        30  POLYGON ((-113.57645 45.13207, -113.57582 45.1...   \n27        31  POLYGON ((-104.05351 41.15726, -104.05342 41.1...   \n28        32  POLYGON ((-114.61749 35.05170, -114.61761 35.0...   \n29        33  POLYGON ((-72.08932 42.71655, -72.09837 42.716...   \n30        34  POLYGON ((-74.46493 39.29823, -74.46906 39.294...   \n31        35  POLYGON ((-103.06480 32.71382, -103.06479 32.7...   \n32        36  MULTIPOLYGON (((-74.04721 40.69089, -74.04719 ...   \n33        37  POLYGON ((-81.60900 35.17435, -81.60954 35.174...   \n34        38  POLYGON ((-102.65234 45.94527, -102.65393 45.9...   \n35        39  POLYGON ((-81.92835 38.89537, -81.92822 38.896...   \n36        40  POLYGON ((-98.12104 34.08127, -98.12041 34.082...   \n37        41  POLYGON ((-117.50668 41.99927, -117.51196 41.9...   \n38        42  POLYGON ((-75.39842 39.81047, -75.40321 39.807...   \n39        44  MULTIPOLYGON (((-71.67881 41.15891, -71.67626 ...   \n40        45  POLYGON ((-80.74554 32.07867, -80.74329 32.072...   \n41        46  POLYGON ((-102.08249 42.99936, -102.08255 42.9...   \n42        47  POLYGON ((-84.31763 35.02186, -84.31764 35.021...   \n43        48  POLYGON ((-104.35329 29.53008, -104.35444 29.5...   \n44        49  POLYGON ((-111.63507 37.00139, -111.63515 37.0...   \n45        50  POLYGON ((-73.29094 42.80192, -73.28930 42.804...   \n46        51  POLYGON ((-83.34682 36.59764, -83.34692 36.597...   \n47        53  POLYGON ((-117.05370 46.34458, -117.05344 46.3...   \n48        54  POLYGON ((-80.63186 37.43223, -80.63236 37.432...   \n49        55  POLYGON ((-90.42638 42.50717, -90.43701 42.507...   \n50        56  POLYGON ((-111.04682 41.15602, -111.04682 41.1...   \n51        72  MULTIPOLYGON (((-67.99869 18.17076, -67.99869 ...   \n\n                             neighbors  \n0                   01, 12, 13, 28, 47  \n1                                   02  \n2               04, 06, 08, 32, 35, 49  \n3           05, 22, 28, 29, 40, 47, 48  \n4                       04, 06, 32, 41  \n5       04, 08, 20, 31, 35, 40, 49, 56  \n6                       09, 25, 36, 44  \n7                       10, 24, 34, 42  \n8                           11, 24, 51  \n9                           01, 12, 13  \n10              01, 12, 13, 37, 45, 47  \n11                                  15  \n12          16, 30, 32, 41, 49, 53, 56  \n13          17, 18, 19, 21, 26, 29, 55  \n14                  17, 18, 21, 26, 39  \n15          17, 19, 27, 29, 31, 46, 55  \n16                  08, 20, 29, 31, 40  \n17      17, 18, 21, 29, 39, 47, 51, 54  \n18                      05, 22, 28, 48  \n19                              23, 33  \n20              10, 11, 24, 42, 51, 54  \n21              09, 25, 33, 36, 44, 50  \n22              17, 18, 26, 27, 39, 55  \n23              19, 26, 27, 38, 46, 55  \n24                  01, 05, 22, 28, 47  \n25  05, 17, 19, 20, 21, 29, 31, 40, 47  \n26                  16, 30, 38, 46, 56  \n27          08, 19, 20, 29, 31, 46, 56  \n28              04, 06, 16, 32, 41, 49  \n29                      23, 25, 33, 50  \n30                      10, 34, 36, 42  \n31              04, 08, 35, 40, 48, 49  \n32          09, 25, 34, 36, 42, 44, 50  \n33                  13, 37, 45, 47, 51  \n34                      27, 30, 38, 46  \n35              18, 21, 26, 39, 42, 54  \n36          05, 08, 20, 29, 35, 40, 48  \n37                  06, 16, 32, 41, 53  \n38          10, 24, 34, 36, 39, 42, 54  \n39                      09, 25, 36, 44  \n40                          13, 37, 45  \n41          19, 27, 30, 31, 38, 46, 56  \n42  01, 05, 13, 21, 28, 29, 37, 47, 51  \n43                  05, 22, 35, 40, 48  \n44          04, 08, 16, 32, 35, 49, 56  \n45                      25, 33, 36, 50  \n46          11, 21, 24, 37, 47, 51, 54  \n47                          16, 41, 53  \n48              21, 24, 39, 42, 51, 54  \n49                  17, 19, 26, 27, 55  \n50          08, 16, 30, 31, 46, 49, 56  \n51                                  72  ",
      "text/html": "<div>\n<style scoped>\n    .dataframe tbody tr th:only-of-type {\n        vertical-align: middle;\n    }\n\n    .dataframe tbody tr th {\n        vertical-align: top;\n    }\n\n    .dataframe thead th {\n        text-align: right;\n    }\n</style>\n<table border=\"1\" class=\"dataframe\">\n  <thead>\n    <tr style=\"text-align: right;\">\n      <th></th>\n      <th>STATEFP20</th>\n      <th>geometry</th>\n      <th>neighbors</th>\n    </tr>\n  </thead>\n  <tbody>\n    <tr>\n      <th>0</th>\n      <td>01</td>\n      <td>POLYGON ((-85.24009 31.00088, -85.24204 31.000...</td>\n      <td>01, 12, 13, 28, 47</td>\n    </tr>\n    <tr>\n      <th>1</th>\n      <td>02</td>\n      <td>MULTIPOLYGON (((-179.23023 51.28393, -179.2256...</td>\n      <td>02</td>\n    </tr>\n    <tr>\n      <th>2</th>\n      <td>04</td>\n      <td>POLYGON ((-109.49449 31.33398, -109.49874 31.3...</td>\n      <td>04, 06, 08, 32, 35, 49</td>\n    </tr>\n    <tr>\n      <th>3</th>\n      <td>05</td>\n      <td>POLYGON ((-91.19596 33.13342, -91.19609 33.133...</td>\n      <td>05, 22, 28, 29, 40, 47, 48</td>\n    </tr>\n    <tr>\n      <th>4</th>\n      <td>06</td>\n      <td>MULTIPOLYGON (((-119.63607 33.28071, -119.6347...</td>\n      <td>04, 06, 32, 41</td>\n    </tr>\n    <tr>\n      <th>5</th>\n      <td>08</td>\n      <td>POLYGON ((-104.43399 36.99374, -104.43521 36.9...</td>\n      <td>04, 08, 20, 31, 35, 40, 49, 56</td>\n    </tr>\n    <tr>\n      <th>6</th>\n      <td>09</td>\n      <td>POLYGON ((-73.64983 40.97920, -73.65637 40.984...</td>\n      <td>09, 25, 36, 44</td>\n    </tr>\n    <tr>\n      <th>7</th>\n      <td>10</td>\n      <td>POLYGON ((-75.42864 38.45277, -75.43031 38.452...</td>\n      <td>10, 24, 34, 42</td>\n    </tr>\n    <tr>\n      <th>8</th>\n      <td>11</td>\n      <td>POLYGON ((-77.03919 38.80050, -77.03913 38.800...</td>\n      <td>11, 24, 51</td>\n    </tr>\n    <tr>\n      <th>9</th>\n      <td>12</td>\n      <td>MULTIPOLYGON (((-83.10874 24.62949, -83.10711 ...</td>\n      <td>01, 12, 13</td>\n    </tr>\n    <tr>\n      <th>10</th>\n      <td>13</td>\n      <td>POLYGON ((-82.41891 30.58177, -82.42177 30.581...</td>\n      <td>01, 12, 13, 37, 45, 47</td>\n    </tr>\n    <tr>\n      <th>11</th>\n      <td>15</td>\n      <td>MULTIPOLYGON (((-155.01851 19.27753, -155.0261...</td>\n      <td>15</td>\n    </tr>\n    <tr>\n      <th>12</th>\n      <td>16</td>\n      <td>POLYGON ((-113.76472 41.98946, -113.76542 41.9...</td>\n      <td>16, 30, 32, 41, 49, 53, 56</td>\n    </tr>\n    <tr>\n      <th>13</th>\n      <td>17</td>\n      <td>POLYGON ((-90.45081 38.96777, -90.45128 38.967...</td>\n      <td>17, 18, 19, 21, 26, 29, 55</td>\n    </tr>\n    <tr>\n      <th>14</th>\n      <td>18</td>\n      <td>POLYGON ((-85.90528 38.08894, -85.90531 38.088...</td>\n      <td>17, 18, 21, 26, 39</td>\n    </tr>\n    <tr>\n      <th>15</th>\n      <td>19</td>\n      <td>POLYGON ((-94.91490 40.57507, -94.92111 40.575...</td>\n      <td>17, 19, 27, 29, 31, 46, 55</td>\n    </tr>\n    <tr>\n      <th>16</th>\n      <td>20</td>\n      <td>POLYGON ((-101.86268 36.99379, -101.86340 36.9...</td>\n      <td>08, 20, 29, 31, 40</td>\n    </tr>\n    <tr>\n      <th>17</th>\n      <td>21</td>\n      <td>MULTIPOLYGON (((-89.57120 36.55214, -89.57114 ...</td>\n      <td>17, 18, 21, 29, 39, 47, 51, 54</td>\n    </tr>\n    <tr>\n      <th>18</th>\n      <td>22</td>\n      <td>POLYGON ((-88.87923 29.64741, -88.89729 29.629...</td>\n      <td>05, 22, 28, 48</td>\n    </tr>\n    <tr>\n      <th>19</th>\n      <td>23</td>\n      <td>POLYGON ((-70.60619 42.97287, -70.60865 42.975...</td>\n      <td>23, 33</td>\n    </tr>\n    <tr>\n      <th>20</th>\n      <td>24</td>\n      <td>POLYGON ((-75.04760 38.45126, -75.03931 38.451...</td>\n      <td>10, 11, 24, 42, 51, 54</td>\n    </tr>\n    <tr>\n      <th>21</th>\n      <td>25</td>\n      <td>POLYGON ((-73.29633 42.04701, -73.30428 42.047...</td>\n      <td>09, 25, 33, 36, 44, 50</td>\n    </tr>\n    <tr>\n      <th>22</th>\n      <td>26</td>\n      <td>POLYGON ((-86.74617 41.75990, -86.74666 41.759...</td>\n      <td>17, 18, 26, 27, 39, 55</td>\n    </tr>\n    <tr>\n      <th>23</th>\n      <td>27</td>\n      <td>POLYGON ((-91.73022 43.50081, -91.73033 43.500...</td>\n      <td>19, 26, 27, 38, 46, 55</td>\n    </tr>\n    <tr>\n      <th>24</th>\n      <td>28</td>\n      <td>POLYGON ((-89.61693 30.22767, -89.61683 30.228...</td>\n      <td>01, 05, 22, 28, 47</td>\n    </tr>\n    <tr>\n      <th>25</th>\n      <td>29</td>\n      <td>POLYGON ((-91.67233 36.49939, -91.68536 36.499...</td>\n      <td>05, 17, 19, 20, 21, 29, 31, 40, 47</td>\n    </tr>\n    <tr>\n      <th>26</th>\n      <td>30</td>\n      <td>POLYGON ((-113.57645 45.13207, -113.57582 45.1...</td>\n      <td>16, 30, 38, 46, 56</td>\n    </tr>\n    <tr>\n      <th>27</th>\n      <td>31</td>\n      <td>POLYGON ((-104.05351 41.15726, -104.05342 41.1...</td>\n      <td>08, 19, 20, 29, 31, 46, 56</td>\n    </tr>\n    <tr>\n      <th>28</th>\n      <td>32</td>\n      <td>POLYGON ((-114.61749 35.05170, -114.61761 35.0...</td>\n      <td>04, 06, 16, 32, 41, 49</td>\n    </tr>\n    <tr>\n      <th>29</th>\n      <td>33</td>\n      <td>POLYGON ((-72.08932 42.71655, -72.09837 42.716...</td>\n      <td>23, 25, 33, 50</td>\n    </tr>\n    <tr>\n      <th>30</th>\n      <td>34</td>\n      <td>POLYGON ((-74.46493 39.29823, -74.46906 39.294...</td>\n      <td>10, 34, 36, 42</td>\n    </tr>\n    <tr>\n      <th>31</th>\n      <td>35</td>\n      <td>POLYGON ((-103.06480 32.71382, -103.06479 32.7...</td>\n      <td>04, 08, 35, 40, 48, 49</td>\n    </tr>\n    <tr>\n      <th>32</th>\n      <td>36</td>\n      <td>MULTIPOLYGON (((-74.04721 40.69089, -74.04719 ...</td>\n      <td>09, 25, 34, 36, 42, 44, 50</td>\n    </tr>\n    <tr>\n      <th>33</th>\n      <td>37</td>\n      <td>POLYGON ((-81.60900 35.17435, -81.60954 35.174...</td>\n      <td>13, 37, 45, 47, 51</td>\n    </tr>\n    <tr>\n      <th>34</th>\n      <td>38</td>\n      <td>POLYGON ((-102.65234 45.94527, -102.65393 45.9...</td>\n      <td>27, 30, 38, 46</td>\n    </tr>\n    <tr>\n      <th>35</th>\n      <td>39</td>\n      <td>POLYGON ((-81.92835 38.89537, -81.92822 38.896...</td>\n      <td>18, 21, 26, 39, 42, 54</td>\n    </tr>\n    <tr>\n      <th>36</th>\n      <td>40</td>\n      <td>POLYGON ((-98.12104 34.08127, -98.12041 34.082...</td>\n      <td>05, 08, 20, 29, 35, 40, 48</td>\n    </tr>\n    <tr>\n      <th>37</th>\n      <td>41</td>\n      <td>POLYGON ((-117.50668 41.99927, -117.51196 41.9...</td>\n      <td>06, 16, 32, 41, 53</td>\n    </tr>\n    <tr>\n      <th>38</th>\n      <td>42</td>\n      <td>POLYGON ((-75.39842 39.81047, -75.40321 39.807...</td>\n      <td>10, 24, 34, 36, 39, 42, 54</td>\n    </tr>\n    <tr>\n      <th>39</th>\n      <td>44</td>\n      <td>MULTIPOLYGON (((-71.67881 41.15891, -71.67626 ...</td>\n      <td>09, 25, 36, 44</td>\n    </tr>\n    <tr>\n      <th>40</th>\n      <td>45</td>\n      <td>POLYGON ((-80.74554 32.07867, -80.74329 32.072...</td>\n      <td>13, 37, 45</td>\n    </tr>\n    <tr>\n      <th>41</th>\n      <td>46</td>\n      <td>POLYGON ((-102.08249 42.99936, -102.08255 42.9...</td>\n      <td>19, 27, 30, 31, 38, 46, 56</td>\n    </tr>\n    <tr>\n      <th>42</th>\n      <td>47</td>\n      <td>POLYGON ((-84.31763 35.02186, -84.31764 35.021...</td>\n      <td>01, 05, 13, 21, 28, 29, 37, 47, 51</td>\n    </tr>\n    <tr>\n      <th>43</th>\n      <td>48</td>\n      <td>POLYGON ((-104.35329 29.53008, -104.35444 29.5...</td>\n      <td>05, 22, 35, 40, 48</td>\n    </tr>\n    <tr>\n      <th>44</th>\n      <td>49</td>\n      <td>POLYGON ((-111.63507 37.00139, -111.63515 37.0...</td>\n      <td>04, 08, 16, 32, 35, 49, 56</td>\n    </tr>\n    <tr>\n      <th>45</th>\n      <td>50</td>\n      <td>POLYGON ((-73.29094 42.80192, -73.28930 42.804...</td>\n      <td>25, 33, 36, 50</td>\n    </tr>\n    <tr>\n      <th>46</th>\n      <td>51</td>\n      <td>POLYGON ((-83.34682 36.59764, -83.34692 36.597...</td>\n      <td>11, 21, 24, 37, 47, 51, 54</td>\n    </tr>\n    <tr>\n      <th>47</th>\n      <td>53</td>\n      <td>POLYGON ((-117.05370 46.34458, -117.05344 46.3...</td>\n      <td>16, 41, 53</td>\n    </tr>\n    <tr>\n      <th>48</th>\n      <td>54</td>\n      <td>POLYGON ((-80.63186 37.43223, -80.63236 37.432...</td>\n      <td>21, 24, 39, 42, 51, 54</td>\n    </tr>\n    <tr>\n      <th>49</th>\n      <td>55</td>\n      <td>POLYGON ((-90.42638 42.50717, -90.43701 42.507...</td>\n      <td>17, 19, 26, 27, 55</td>\n    </tr>\n    <tr>\n      <th>50</th>\n      <td>56</td>\n      <td>POLYGON ((-111.04682 41.15602, -111.04682 41.1...</td>\n      <td>08, 16, 30, 31, 46, 49, 56</td>\n    </tr>\n    <tr>\n      <th>51</th>\n      <td>72</td>\n      <td>MULTIPOLYGON (((-67.99869 18.17076, -67.99869 ...</td>\n      <td>72</td>\n    </tr>\n  </tbody>\n</table>\n</div>"
     },
     "execution_count": 8,
     "metadata": {},
     "output_type": "execute_result"
    }
   ],
   "source": [
    "state_shapes = county_shapes.groupby(\"STATEFP20\")[\"geometry\"].apply(list).reset_index(name=\"geometry\")\n",
    "state_shapes[\"geometry\"] = state_shapes[\"geometry\"].apply(cascaded_union)\n",
    "state_shapes = geopandas.GeoDataFrame(state_shapes)\n",
    "for index, row in state_shapes.iterrows():\n",
    "    neighbors = state_shapes[~state_shapes.geometry.disjoint(row['geometry'])]\n",
    "    state_shapes.at[index, \"neighbors\"] = \", \".join(neighbors.STATEFP20.tolist())\n",
    "state_shapes"
   ]
  },
  {
   "cell_type": "code",
   "execution_count": null,
   "metadata": {
    "pycharm": {
     "is_executing": true
    }
   },
   "outputs": [],
   "source": [
    "with open(\"neighbors.log\", \"w\") as log:\n",
    "    total_time = 0\n",
    "    processed_bid_dict = {}\n",
    "    for state_code in state_shapes[\"STATEFP20\"].tolist():\n",
    "        start = time.time()\n",
    "\n",
    "        state_bids = bids.loc[bids[\"state\"]==int(state_code)]\n",
    "        state_bids = state_bids.groupby(\"census_id\")[\"bidder\"].apply(set).reset_index(name=\"bidder\")\n",
    "        state_bids = state_bids.merge(county_shapes, left_on=\"census_id\", right_on=\"GEOID20\")\n",
    "\n",
    "        neighbors = state_shapes.loc[state_shapes[\"STATEFP20\"] == state_code][\"neighbors\"].item().split(\", \")\n",
    "        neighbors = [int(n) for n in neighbors]\n",
    "        state_existing = existing.loc[existing[\"state\"].isin(neighbors)]\n",
    "        state_existing = state_existing.groupby(\"bg\")[\"DBAName\"].apply(set).reset_index(name=\"DBAName\")\n",
    "        state_existing = state_existing.merge(county_shapes, left_on=\"bg\", right_on=\"GEOID20\")\n",
    "        state_existing = geopandas.GeoDataFrame(state_existing)\n",
    "\n",
    "        for index, row in state_bids.iterrows():\n",
    "            neighbors = state_existing[~state_existing.geometry.disjoint(row['geometry'])]\n",
    "            ids = neighbors.GEOID20.tolist()\n",
    "            names = neighbors.DBAName.tolist()\n",
    "            out = {}\n",
    "            for idx, name_list in zip(ids, names):\n",
    "                for name in name_list:\n",
    "                    running = out.get(name, [])\n",
    "                    running.append(idx)\n",
    "                    out[name] = running\n",
    "            state_bids.at[index, \"neighbors\"] = [out]\n",
    "        state_time = time.time()-start\n",
    "        log.write(f\"{state_code} {state_time}\\n\")\n",
    "        total_time += state_time\n",
    "        processed_bid_dict[state_code] = state_bids\n",
    "\n",
    "    log.write(\"final time\", time.time()-start)\n"
   ]
  },
  {
   "cell_type": "code",
   "execution_count": null,
   "metadata": {
    "pycharm": {
     "name": "#%%\n",
     "is_executing": true
    }
   },
   "outputs": [],
   "source": [
    "with open('neighbors.pkl', 'wb') as f:\n",
    "    pickle.dump(f, processed_bid_dict)"
   ]
  },
  {
   "cell_type": "code",
   "execution_count": null,
   "outputs": [],
   "source": [],
   "metadata": {
    "collapsed": false,
    "pycharm": {
     "name": "#%%\n",
     "is_executing": true
    }
   }
  }
 ],
 "metadata": {
  "kernelspec": {
   "display_name": "Python 3 (ipykernel)",
   "language": "python",
   "name": "python3"
  },
  "language_info": {
   "codemirror_mode": {
    "name": "ipython",
    "version": 3
   },
   "file_extension": ".py",
   "mimetype": "text/x-python",
   "name": "python",
   "nbconvert_exporter": "python",
   "pygments_lexer": "ipython3",
   "version": "3.8.2"
  }
 },
 "nbformat": 4,
 "nbformat_minor": 1
}