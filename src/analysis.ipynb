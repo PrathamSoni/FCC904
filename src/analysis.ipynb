{
 "cells": [
  {
   "cell_type": "code",
   "execution_count": 7,
   "outputs": [],
   "source": [
    "from bids import get_composite_table, get_collapsed_bid_table, get_processed_bids, get_census\n",
    "from utils import  run_ols\n",
    "import matplotlib.pyplot as plt"
   ],
   "metadata": {
    "collapsed": false,
    "pycharm": {
     "name": "#%%\n"
    }
   }
  },
  {
   "cell_type": "code",
   "execution_count": 8,
   "outputs": [],
   "source": [
    "processed_bids = get_processed_bids(*[None]*5)\n",
    "collapsed_bids = get_collapsed_bid_table(None)\n",
    "composite_table = get_composite_table(None)"
   ],
   "metadata": {
    "collapsed": false,
    "pycharm": {
     "name": "#%%\n"
    }
   }
  },
  {
   "cell_type": "code",
   "execution_count": 9,
   "outputs": [
    {
     "name": "stdout",
     "output_type": "stream",
     "text": [
      "neighbor status all bids\n",
      "0    207299\n",
      "1     10337\n",
      "2     24898\n",
      "3    181597\n",
      "Name: neighbor_status, dtype: int64\n",
      "neighbor status winning bids\n",
      "0    26034\n",
      "1     2782\n",
      "2     8939\n",
      "3    19399\n",
      "Name: neighbor_status, dtype: int64\n",
      "cbg competition bidders\n",
      "0         2\n",
      "1       149\n",
      "2      2203\n",
      "3     34991\n",
      "4     17056\n",
      "5      5474\n",
      "6      1440\n",
      "7       350\n",
      "8        66\n",
      "9         8\n",
      "10        2\n",
      "Name: competition bidders, dtype: int64\n",
      "finishing round\n",
      "12.0     1893\n",
      "13.0    32628\n",
      "14.0     4481\n",
      "15.0     3686\n",
      "16.0     2376\n",
      "17.0     5380\n",
      "18.0     2252\n",
      "19.0     4458\n",
      "Name: round, dtype: int64\n",
      "cbg won\n",
      "True     57154\n",
      "False     4587\n",
      "Name: winner, dtype: int64\n"
     ]
    },
    {
     "data": {
      "text/plain": "<Figure size 432x288 with 1 Axes>",
      "image/png": "[encoded data removed]"
     },
     "metadata": {
      "needs_background": "light"
     },
     "output_type": "display_data"
    }
   ],
   "source": [
    "print(\"neighbor status all bids\")\n",
    "print(processed_bids[\"neighbor_status\"].value_counts().sort_index())\n",
    "print(\"neighbor status winning bids\")\n",
    "print(processed_bids[processed_bids[\"winner\"]][\"neighbor_status\"].value_counts().sort_index())\n",
    "print(\"cbg competition bidders\")\n",
    "print(collapsed_bids[\"competition bidders\"].value_counts().sort_index())\n",
    "print(\"finishing round\")\n",
    "print(collapsed_bids[\"round\"].value_counts().sort_index())\n",
    "print(\"cbg won\")\n",
    "print((~collapsed_bids[\"winner\"].isna()).value_counts())\n",
    "\n",
    "plt.violinplot([processed_bids[processed_bids.neighbor_status == 0][\"round\"].values,\n",
    "                processed_bids[processed_bids.neighbor_status == 1][\"round\"].values,\n",
    "                processed_bids[processed_bids.neighbor_status == 2][\"round\"].values,\n",
    "                processed_bids[processed_bids.neighbor_status == 3][\"round\"].values],\n",
    "               range(0, 4))\n",
    "plt.show()"
   ],
   "metadata": {
    "collapsed": false,
    "pycharm": {
     "name": "#%%\n"
    }
   }
  },
  {
   "cell_type": "code",
   "execution_count": 10,
   "outputs": [
    {
     "name": "stdout",
     "output_type": "stream",
     "text": [
      "                            OLS Regression Results                            \n",
      "==============================================================================\n",
      "Dep. Variable:                  round   R-squared:                       0.121\n",
      "Model:                            OLS   Adj. R-squared:                  0.121\n",
      "Method:                 Least Squares   F-statistic:                     807.8\n",
      "Date:                Thu, 19 Jan 2023   Prob (F-statistic):               0.00\n",
      "Time:                        02:46:08   Log-Likelihood:            -1.7527e+05\n",
      "No. Observations:               99409   AIC:                         3.506e+05\n",
      "Df Residuals:                   99391   BIC:                         3.508e+05\n",
      "Df Model:                          17                                         \n",
      "Covariance Type:            nonrobust                                         \n",
      "========================================================================================================\n",
      "                                           coef    std err          t      P>|t|      [0.025      0.975]\n",
      "--------------------------------------------------------------------------------------------------------\n",
      "Intercept                               16.2584      0.026    620.511      0.000      16.207      16.310\n",
      "B01001e1                             -3.115e-05   3.88e-06     -8.030      0.000   -3.88e-05   -2.35e-05\n",
      "B01002e1                                 0.0065      0.001     12.468      0.000       0.005       0.008\n",
      "second_neighbor_dummy                   -0.1847      0.024     -7.592      0.000      -0.232      -0.137\n",
      "second_existing_dummy                   -0.0229      0.018     -1.299      0.194      -0.057       0.012\n",
      "second_sat_dummy                        -1.0395      0.012    -88.696      0.000      -1.062      -1.017\n",
      "neighbor_dummy                           0.4658      0.036     12.985      0.000       0.396       0.536\n",
      "existing_dummy                           0.4360      0.026     16.945      0.000       0.386       0.486\n",
      "sat_dummy                               -0.5168      0.019    -27.716      0.000      -0.553      -0.480\n",
      "neighbor_dummy:second_neighbor_dummy     0.5380      0.049     11.032      0.000       0.442       0.634\n",
      "neighbor_dummy:second_existing_dummy    -0.1622      0.067     -2.417      0.016      -0.294      -0.031\n",
      "neighbor_dummy:second_sat_dummy         -0.4741      0.041    -11.430      0.000      -0.555      -0.393\n",
      "existing_dummy:second_neighbor_dummy    -0.2940      0.065     -4.534      0.000      -0.421      -0.167\n",
      "existing_dummy:second_existing_dummy     0.2749      0.032      8.629      0.000       0.212       0.337\n",
      "existing_dummy:second_sat_dummy         -0.3447      0.029    -12.049      0.000      -0.401      -0.289\n",
      "sat_dummy:second_neighbor_dummy          0.2974      0.046      6.426      0.000       0.207       0.388\n",
      "sat_dummy:second_existing_dummy          0.1715      0.032      5.332      0.000       0.108       0.234\n",
      "sat_dummy:second_sat_dummy               0.7836      0.023     34.466      0.000       0.739       0.828\n",
      "==============================================================================\n",
      "Omnibus:                    12457.620   Durbin-Watson:                   1.457\n",
      "Prob(Omnibus):                  0.000   Jarque-Bera (JB):             3216.693\n",
      "Skew:                           0.014   Prob(JB):                         0.00\n",
      "Kurtosis:                       2.119   Cond. No.                     2.95e+04\n",
      "==============================================================================\n",
      "\n",
      "Notes:\n",
      "[1] Standard Errors assume that the covariance matrix of the errors is correctly specified.\n",
      "[2] The condition number is large, 2.95e+04. This might indicate that there are\n",
      "strong multicollinearity or other numerical problems.\n"
     ]
    }
   ],
   "source": [
    "formula = \"round ~ B01001e1 + B01002e1 + second_neighbor_dummy + second_existing_dummy + second_sat_dummy + neighbor_dummy+ existing_dummy+ sat_dummy + (neighbor_dummy+ existing_dummy+ sat_dummy) * (second_neighbor_dummy + second_existing_dummy + second_sat_dummy)\"\n",
    "result = run_ols(formula, composite_table[composite_table[\"round\"] > 13])"
   ],
   "metadata": {
    "collapsed": false,
    "pycharm": {
     "name": "#%%\n"
    }
   }
  },
  {
   "cell_type": "code",
   "execution_count": null,
   "outputs": [],
   "source": [],
   "metadata": {
    "collapsed": false,
    "pycharm": {
     "name": "#%%\n"
    }
   }
  }
 ],
 "metadata": {
  "kernelspec": {
   "display_name": "Python 3",
   "language": "python",
   "name": "python3"
  },
  "language_info": {
   "codemirror_mode": {
    "name": "ipython",
    "version": 2
   },
   "file_extension": ".py",
   "mimetype": "text/x-python",
   "name": "python",
   "nbconvert_exporter": "python",
   "pygments_lexer": "ipython2",
   "version": "2.7.6"
  }
 },
 "nbformat": 4,
 "nbformat_minor": 0
}