{
 "cells": [
  {
   "cell_type": "code",
   "execution_count": null,
   "metadata": {
    "collapsed": true
   },
   "outputs": [],
   "source": [
    "state = \"29\"\n",
    "selected_bidder = \"Mark Twain Communications Company\"\n",
    "df = geopandas.GeoDataFrame(columns=['color', 'geometry'])\n",
    "df1 = geopandas.GeoDataFrame(columns=['color', 'geometry'])\n",
    "df2 = geopandas.GeoDataFrame(columns=['color', 'geometry'])\n",
    "df3 = geopandas.GeoDataFrame(columns=['color', 'geometry'])\n",
    "df4 = geopandas.GeoDataFrame(columns=['color', 'geometry'])\n",
    "\n",
    "df.loc[0] = ['green', state_shapes.loc[state_shapes[\"STATEFP\"] == state].geometry.item()]\n",
    "\n",
    "n = set(all_neighbors[state][selected_bidder])\n",
    "b = set(all_bidders[state][selected_bidder])\n",
    "combined = n.intersection(b)\n",
    "\n",
    "df1[\"geometry\"] = county_shapes.loc[county_shapes.GEOID.isin(n)].geometry\n",
    "df1[\"color\"] = \"red\"\n",
    "\n",
    "df2[\"geometry\"] = county_shapes.loc[county_shapes.GEOID.isin(b)].geometry\n",
    "df2[\"color\"] = \"blue\"\n",
    "\n",
    "df3[\"geometry\"] = county_shapes.loc[county_shapes.GEOID.isin(combined)].geometry\n",
    "df3[\"color\"] = \"purple\"\n",
    "\n",
    "df = pd.concat([df, df1, df2, df3])\n",
    "\n",
    "df.plot(color=df['color'], figsize=(20, 15))"
   ]
  },
  {
   "cell_type": "code",
   "execution_count": null,
   "outputs": [],
   "source": [
    "df = geopandas.GeoDataFrame(columns=['color', 'geometry'])\n",
    "df1 = geopandas.GeoDataFrame(columns=['color', 'geometry'])\n",
    "df2 = geopandas.GeoDataFrame(columns=['color', 'geometry'])\n",
    "df3 = geopandas.GeoDataFrame(columns=['color', 'geometry'])\n",
    "df4 = geopandas.GeoDataFrame(columns=['color', 'geometry'])\n",
    "df5 = geopandas.GeoDataFrame(columns=['color', 'geometry'])\n",
    "\n",
    "df.loc[0] = ['green', state_shapes.loc[state_shapes[\"STATEFP\"] == state].geometry.item()]\n",
    "\n",
    "bid = set([bg.bg for bg in processed_bid_dict_by_state[state]])\n",
    "elig = set(eligible.loc[eligible.state_abbreviation==\"MO\"].cbg_id)\n",
    "exis = set(existing.loc[existing.state==int(state)].bg).intersection(elig)\n",
    "fresh = elig - exis\n",
    "\n",
    "df1[\"geometry\"] = county_shapes.loc[county_shapes.GEOID.isin(exis)].geometry\n",
    "df1[\"color\"] = \"red\"\n",
    "\n",
    "df2[\"geometry\"] = county_shapes.loc[county_shapes.GEOID.isin(exis.intersection(bid))].geometry\n",
    "df2[\"color\"] = \"blue\"\n",
    "\n",
    "df3[\"geometry\"] = county_shapes.loc[county_shapes.GEOID.isin(fresh)].geometry\n",
    "df3[\"color\"] = \"purple\"\n",
    "\n",
    "df3[\"geometry\"] = county_shapes.loc[county_shapes.GEOID.isin(fresh.intersection(bid))].geometry\n",
    "df3[\"color\"] = \"orange\"\n",
    "\n",
    "df = pd.concat([df, df1, df2, df3, df4, df5])\n",
    "\n",
    "df.plot(color=df['color'], figsize=(20, 15))"
   ],
   "metadata": {
    "collapsed": false,
    "pycharm": {
     "name": "#%%\n"
    }
   }
  },
  {
   "cell_type": "code",
   "execution_count": null,
   "outputs": [],
   "source": [
    "processed_bid_dict[state][\"num_bidders\"] = processed_bid_dict[state].bidder.apply(len)\n",
    "fig, ax = plt.subplots(1, 1)\n",
    "geopandas.GeoDataFrame(processed_bid_dict[state]).plot(column=\"num_bidders\", ax=ax, legend=True, figsize=(20,15))"
   ],
   "metadata": {
    "collapsed": false,
    "pycharm": {
     "name": "#%%\n"
    }
   }
  },
  {
   "cell_type": "code",
   "execution_count": null,
   "outputs": [],
   "source": [
    "df = existing.loc[existing[\"state\"]==int(state)].groupby(\"bg\")[\"names\"].apply(len).reset_index(name=\"num_existing\")\n",
    "df = df.merge(county_shapes, left_on=\"bg\", right_on=\"GEOID\")\n",
    "fig, ax = plt.subplots(1, 1)\n",
    "geopandas.GeoDataFrame(df).plot(column= \"num_existing\",ax=ax, legend=True, figsize=(20,15))"
   ],
   "metadata": {
    "collapsed": false,
    "pycharm": {
     "name": "#%%\n"
    }
   }
  },
  {
   "cell_type": "code",
   "execution_count": null,
   "outputs": [],
   "source": [
    "states = [\"27\", \"38\", \"46\"]\n",
    "selected_bidder = \"Charter Communications Inc\"\n",
    "df = geopandas.GeoDataFrame(columns=['color', 'geometry'])\n",
    "df1 = geopandas.GeoDataFrame(columns=['color', 'geometry'])\n",
    "df2 = geopandas.GeoDataFrame(columns=['color', 'geometry'])\n",
    "df3 = geopandas.GeoDataFrame(columns=['color', 'geometry'])\n",
    "df4 = geopandas.GeoDataFrame(columns=['color', 'geometry'])\n",
    "\n",
    "# df[\"geometry\"] = state_shapes.loc[state_shapes[\"STATEFP\"].isin(states)].geometry\n",
    "# df[\"color\"] = \"green\"\n",
    "\n",
    "n = set(all_neighbors_by_bidder.get(selected_bidder, []))\n",
    "h = set(all_neighbored_bids_by_bidder.get(selected_bidder, []))\n",
    "b = set(all_bids_by_bidder[selected_bidder])\n",
    "combined = n.intersection(b)\n",
    "\n",
    "df1[\"geometry\"] = county_shapes.loc[county_shapes.GEOID.isin(n)].geometry\n",
    "df1[\"color\"] = \"red\"\n",
    "\n",
    "df2[\"geometry\"] = county_shapes.loc[county_shapes.GEOID.isin(b)].geometry\n",
    "df2[\"color\"] = \"blue\"\n",
    "\n",
    "df3[\"geometry\"] = county_shapes.loc[county_shapes.GEOID.isin(h)].geometry\n",
    "df3[\"color\"] = \"orange\"\n",
    "\n",
    "df4[\"geometry\"] = county_shapes.loc[county_shapes.GEOID.isin(combined)].geometry\n",
    "df4[\"color\"] = \"purple\"\n",
    "\n",
    "df = pd.concat([df, df1, df2, df3, df4])\n",
    "\n",
    "df.plot(color=df['color'], figsize=(20, 15))\n"
   ],
   "metadata": {
    "collapsed": false,
    "pycharm": {
     "name": "#%%\n"
    }
   }
  }
 ],
 "metadata": {
  "kernelspec": {
   "display_name": "Python 3",
   "language": "python",
   "name": "python3"
  },
  "language_info": {
   "codemirror_mode": {
    "name": "ipython",
    "version": 2
   },
   "file_extension": ".py",
   "mimetype": "text/x-python",
   "name": "python",
   "nbconvert_exporter": "python",
   "pygments_lexer": "ipython2",
   "version": "2.7.6"
  }
 },
 "nbformat": 4,
 "nbformat_minor": 0
}