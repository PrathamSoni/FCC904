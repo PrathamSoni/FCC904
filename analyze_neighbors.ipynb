{
 "cells": [
  {
   "cell_type": "code",
   "execution_count": 2,
   "metadata": {},
   "outputs": [],
   "source": [
    "import pandas as pd\n",
    "import geopandas\n",
    "import pickle"
   ]
  },
  {
   "cell_type": "code",
   "execution_count": 3,
   "metadata": {
    "pycharm": {
     "name": "#%%\n"
    }
   },
   "outputs": [],
   "source": [
    "processed_bid_dict = pickle.load(open(\"neighbors.pkl\", \"rb\" ))\n",
    "bidders = set()\n",
    "exploded = []\n",
    "for v in processed_bid_dict.values():\n",
    "    for index, row in v.iterrows():\n",
    "        for bidder in row.bidder:\n",
    "            neighbors = {k.lower(): v for k, v in row.neighbors[0].items()}\n",
    "            borders = neighbors.get(bidder.lower(), {})\n",
    "            if bidder == \"Conifer Communications\":\n",
    "                print(row.GEOID20, neighbors)\n",
    "            if borders:\n",
    "                bidders.add(bidder)\n",
    "                exploded.append([row.GEOID20, bidder, [borders]])\n",
    "all_neighbors = pd.DataFrame(exploded, columns=[\"census_id\", \"bidder\", \"neighbors\"])"
   ]
  },
  {
   "cell_type": "code",
   "execution_count": 4,
   "metadata": {
    "pycharm": {
     "name": "#%%\n"
    }
   },
   "outputs": [
    {
     "data": {
      "text/html": [
       "<div>\n",
       "<style scoped>\n",
       "    .dataframe tbody tr th:only-of-type {\n",
       "        vertical-align: middle;\n",
       "    }\n",
       "\n",
       "    .dataframe tbody tr th {\n",
       "        vertical-align: top;\n",
       "    }\n",
       "\n",
       "    .dataframe thead th {\n",
       "        text-align: right;\n",
       "    }\n",
       "</style>\n",
       "<table border=\"1\" class=\"dataframe\">\n",
       "  <thead>\n",
       "    <tr style=\"text-align: right;\">\n",
       "      <th></th>\n",
       "      <th>census_id</th>\n",
       "      <th>bidder</th>\n",
       "      <th>neighbors</th>\n",
       "    </tr>\n",
       "  </thead>\n",
       "  <tbody>\n",
       "    <tr>\n",
       "      <th>0</th>\n",
       "      <td>450099604002</td>\n",
       "      <td>Palmetto Telephone Communications, LLC</td>\n",
       "      <td>[[450099603001]]</td>\n",
       "    </tr>\n",
       "    <tr>\n",
       "      <th>1</th>\n",
       "      <td>450119702001</td>\n",
       "      <td>Palmetto Telephone Communications, LLC</td>\n",
       "      <td>[[450119702003]]</td>\n",
       "    </tr>\n",
       "    <tr>\n",
       "      <th>2</th>\n",
       "      <td>450119702004</td>\n",
       "      <td>Palmetto Telephone Communications, LLC</td>\n",
       "      <td>[[450119702003, 450119702004, 450119703004]]</td>\n",
       "    </tr>\n",
       "  </tbody>\n",
       "</table>\n",
       "</div>"
      ],
      "text/plain": [
       "      census_id                                  bidder  \\\n",
       "0  450099604002  Palmetto Telephone Communications, LLC   \n",
       "1  450119702001  Palmetto Telephone Communications, LLC   \n",
       "2  450119702004  Palmetto Telephone Communications, LLC   \n",
       "\n",
       "                                      neighbors  \n",
       "0                              [[450099603001]]  \n",
       "1                              [[450119702003]]  \n",
       "2  [[450119702003, 450119702004, 450119703004]]  "
      ]
     },
     "execution_count": 4,
     "metadata": {},
     "output_type": "execute_result"
    }
   ],
   "source": [
    "all_neighbors"
   ]
  },
  {
   "cell_type": "code",
   "execution_count": 5,
   "metadata": {},
   "outputs": [
    {
     "data": {
      "text/plain": [
       "{'45':         census_id                                             bidder  \\\n",
       " 0    450019501001  {CCO Holdings, LLC, Viasat, Inc., Hughes Netwo...   \n",
       " 1    450019501002  {CCO Holdings, LLC, Viasat, Inc., Hughes Netwo...   \n",
       " 2    450019501003  {Viasat, Inc., Space Exploration Technologies ...   \n",
       " 3    450019502001  {CCO Holdings, LLC, Viasat, Inc., WC Fiber, LL...   \n",
       " 4    450019503001  {CCO Holdings, LLC, Viasat, Inc., Hughes Netwo...   \n",
       " ..            ...                                                ...   \n",
       " 651  450910617051  {Viasat, Inc., Hughes Network Systems, LLC, Sp...   \n",
       " 652  450910617082  {Verizon Communications Inc., CCO Holdings, LL...   \n",
       " 653  450910619001  {Rural Electric Cooperative Consortium, CCO Ho...   \n",
       " 654  450910619002  {Rural Electric Cooperative Consortium, CCO Ho...   \n",
       " 655  450910619003  {Verizon Communications Inc., CCO Holdings, LL...   \n",
       " \n",
       "     STATEFP20 COUNTYFP20 TRACTCE20       GEOID20  \\\n",
       " 0          45        001    950100  450019501001   \n",
       " 1          45        001    950100  450019501002   \n",
       " 2          45        001    950100  450019501003   \n",
       " 3          45        001    950200  450019502001   \n",
       " 4          45        001    950300  450019503001   \n",
       " ..        ...        ...       ...           ...   \n",
       " 651        45        091    061705  450910617051   \n",
       " 652        45        091    061708  450910617082   \n",
       " 653        45        091    061900  450910619001   \n",
       " 654        45        091    061900  450910619002   \n",
       " 655        45        091    061900  450910619003   \n",
       " \n",
       "                                               geometry  \\\n",
       " 0    POLYGON ((-82.43106 34.40825, -82.42560 34.411...   \n",
       " 1    POLYGON ((-82.31787 34.39077, -82.31770 34.390...   \n",
       " 2    POLYGON ((-82.38600 34.38641, -82.38578 34.386...   \n",
       " 3    POLYGON ((-82.50906 34.35774, -82.50827 34.358...   \n",
       " 4    POLYGON ((-82.59390 34.27630, -82.59367 34.276...   \n",
       " ..                                                 ...   \n",
       " 651  POLYGON ((-81.20460 35.10578, -81.20424 35.106...   \n",
       " 652  POLYGON ((-81.08486 35.06638, -81.08479 35.066...   \n",
       " 653  POLYGON ((-81.49234 34.94781, -81.49211 34.948...   \n",
       " 654  POLYGON ((-81.40053 35.06545, -81.40026 35.065...   \n",
       " 655  POLYGON ((-81.47980 34.93791, -81.47977 34.938...   \n",
       " \n",
       "                                              neighbors  \n",
       " 0    [{'West Carolina Rural Telephone Cooperative, ...  \n",
       " 1    [{'West Carolina Rural Telephone Cooperative, ...  \n",
       " 2    [{'West Carolina Rural Telephone Cooperative, ...  \n",
       " 3    [{'West Carolina Rural Telephone Cooperative, ...  \n",
       " 4    [{'West Carolina Rural Telephone Cooperative, ...  \n",
       " ..                                                 ...  \n",
       " 651  [{'AT&T South Carolina': [450910617051, 450910...  \n",
       " 652  [{'AT&T South Carolina': [450910617081, 450910...  \n",
       " 653  [{'AT&T South Carolina': [450219706021, 450910...  \n",
       " 654  [{'AT&T South Carolina': [450910617011], 'Comp...  \n",
       " 655  [{'AT&T South Carolina': [450219706021, 450219...  \n",
       " \n",
       " [656 rows x 8 columns]}"
      ]
     },
     "execution_count": 5,
     "metadata": {},
     "output_type": "execute_result"
    }
   ],
   "source": []
  },
  {
   "cell_type": "code",
   "execution_count": null,
   "metadata": {},
   "outputs": [],
   "source": []
  }
 ],
 "metadata": {
  "kernelspec": {
   "display_name": "Python 3 (ipykernel)",
   "language": "python",
   "name": "python3"
  },
  "language_info": {
   "codemirror_mode": {
    "name": "ipython",
    "version": 3
   },
   "file_extension": ".py",
   "mimetype": "text/x-python",
   "name": "python",
   "nbconvert_exporter": "python",
   "pygments_lexer": "ipython3",
   "version": "3.8.2"
  }
 },
 "nbformat": 4,
 "nbformat_minor": 1
}