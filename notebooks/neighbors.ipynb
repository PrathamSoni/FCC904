{
 "cells": [
  {
   "cell_type": "code",
   "execution_count": 1,
   "metadata": {},
   "outputs": [],
   "source": [
    "import pandas as pd\n",
    "import time\n",
    "import geopandas\n",
    "from glob import glob\n",
    "from shapely.ops import cascaded_union\n",
    "import pickle\n",
    "import matplotlib.pyplot as plt\n",
    "from collections import defaultdict"
   ]
  },
  {
   "cell_type": "code",
   "execution_count": 3,
   "outputs": [
    {
     "data": {
      "text/plain": "                       bidder     census_id  round  state  satellite\n0                 1stel, Inc.   10010207001      9      1      False\n1                 1stel, Inc.   50014801001     14      5      False\n2                 1stel, Inc.   50014801002     14      5      False\n3                 1stel, Inc.   50014802001     14      5      False\n4                 1stel, Inc.   50014802002     14      5      False\n...                       ...           ...    ...    ...        ...\n424226  yondoo Broadband, LLC  291138101002     17     29      False\n424227  yondoo Broadband, LLC  291138101003     18     29      False\n424228  yondoo Broadband, LLC  292214602003     12     29      False\n424229  yondoo Broadband, LLC  292214603003     18     29      False\n424230  yondoo Broadband, LLC  292214603004     15     29      False\n\n[424231 rows x 5 columns]",
      "text/html": "<div>\n<style scoped>\n    .dataframe tbody tr th:only-of-type {\n        vertical-align: middle;\n    }\n\n    .dataframe tbody tr th {\n        vertical-align: top;\n    }\n\n    .dataframe thead th {\n        text-align: right;\n    }\n</style>\n<table border=\"1\" class=\"dataframe\">\n  <thead>\n    <tr style=\"text-align: right;\">\n      <th></th>\n      <th>bidder</th>\n      <th>census_id</th>\n      <th>round</th>\n      <th>state</th>\n      <th>satellite</th>\n    </tr>\n  </thead>\n  <tbody>\n    <tr>\n      <th>0</th>\n      <td>1stel, Inc.</td>\n      <td>10010207001</td>\n      <td>9</td>\n      <td>1</td>\n      <td>False</td>\n    </tr>\n    <tr>\n      <th>1</th>\n      <td>1stel, Inc.</td>\n      <td>50014801001</td>\n      <td>14</td>\n      <td>5</td>\n      <td>False</td>\n    </tr>\n    <tr>\n      <th>2</th>\n      <td>1stel, Inc.</td>\n      <td>50014801002</td>\n      <td>14</td>\n      <td>5</td>\n      <td>False</td>\n    </tr>\n    <tr>\n      <th>3</th>\n      <td>1stel, Inc.</td>\n      <td>50014802001</td>\n      <td>14</td>\n      <td>5</td>\n      <td>False</td>\n    </tr>\n    <tr>\n      <th>4</th>\n      <td>1stel, Inc.</td>\n      <td>50014802002</td>\n      <td>14</td>\n      <td>5</td>\n      <td>False</td>\n    </tr>\n    <tr>\n      <th>...</th>\n      <td>...</td>\n      <td>...</td>\n      <td>...</td>\n      <td>...</td>\n      <td>...</td>\n    </tr>\n    <tr>\n      <th>424226</th>\n      <td>yondoo Broadband, LLC</td>\n      <td>291138101002</td>\n      <td>17</td>\n      <td>29</td>\n      <td>False</td>\n    </tr>\n    <tr>\n      <th>424227</th>\n      <td>yondoo Broadband, LLC</td>\n      <td>291138101003</td>\n      <td>18</td>\n      <td>29</td>\n      <td>False</td>\n    </tr>\n    <tr>\n      <th>424228</th>\n      <td>yondoo Broadband, LLC</td>\n      <td>292214602003</td>\n      <td>12</td>\n      <td>29</td>\n      <td>False</td>\n    </tr>\n    <tr>\n      <th>424229</th>\n      <td>yondoo Broadband, LLC</td>\n      <td>292214603003</td>\n      <td>18</td>\n      <td>29</td>\n      <td>False</td>\n    </tr>\n    <tr>\n      <th>424230</th>\n      <td>yondoo Broadband, LLC</td>\n      <td>292214603004</td>\n      <td>15</td>\n      <td>29</td>\n      <td>False</td>\n    </tr>\n  </tbody>\n</table>\n<p>424231 rows × 5 columns</p>\n</div>"
     },
     "execution_count": 3,
     "metadata": {},
     "output_type": "execute_result"
    }
   ],
   "source": [
    "bids = pd.read_csv(\"../data/all_bids.csv\")[[\"round\", \"bidder\", \"tier\", \"latency\", \"census_id\"]]\n",
    "bids[\"state\"] = bids[\"census_id\"]//10000000000\n",
    "bids = bids.groupby([\"bidder\", \"census_id\"]).agg({'round': 'max', 'state':'first'}).reset_index()\n",
    "name_map = {\n",
    "    \"CCO Holdings, LLC\":\"Charter Communications Inc\",\n",
    "    \"Windstream Services LLC, Debtor-In-Possession\":\"Windstream Holdings, Inc.\",\n",
    "    \"Connect Everyone LLC\":\"Starry, Inc.\",\n",
    "    \"Frontier Communications Corporation, DIP\":\"Frontier Communications Corporation\",\n",
    "    \"California Internet, L.P. dba GeoLinks\":\"GeoLinks\",\n",
    "    \"Etheric Communications LLC\":\"Etheric Networks, Inc.\",\n",
    "    \"Consolidated  Communications, Inc.\":\"Consolidated Communications, Inc.\",\n",
    "    \"Frontier Communications Northwest, LLC\":\"Ziply Fiber\",\n",
    "    \"Citynet West Virginia, LLC\":\"Citynet, LLC\",\n",
    "    \"Computer 5, Inc. d/b/a LocalTel Communications\": \"LocalTel Communications\",\n",
    "    \"Armstrong Telephone Company - Northern Division\": \"Armstrong Holdings, Inc.\",\n",
    "    \"Commnet Wireless, LLC\": \"ATN International, Inc.\",\n",
    "    \"Mediacom Communications Corporation\": \"Mediacom Communications Corp.\",\n",
    "    \"Continental Divide Electric Cooperative\": \"Continental Divide Electric Cooperative, Inc.\",\n",
    "    \"South Arkansas Telephone Company\": \"South Arkansas Telephone Co.\",\n",
    "    \"Digital Connections Inc. dba PRODIGI\": \"Digital Connections, Inc.\",\n",
    "    \"Shenandoah Cable Television, LLC\": \"Shenandoah Telecommunications Company\",\n",
    "    \"Direct Communications Rockland, Inc\": \"Direct Communications Rockland, Inc.\",\n",
    "    \"Pine Belt Communications, Inc.\":\"Pine Belt Communications Co. Inc.\",\n",
    "    \"Savage Communications\":\"Savage Communications Inc.\",\n",
    "    \"Hamilton County Telephone Co-op\":\"Hamilton County Telephone Co-Op\",\n",
    "    \"Hotwire Communications, Ltd\":\"Hotwire Communications Ltd.\",\n",
    "    \"Altice USA, Inc.\":\"Altice\",\n",
    "    \"TruVista Communications, Inc.\":\"TruVista Communications of Georgia, LLC\",\n",
    "    \"Hawaii Dialogix Telecom LLC\":\"Hawaii Dialogix Telecom LLC\",\n",
    "    \"Safelink Internet LLC\":\"Safelink Internet\",\n",
    "    \"American Heartland\":\"Farmers Telephone Company\",\n",
    "    \"Cellular Services LLC.\":\"Cellular Services LLC\",\n",
    "    \"Scott County Telephone Cooperative, Inc.\":\"Scott County\",\n",
    "    \"Micrologic Inc.\":\"Micrologic, Inc.\",\n",
    "    \"Pioneer Wireless, Inc\":\"Pioneer Wireless, Inc.\",\n",
    "    \"St. John Telco\":\"St. John Telephone, Inc.\",\n",
    "    \"One Ring Networks, Inc\":\"One Ring Networks, Inc.\",\n",
    "    \"Emery Telephone dba Emery Telcom\":\"Emery Telcom\",\n",
    "    \"XIT Telecommunication & Technology\":\"XIT Rural Telephone Cooperative, Inc.\",\n",
    "    \"Somerset Telephone Co., Inc.\":\"SOMERSET TELEPHONE COMPANY\",\n",
    "    \"Siuslaw Broadband, LLC dba Hyak Technologies\":\"Siuslaw Broadband, LLC\",\n",
    "    \"Minnesota Connections c/o Consolidated Tel Company\":\"Consolidated Telephone Company\",\n",
    "    \"DoCoMo Pacific, Inc.\":\"Docomo Pacific\",\n",
    "    \"Roseau Electric Cooperative, Inc.\":\"Roseau Electric Cooperative\",\n",
    "    \"Custer Telephone Cooperative, Inc.\":\"Custer Telephone Cooperative Inc.\",\n",
    "    \"Lakeland Communications Group, LLC\":\"Lakeland Communications, Inc.\",\n",
    "    \"LigTel Communications, Inc.\":\"Ligtel Communications\",\n",
    "    \"Hamilton Long Distance Company\":\"Hamilton.net, Inc.\",\n",
    "    \"Allen's T.V. Cable Service, Inc.\":\"Allen's TV Cable Service, Inc.\",\n",
    "    \"W. T. Services, Inc.\":\"W.T. Services, Inc.\",\n",
    "    \"Heart of the Catskills Comm. Inc., dba MTC Cable\":\"MTC Cable\",\n",
    "    \"Citizens Vermont Acquisition Corporation\":\"Citizens Telephone Company\",\n",
    "    \"Nova Cablevision, Inc\":\"Nova Cablevision, Inc.\",\n",
    "    \"yondoo Broadband LLC\":\"yondoo Broadband, LLC\",\n",
    "    \"Baraga Telephone Company\":\"Baraga Telephone Company Inc.\",\n",
    "    \"Miles Communications LLC\":\"Miles Communications, Inc.\",\n",
    "    \"PVT NetWorks, Inc.\":\"Penasco Valley Telephone Cooperative, Inc.\",\n",
    "    \"Yucca Telecommunications Systems, Inc.\":\"Yucca Telecom\",\n",
    "    \"H&B Communication's, Inc.\":\"H&B Enterprises Inc.\",\n",
    "    \"MARQUETTE-ADAMS TELEPHONE COOPERATIVE, INC.\":\"Marquette-Adams Telephone Cooperative, Inc.\",\n",
    "    \"Pinpoint Bidding Coalition\":\"Pinpoint Holdings, Inc.\",\n",
    "    \"Computer Techniques, Inc. dba CTI Fiber\":\"CTI Fiber\",\n",
    "    \"Barry Technology Services, LLC\":\"Barry Technology Services\",\n",
    "    \"Bloosurf, LLC\":\"Bloosurf\",\n",
    "    \"St Paul Cooperative Telephone Association\":\"St Paul Coop Telephone Assoc\",\n",
    "    \"Farmers Mutual Cooperative Telephone Company\":\"FARMERS MUTUAL TELEPHONE COMPANY\",\n",
    "    \"NTS Communications, LLC\":\"NTS, Inc.\",\n",
    "    \"Unified Communications Inc.\":\"Unified Communications, Inc.\",\n",
    "    \"Peoples Communication, LLC.\":\"Peoples Communication, Inc.\",\n",
    "    \"Wood County Telephone Company d/b/a Solarus\":\"Solarus\",\n",
    "    \"Comcell Inc.\":\"Comcell, Inc.\",\n",
    "    \"Taylor Telephone Coop., Inc. dba Taylor Telecom\":\"Taylor Telephone Cooperative, Inc.\",\n",
    "    \"Plateau Telecommunications, Incorporated\":\"Plateau\",\n",
    "    \"AMA Communications, LLC\":\"AMA Communicaitons, L.L.C.\",\n",
    "    \"AirCell, Inc.\":\"AirCell\",\n",
    "    \"Bays-ET Highspeed LLC\":\"Bays-ET Highspeed Internet LLC\",\n",
    "    \"Big Bend Telecom LTD\":\"Big Bend Telephone Company, Inc.\",\n",
    "    \"Blue Ridge Cable Technologies, Inc.\":\"Blue Ridge Cable Technologies, Inc.\",\n",
    "    \"Cass Cable TV, Inc.\":\"Cass Cable TV, Inc.\",\n",
    "    \"City of Wilson GreenLight\":\"City of Wilson\",\n",
    "    \"Climax Telephone Company dba CTS Telecom, Inc.\":\"Climax Telephone Company\",\n",
    "    \"Cumberland Telephone Company, Inc\":\"CUMBERLAND TELEPHONE COMPANY\",\n",
    "    \"Cumby Telephone Coooertive, Inc.\":\"Cumby Telephone Coop., Inc.\",\n",
    "    \"Data Stream Mobile Technoligies Inc.\":\"Data Stream\",\n",
    "    \"Get Wireless Inc\":\"Getwireless.net\",\n",
    "    \"Hartington Telecommunications Co., Inc,\":\"Hartington Telecommunications Co., Inc.\",\n",
    "    \"Hilliary Communications Consortium\":\"Hilliary Communications, LLC\",\n",
    "    \"Hillsboro Telephone Company,  Inc.\":\"Hillsboro Telephone Company\",\n",
    "    \"Home Telephone ILEC, LLC\":\"Home Telephone ILEC, LLC d/b/a Home Telecom\",\n",
    "    \"Hood Canal Telephone Co., Inc\":\"Hood Canal Communications\",\n",
    "    \"Kingdom Telecommunications, Inc.\":\"Kingdom Telecommunications Inc\",\n",
    "    \"Lincolnville Communications\":\"Lincolnville Telephone Company\",\n",
    "    \"Local Internet Service Company, Inc.\":\"Local Internet Service Company\",\n",
    "    \"Martell Enterprise  Inc.\":\"Martell Enterprises, Inc.\",\n",
    "    \"Massena Telephone Company, Inc.\":\"Massena Telephone Company\",\n",
    "    \"Moundridge Telephone Company\":\"Moundridge Telephone Co.\",\n",
    "    \"MyServer.org, Inc dba San Diego Broadband\":\"San Diego Broadband\",\n",
    "    \"Newbreak Management, LLC\":\"Newbreak Communications\",\n",
    "    \"NexGenAccess Incorporated\":\"NexGenAccess\",\n",
    "    \"Northwoods Communication Technologies, LLC\":\"Northwoodsconnect\",\n",
    "    \"One Point Technologies Inc\":\"One Point Technologies Inc.\",\n",
    "    \"Panhandle Telecommunication Systems, Inc.\":\"Panhandle Telephone Cooperative, Inc.\",\n",
    "    \"Pathwayz Communications Inc\":\"Pathwayz Communications, Inc.\",\n",
    "    \"RONAN TELEPHONE COMPANY\":\"Ronan Telephone Co\",\n",
    "    \"Rainbow Communications LLC\":\"Rainbow Telecommunications Association, Inc.\",\n",
    "    \"SOUTHWEST ARKANSAS TELEPHONE COOPERATIVE, INC.\":\"Southwest Arkansas Telephone Cooperative, Inc.\",\n",
    "    \"South Central Wireless, Inc.\":\"South Central Wireless Inc.\",\n",
    "    \"Southern Montana Telephone Company (SMTC)\":\"Southern Montana Telephone Company\",\n",
    "    \"Steelville Telephone Exchange Inc.\":\"Steelville Telephone Exchange Inc\",\n",
    "    \"Tekstar Communications, Inc. dba Arvig\":\"Arvig Enterprises, Inc.\",\n",
    "    \"Upsala Cooperative Telephone Association dba Sytek\":\"UPSALA COOPERATIVE TELEPHONE ASSOCIATION\",\n",
    "    \"Valley Telephone Cooperative, Inc\":\"Valley Telephone Cooperative, Inc.\",\n",
    "    \"Velocity.Net Communications, Inc.\":\"Velocity Communications, Inc.\",\n",
    "    \"Woodstock Telephone Co.\":\"Woodstock Telephone Company\",\n",
    "    \"ZIRKEL Wireless, LLC\":\"Zirkel Wireless\",\n",
    "    \"coon valley cooperative telephone association inc.\":\"Coon Valley Co-op Telephone Association, Inc.\",\n",
    "}\n",
    "bids[\"bidder\"] = bids[\"bidder\"].map(lambda x: name_map[x] if x in name_map else x)\n",
    "bids"
   ],
   "metadata": {
    "collapsed": false,
    "pycharm": {
     "name": "#%%\n"
    }
   }
  },
  {
   "cell_type": "code",
   "execution_count": 4,
   "metadata": {},
   "outputs": [
    {
     "data": {
      "text/plain": "          LogRecNo  Provider_Id       FRN          ProviderName  \\\n0                1        59590  17678236     Webformix Company   \n1                2        59590  17678236     Webformix Company   \n2                3        59590  17678236     Webformix Company   \n3                4        59590  17678236     Webformix Company   \n4                5        59590  17678236     Webformix Company   \n...            ...          ...       ...                   ...   \n42151570  42151571        79963  21999305  OSNET Wireless Corp.   \n42151571  42151572        79963  21999305  OSNET Wireless Corp.   \n42151572  42151573        79963  21999305  OSNET Wireless Corp.   \n42151573  42151574        79963  21999305  OSNET Wireless Corp.   \n42151574  42151575        79963  21999305  OSNET Wireless Corp.   \n\n                 DBAName    HoldingCompanyName  HocoNum             HocoFinal  \\\n0              Webformix     Webformix Company   290118     Webformix Company   \n1              Webformix     Webformix Company   290118     Webformix Company   \n2              Webformix     Webformix Company   290118     Webformix Company   \n3              Webformix     Webformix Company   290118     Webformix Company   \n4              Webformix     Webformix Company   290118     Webformix Company   \n...                  ...                   ...      ...                   ...   \n42151570  OSNET Wireless  OSNET Wireless Corp.   420091  Osnet Wireless Corp.   \n42151571  OSNET Wireless  OSNET Wireless Corp.   420091  Osnet Wireless Corp.   \n42151572  OSNET Wireless  OSNET Wireless Corp.   420091  Osnet Wireless Corp.   \n42151573  OSNET Wireless  OSNET Wireless Corp.   420091  Osnet Wireless Corp.   \n42151574  OSNET Wireless  OSNET Wireless Corp.   420091  Osnet Wireless Corp.   \n\n         StateAbbr        BlockCode  TechCode  Consumer  MaxAdDown  MaxAdUp  \\\n0               OR  410139501002019        70         1       40.0     10.0   \n1               OR  410139503002023        70         1       40.0     10.0   \n2               OR  410139502002027        70         1       40.0     10.0   \n3               OR  410139501003004        70         1       40.0     10.0   \n4               OR  410139504001109        70         1       40.0     10.0   \n...            ...              ...       ...       ...        ...      ...   \n42151570        PR  720054006003006        70         1       30.0     10.0   \n42151571        PR  720054006003005        70         1       30.0     10.0   \n42151572        PR  720054006003004        70         1       30.0     10.0   \n42151573        PR  720054006003003        70         1       30.0     10.0   \n42151574        PR  720054006003002        70         1       30.0     10.0   \n\n          Business            bg  state  \\\n0                1  410139501002     41   \n1                1  410139503002     41   \n2                1  410139502002     41   \n3                1  410139501003     41   \n4                1  410139504001     41   \n...            ...           ...    ...   \n42151570         1  720054006003     72   \n42151571         1  720054006003     72   \n42151572         1  720054006003     72   \n42151573         1  720054006003     72   \n42151574         1  720054006003     72   \n\n                                                      names  \n0                            (Webformix Company, Webformix)  \n1                            (Webformix Company, Webformix)  \n2                            (Webformix Company, Webformix)  \n3                            (Webformix Company, Webformix)  \n4                            (Webformix Company, Webformix)  \n...                                                     ...  \n42151570  (OSNET Wireless, Osnet Wireless Corp., OSNET W...  \n42151571  (OSNET Wireless, Osnet Wireless Corp., OSNET W...  \n42151572  (OSNET Wireless, Osnet Wireless Corp., OSNET W...  \n42151573  (OSNET Wireless, Osnet Wireless Corp., OSNET W...  \n42151574  (OSNET Wireless, Osnet Wireless Corp., OSNET W...  \n\n[15841979 rows x 18 columns]",
      "text/html": "<div>\n<style scoped>\n    .dataframe tbody tr th:only-of-type {\n        vertical-align: middle;\n    }\n\n    .dataframe tbody tr th {\n        vertical-align: top;\n    }\n\n    .dataframe thead th {\n        text-align: right;\n    }\n</style>\n<table border=\"1\" class=\"dataframe\">\n  <thead>\n    <tr style=\"text-align: right;\">\n      <th></th>\n      <th>LogRecNo</th>\n      <th>Provider_Id</th>\n      <th>FRN</th>\n      <th>ProviderName</th>\n      <th>DBAName</th>\n      <th>HoldingCompanyName</th>\n      <th>HocoNum</th>\n      <th>HocoFinal</th>\n      <th>StateAbbr</th>\n      <th>BlockCode</th>\n      <th>TechCode</th>\n      <th>Consumer</th>\n      <th>MaxAdDown</th>\n      <th>MaxAdUp</th>\n      <th>Business</th>\n      <th>bg</th>\n      <th>state</th>\n      <th>names</th>\n    </tr>\n  </thead>\n  <tbody>\n    <tr>\n      <th>0</th>\n      <td>1</td>\n      <td>59590</td>\n      <td>17678236</td>\n      <td>Webformix Company</td>\n      <td>Webformix</td>\n      <td>Webformix Company</td>\n      <td>290118</td>\n      <td>Webformix Company</td>\n      <td>OR</td>\n      <td>410139501002019</td>\n      <td>70</td>\n      <td>1</td>\n      <td>40.0</td>\n      <td>10.0</td>\n      <td>1</td>\n      <td>410139501002</td>\n      <td>41</td>\n      <td>(Webformix Company, Webformix)</td>\n    </tr>\n    <tr>\n      <th>1</th>\n      <td>2</td>\n      <td>59590</td>\n      <td>17678236</td>\n      <td>Webformix Company</td>\n      <td>Webformix</td>\n      <td>Webformix Company</td>\n      <td>290118</td>\n      <td>Webformix Company</td>\n      <td>OR</td>\n      <td>410139503002023</td>\n      <td>70</td>\n      <td>1</td>\n      <td>40.0</td>\n      <td>10.0</td>\n      <td>1</td>\n      <td>410139503002</td>\n      <td>41</td>\n      <td>(Webformix Company, Webformix)</td>\n    </tr>\n    <tr>\n      <th>2</th>\n      <td>3</td>\n      <td>59590</td>\n      <td>17678236</td>\n      <td>Webformix Company</td>\n      <td>Webformix</td>\n      <td>Webformix Company</td>\n      <td>290118</td>\n      <td>Webformix Company</td>\n      <td>OR</td>\n      <td>410139502002027</td>\n      <td>70</td>\n      <td>1</td>\n      <td>40.0</td>\n      <td>10.0</td>\n      <td>1</td>\n      <td>410139502002</td>\n      <td>41</td>\n      <td>(Webformix Company, Webformix)</td>\n    </tr>\n    <tr>\n      <th>3</th>\n      <td>4</td>\n      <td>59590</td>\n      <td>17678236</td>\n      <td>Webformix Company</td>\n      <td>Webformix</td>\n      <td>Webformix Company</td>\n      <td>290118</td>\n      <td>Webformix Company</td>\n      <td>OR</td>\n      <td>410139501003004</td>\n      <td>70</td>\n      <td>1</td>\n      <td>40.0</td>\n      <td>10.0</td>\n      <td>1</td>\n      <td>410139501003</td>\n      <td>41</td>\n      <td>(Webformix Company, Webformix)</td>\n    </tr>\n    <tr>\n      <th>4</th>\n      <td>5</td>\n      <td>59590</td>\n      <td>17678236</td>\n      <td>Webformix Company</td>\n      <td>Webformix</td>\n      <td>Webformix Company</td>\n      <td>290118</td>\n      <td>Webformix Company</td>\n      <td>OR</td>\n      <td>410139504001109</td>\n      <td>70</td>\n      <td>1</td>\n      <td>40.0</td>\n      <td>10.0</td>\n      <td>1</td>\n      <td>410139504001</td>\n      <td>41</td>\n      <td>(Webformix Company, Webformix)</td>\n    </tr>\n    <tr>\n      <th>...</th>\n      <td>...</td>\n      <td>...</td>\n      <td>...</td>\n      <td>...</td>\n      <td>...</td>\n      <td>...</td>\n      <td>...</td>\n      <td>...</td>\n      <td>...</td>\n      <td>...</td>\n      <td>...</td>\n      <td>...</td>\n      <td>...</td>\n      <td>...</td>\n      <td>...</td>\n      <td>...</td>\n      <td>...</td>\n      <td>...</td>\n    </tr>\n    <tr>\n      <th>42151570</th>\n      <td>42151571</td>\n      <td>79963</td>\n      <td>21999305</td>\n      <td>OSNET Wireless Corp.</td>\n      <td>OSNET Wireless</td>\n      <td>OSNET Wireless Corp.</td>\n      <td>420091</td>\n      <td>Osnet Wireless Corp.</td>\n      <td>PR</td>\n      <td>720054006003006</td>\n      <td>70</td>\n      <td>1</td>\n      <td>30.0</td>\n      <td>10.0</td>\n      <td>1</td>\n      <td>720054006003</td>\n      <td>72</td>\n      <td>(OSNET Wireless, Osnet Wireless Corp., OSNET W...</td>\n    </tr>\n    <tr>\n      <th>42151571</th>\n      <td>42151572</td>\n      <td>79963</td>\n      <td>21999305</td>\n      <td>OSNET Wireless Corp.</td>\n      <td>OSNET Wireless</td>\n      <td>OSNET Wireless Corp.</td>\n      <td>420091</td>\n      <td>Osnet Wireless Corp.</td>\n      <td>PR</td>\n      <td>720054006003005</td>\n      <td>70</td>\n      <td>1</td>\n      <td>30.0</td>\n      <td>10.0</td>\n      <td>1</td>\n      <td>720054006003</td>\n      <td>72</td>\n      <td>(OSNET Wireless, Osnet Wireless Corp., OSNET W...</td>\n    </tr>\n    <tr>\n      <th>42151572</th>\n      <td>42151573</td>\n      <td>79963</td>\n      <td>21999305</td>\n      <td>OSNET Wireless Corp.</td>\n      <td>OSNET Wireless</td>\n      <td>OSNET Wireless Corp.</td>\n      <td>420091</td>\n      <td>Osnet Wireless Corp.</td>\n      <td>PR</td>\n      <td>720054006003004</td>\n      <td>70</td>\n      <td>1</td>\n      <td>30.0</td>\n      <td>10.0</td>\n      <td>1</td>\n      <td>720054006003</td>\n      <td>72</td>\n      <td>(OSNET Wireless, Osnet Wireless Corp., OSNET W...</td>\n    </tr>\n    <tr>\n      <th>42151573</th>\n      <td>42151574</td>\n      <td>79963</td>\n      <td>21999305</td>\n      <td>OSNET Wireless Corp.</td>\n      <td>OSNET Wireless</td>\n      <td>OSNET Wireless Corp.</td>\n      <td>420091</td>\n      <td>Osnet Wireless Corp.</td>\n      <td>PR</td>\n      <td>720054006003003</td>\n      <td>70</td>\n      <td>1</td>\n      <td>30.0</td>\n      <td>10.0</td>\n      <td>1</td>\n      <td>720054006003</td>\n      <td>72</td>\n      <td>(OSNET Wireless, Osnet Wireless Corp., OSNET W...</td>\n    </tr>\n    <tr>\n      <th>42151574</th>\n      <td>42151575</td>\n      <td>79963</td>\n      <td>21999305</td>\n      <td>OSNET Wireless Corp.</td>\n      <td>OSNET Wireless</td>\n      <td>OSNET Wireless Corp.</td>\n      <td>420091</td>\n      <td>Osnet Wireless Corp.</td>\n      <td>PR</td>\n      <td>720054006003002</td>\n      <td>70</td>\n      <td>1</td>\n      <td>30.0</td>\n      <td>10.0</td>\n      <td>1</td>\n      <td>720054006003</td>\n      <td>72</td>\n      <td>(OSNET Wireless, Osnet Wireless Corp., OSNET W...</td>\n    </tr>\n  </tbody>\n</table>\n<p>15841979 rows × 18 columns</p>\n</div>"
     },
     "execution_count": 4,
     "metadata": {},
     "output_type": "execute_result"
    }
   ],
   "source": [
    "existing = pd.read_csv(\"../data/existing_service.csv\", encoding=\"latin\")\n",
    "existing[\"bg\"] = existing[\"BlockCode\"]//1000\n",
    "existing  = existing.loc[(existing[\"MaxAdDown\"]>=25) & (existing[\"MaxAdUp\"]>=3) & (existing[\"TechCode\"]!=60)]\n",
    "existing[\"state\"] = existing[\"bg\"]//10000000000\n",
    "existing['names'] = [frozenset(x) for x in zip(existing.ProviderName, existing.HoldingCompanyName, existing.DBAName, existing.HocoFinal)]\n",
    "existing"
   ]
  },
  {
   "cell_type": "code",
   "execution_count": 5,
   "metadata": {
    "pycharm": {
     "name": "#%%\n"
    }
   },
   "outputs": [
    {
     "data": {
      "text/plain": "                       bidder     census_id  \\\n0        4-Corners Consortium  350319437004   \n1        4-Corners Consortium  350319438004   \n2              AB Indiana LLC  120210112021   \n3                         ACT  281159504002   \n4                         ACT  281159505001   \n...                       ...           ...   \n57167           Yucca Telecom  350410003002   \n57168           Yucca Telecom  350410003003   \n57169  Zito West Holding, LLC  420879605002   \n57170   yondoo Broadband, LLC  291138101002   \n57171   yondoo Broadband, LLC  292214603004   \n\n                                                block_id state  \n0      [350319437004005, 350319437004010, 35031943700...    NM  \n1      [350319438004000, 350319438004003, 35031943800...    NM  \n2      [120210112021071, 120210112021072, 12021011202...    FL  \n3      [281159504002011, 281159504002012, 28115950400...    MS  \n4      [281159505001024, 281159505001026, 28115950500...    MS  \n...                                                  ...   ...  \n57167                 [350410003002004, 350410003002063]    NM  \n57168                                  [350410003003024]    NM  \n57169  [420879605002001, 420879605002004, 42087960500...    PA  \n57170  [291138101002030, 291138101002058, 29113810100...    MO  \n57171  [292214603004003, 292214603004010, 29221460300...    MO  \n\n[57172 rows x 4 columns]",
      "text/html": "<div>\n<style scoped>\n    .dataframe tbody tr th:only-of-type {\n        vertical-align: middle;\n    }\n\n    .dataframe tbody tr th {\n        vertical-align: top;\n    }\n\n    .dataframe thead th {\n        text-align: right;\n    }\n</style>\n<table border=\"1\" class=\"dataframe\">\n  <thead>\n    <tr style=\"text-align: right;\">\n      <th></th>\n      <th>bidder</th>\n      <th>census_id</th>\n      <th>block_id</th>\n      <th>state</th>\n    </tr>\n  </thead>\n  <tbody>\n    <tr>\n      <th>0</th>\n      <td>4-Corners Consortium</td>\n      <td>350319437004</td>\n      <td>[350319437004005, 350319437004010, 35031943700...</td>\n      <td>NM</td>\n    </tr>\n    <tr>\n      <th>1</th>\n      <td>4-Corners Consortium</td>\n      <td>350319438004</td>\n      <td>[350319438004000, 350319438004003, 35031943800...</td>\n      <td>NM</td>\n    </tr>\n    <tr>\n      <th>2</th>\n      <td>AB Indiana LLC</td>\n      <td>120210112021</td>\n      <td>[120210112021071, 120210112021072, 12021011202...</td>\n      <td>FL</td>\n    </tr>\n    <tr>\n      <th>3</th>\n      <td>ACT</td>\n      <td>281159504002</td>\n      <td>[281159504002011, 281159504002012, 28115950400...</td>\n      <td>MS</td>\n    </tr>\n    <tr>\n      <th>4</th>\n      <td>ACT</td>\n      <td>281159505001</td>\n      <td>[281159505001024, 281159505001026, 28115950500...</td>\n      <td>MS</td>\n    </tr>\n    <tr>\n      <th>...</th>\n      <td>...</td>\n      <td>...</td>\n      <td>...</td>\n      <td>...</td>\n    </tr>\n    <tr>\n      <th>57167</th>\n      <td>Yucca Telecom</td>\n      <td>350410003002</td>\n      <td>[350410003002004, 350410003002063]</td>\n      <td>NM</td>\n    </tr>\n    <tr>\n      <th>57168</th>\n      <td>Yucca Telecom</td>\n      <td>350410003003</td>\n      <td>[350410003003024]</td>\n      <td>NM</td>\n    </tr>\n    <tr>\n      <th>57169</th>\n      <td>Zito West Holding, LLC</td>\n      <td>420879605002</td>\n      <td>[420879605002001, 420879605002004, 42087960500...</td>\n      <td>PA</td>\n    </tr>\n    <tr>\n      <th>57170</th>\n      <td>yondoo Broadband, LLC</td>\n      <td>291138101002</td>\n      <td>[291138101002030, 291138101002058, 29113810100...</td>\n      <td>MO</td>\n    </tr>\n    <tr>\n      <th>57171</th>\n      <td>yondoo Broadband, LLC</td>\n      <td>292214603004</td>\n      <td>[292214603004003, 292214603004010, 29221460300...</td>\n      <td>MO</td>\n    </tr>\n  </tbody>\n</table>\n<p>57172 rows × 4 columns</p>\n</div>"
     },
     "execution_count": 5,
     "metadata": {},
     "output_type": "execute_result"
    }
   ],
   "source": [
    "eligible = pd.read_csv(\"../data/auction904_updated_block_cbg.csv\")\n",
    "winners = pd.read_csv(\"../data/all_assigned_census_blocks.csv\")[[\"bidder\",\"block_id\",\"state\",\"census_id\"]]\n",
    "winners = winners.groupby(['bidder','census_id'], as_index=False).agg({\"block_id\":list, \"state\":\"first\"})\n",
    "winners[\"bidder\"] = winners[\"bidder\"].map(lambda x: name_map[x] if x in name_map else x)\n",
    "winners"
   ]
  },
  {
   "cell_type": "code",
   "execution_count": 6,
   "metadata": {},
   "outputs": [
    {
     "data": {
      "text/plain": "     STATEFP COUNTYFP TRACTCE BLKGRPCE         GEOID  \\\n0         05      143  010503        2   51430105032   \n1         05      143  010504        1   51430105041   \n2         05      143  010504        5   51430105045   \n3         05      143  010506        1   51430105061   \n4         05      135  470200        7   51354702007   \n...      ...      ...     ...      ...           ...   \n3921      24      003  740601        4  240037406014   \n3922      24      510  160500        1  245101605001   \n3923      24      510  160500        2  245101605002   \n3924      24      510  160500        3  245101605003   \n3925      24      510  160500        4  245101605004   \n\n                                               geometry  \n0     POLYGON ((-94.21915 36.17593, -94.21718 36.175...  \n1     POLYGON ((-94.33762 35.97984, -94.33724 35.980...  \n2     POLYGON ((-94.43864 35.95907, -94.43852 35.959...  \n3     POLYGON ((-94.24059 36.04502, -94.24058 36.045...  \n4     POLYGON ((-91.54745 36.26023, -91.54734 36.260...  \n...                                                 ...  \n3921  POLYGON ((-76.77774 39.11425, -76.77746 39.114...  \n3922  POLYGON ((-76.66090 39.30614, -76.66017 39.306...  \n3923  POLYGON ((-76.65502 39.29848, -76.65464 39.298...  \n3924  POLYGON ((-76.65941 39.29463, -76.65892 39.294...  \n3925  POLYGON ((-76.65959 39.29834, -76.65902 39.298...  \n\n[220333 rows x 6 columns]",
      "text/html": "<div>\n<style scoped>\n    .dataframe tbody tr th:only-of-type {\n        vertical-align: middle;\n    }\n\n    .dataframe tbody tr th {\n        vertical-align: top;\n    }\n\n    .dataframe thead th {\n        text-align: right;\n    }\n</style>\n<table border=\"1\" class=\"dataframe\">\n  <thead>\n    <tr style=\"text-align: right;\">\n      <th></th>\n      <th>STATEFP</th>\n      <th>COUNTYFP</th>\n      <th>TRACTCE</th>\n      <th>BLKGRPCE</th>\n      <th>GEOID</th>\n      <th>geometry</th>\n    </tr>\n  </thead>\n  <tbody>\n    <tr>\n      <th>0</th>\n      <td>05</td>\n      <td>143</td>\n      <td>010503</td>\n      <td>2</td>\n      <td>51430105032</td>\n      <td>POLYGON ((-94.21915 36.17593, -94.21718 36.175...</td>\n    </tr>\n    <tr>\n      <th>1</th>\n      <td>05</td>\n      <td>143</td>\n      <td>010504</td>\n      <td>1</td>\n      <td>51430105041</td>\n      <td>POLYGON ((-94.33762 35.97984, -94.33724 35.980...</td>\n    </tr>\n    <tr>\n      <th>2</th>\n      <td>05</td>\n      <td>143</td>\n      <td>010504</td>\n      <td>5</td>\n      <td>51430105045</td>\n      <td>POLYGON ((-94.43864 35.95907, -94.43852 35.959...</td>\n    </tr>\n    <tr>\n      <th>3</th>\n      <td>05</td>\n      <td>143</td>\n      <td>010506</td>\n      <td>1</td>\n      <td>51430105061</td>\n      <td>POLYGON ((-94.24059 36.04502, -94.24058 36.045...</td>\n    </tr>\n    <tr>\n      <th>4</th>\n      <td>05</td>\n      <td>135</td>\n      <td>470200</td>\n      <td>7</td>\n      <td>51354702007</td>\n      <td>POLYGON ((-91.54745 36.26023, -91.54734 36.260...</td>\n    </tr>\n    <tr>\n      <th>...</th>\n      <td>...</td>\n      <td>...</td>\n      <td>...</td>\n      <td>...</td>\n      <td>...</td>\n      <td>...</td>\n    </tr>\n    <tr>\n      <th>3921</th>\n      <td>24</td>\n      <td>003</td>\n      <td>740601</td>\n      <td>4</td>\n      <td>240037406014</td>\n      <td>POLYGON ((-76.77774 39.11425, -76.77746 39.114...</td>\n    </tr>\n    <tr>\n      <th>3922</th>\n      <td>24</td>\n      <td>510</td>\n      <td>160500</td>\n      <td>1</td>\n      <td>245101605001</td>\n      <td>POLYGON ((-76.66090 39.30614, -76.66017 39.306...</td>\n    </tr>\n    <tr>\n      <th>3923</th>\n      <td>24</td>\n      <td>510</td>\n      <td>160500</td>\n      <td>2</td>\n      <td>245101605002</td>\n      <td>POLYGON ((-76.65502 39.29848, -76.65464 39.298...</td>\n    </tr>\n    <tr>\n      <th>3924</th>\n      <td>24</td>\n      <td>510</td>\n      <td>160500</td>\n      <td>3</td>\n      <td>245101605003</td>\n      <td>POLYGON ((-76.65941 39.29463, -76.65892 39.294...</td>\n    </tr>\n    <tr>\n      <th>3925</th>\n      <td>24</td>\n      <td>510</td>\n      <td>160500</td>\n      <td>4</td>\n      <td>245101605004</td>\n      <td>POLYGON ((-76.65959 39.29834, -76.65902 39.298...</td>\n    </tr>\n  </tbody>\n</table>\n<p>220333 rows × 6 columns</p>\n</div>"
     },
     "execution_count": 6,
     "metadata": {},
     "output_type": "execute_result"
    }
   ],
   "source": [
    "shapefiles = glob(\"../data/all_data/*.shp\")\n",
    "county_shapes = []\n",
    "for file in  shapefiles:\n",
    "    county_shapes.append(geopandas.read_file(file))\n",
    "\n",
    "county_shapes = pd.concat(county_shapes)[[\"STATEFP\", \"COUNTYFP\", \"TRACTCE\", \"BLKGRPCE\", \"GEOID\", \"geometry\"]]\n",
    "county_shapes[\"GEOID\"] = pd.to_numeric(county_shapes[\"GEOID\"])\n",
    "county_shapes"
   ]
  },
  {
   "cell_type": "code",
   "execution_count": 7,
   "metadata": {
    "pycharm": {
     "name": "#%%\n"
    }
   },
   "outputs": [],
   "source": [
    "try:\n",
    "    state_shapes = pickle.load(open(\"../outputs/state_shapes.pkl\", \"rb\" ))\n",
    "except FileNotFoundError:\n",
    "    state_shapes = county_shapes.groupby(\"STATEFP\")[\"geometry\"].apply(list).reset_index(name=\"geometry\")\n",
    "    state_shapes[\"geometry\"] = state_shapes[\"geometry\"].apply(cascaded_union)\n",
    "    state_shapes = geopandas.GeoDataFrame(state_shapes)\n",
    "    for index, row in state_shapes.iterrows():\n",
    "        neighbors = state_shapes[~state_shapes.geometry.disjoint(row['geometry'])]\n",
    "        state_shapes.at[index, \"neighbors\"] = \", \".join(neighbors.STATEFP.tolist())\n",
    "    with open('../outputs/state_shapes.pkl', 'wb') as f:\n",
    "        pickle.dump(state_shapes, f)"
   ]
  },
  {
   "cell_type": "code",
   "execution_count": 9,
   "metadata": {},
   "outputs": [],
   "source": [
    "def get_bids_with_neighbors(bidding_block_group):\n",
    "    out = defaultdict(list)\n",
    "    for nbg, nexisting_names in bidding_block_group.neighbors.items():\n",
    "        for nexisting_name in nexisting_names:\n",
    "            for bidder in bidding_block_group.bidders:\n",
    "                if bidder in nexisting_name:\n",
    "                    out[bidder].append(nbg)\n",
    "    return out\n",
    "    "
   ]
  },
  {
   "cell_type": "code",
   "execution_count": null,
   "metadata": {
    "pycharm": {
     "is_executing": true
    }
   },
   "outputs": [
    {
     "name": "stdout",
     "output_type": "stream",
     "text": [
      "01\n",
      "222.40874814987183\n",
      "02\n",
      "0.48882031440734863\n",
      "04\n",
      "211.37536191940308\n",
      "05\n",
      "225.4882848262787\n",
      "06\n",
      "570.6300392150879\n",
      "08\n",
      "106.07682394981384\n",
      "09\n",
      "71.38027215003967\n",
      "10\n",
      "28.052826166152954\n",
      "11\n",
      "3.9225430488586426\n",
      "12\n",
      "198.30655717849731\n",
      "13\n",
      "366.630854845047\n",
      "15\n",
      "5.367178201675415\n",
      "16\n",
      "40.030017137527466\n",
      "17\n",
      "638.4413001537323\n",
      "18\n"
     ]
    }
   ],
   "source": [
    "try:\n",
    "    processed_bid_table = pickle.load(open(\"../outputs/neighbors.pkl\", \"rb\" ))\n",
    "except FileNotFoundError:\n",
    "    with open(\"../outputs/neighbors.log\", \"w\") as log:\n",
    "        pass\n",
    "\n",
    "    total_time = 0\n",
    "    processed_bid_list = []\n",
    "    for state_code in state_shapes[\"STATEFP\"].tolist():\n",
    "        print(state_code)\n",
    "        start = time.time()\n",
    "        state_bids = bids.loc[bids[\"state\"]==int(state_code)]\n",
    "        state_bids = state_bids.groupby(\"census_id\").agg({\"bidder\":list, \"round\":list}).reset_index()\n",
    "        state_bids = state_bids.merge(county_shapes, left_on=\"census_id\", right_on=\"GEOID\")\n",
    "\n",
    "        neighbors = state_shapes.loc[state_shapes[\"STATEFP\"] == state_code][\"neighbors\"].item().split(\", \")\n",
    "        neighbors = [int(n) for n in neighbors]\n",
    "        state_existing = existing.loc[existing[\"state\"].isin(neighbors)]\n",
    "        state_existing = state_existing.groupby(\"bg\")[\"names\"].apply(set).reset_index(name=\"names\")\n",
    "        state_existing = state_existing.merge(county_shapes, left_on=\"bg\", right_on=\"GEOID\")\n",
    "        state_existing = geopandas.GeoDataFrame(state_existing)\n",
    "\n",
    "        for index, row in state_bids.iterrows():\n",
    "            bidders = row[\"bidder\"]\n",
    "            rounds = dict(zip(bidders, row[\"round\"]))\n",
    "            bg = row.census_id\n",
    "\n",
    "            neighbors = state_existing[~state_existing.geometry.disjoint(row['geometry'])]\n",
    "            ids = neighbors.GEOID.tolist()\n",
    "            list_set_set_names = neighbors.names.tolist()\n",
    "            neighbors_dict = dict(zip(ids, list_set_set_names))\n",
    "            \n",
    "            winner_data = winners.loc[winners.census_id == bg]\n",
    "            winner_bidder = winner_data.bidder.tolist()\n",
    "            winner_blocks = winner_data.block_id.tolist()\n",
    "            winner_bidder = winner_bidder[0] if len(winner_bidder)==1 else None\n",
    "            winner_blocks = winner_blocks[0] if len(winner_blocks)==1 else []\n",
    "\n",
    "            \n",
    "            bids_with_neighbors = defaultdict(list)\n",
    "            for nbg, nexisting_names in neighbors_dict.items():\n",
    "                for nexisting_name in nexisting_names:\n",
    "                    for bidder in bidders:\n",
    "                        if bidder in nexisting_name:\n",
    "                            bids_with_neighbors[bidder].append(nbg)\n",
    "            \n",
    "            for bidder in bidders:\n",
    "                sat = bidder in ['Space Exploration Technologies Corp.', 'Viasat, Inc.', 'Hughes Network Systems, LLC']\n",
    "                processed_bid_list.append([bidder,\n",
    "                                          bg,\n",
    "                                          rounds[bidder],\n",
    "                                          neighbors_dict,\n",
    "                                          bids_with_neighbors[bidder],\n",
    "                                          bidder == winner_bidder,\n",
    "                                          winner_blocks if bidder == winner_bidder else [],\n",
    "                                          sat,\n",
    "                                          row.geometry])\n",
    "            \n",
    "        state_time = time.time()-start\n",
    "        with open(\"../outputs/neighbors.log\", \"a\") as log:\n",
    "            log.write(f\"{state_code} {state_time}\\n\")\n",
    "        total_time += state_time\n",
    "        print(state_time)\n",
    "\n",
    "    with open(\"../outputs/neighbors.log\", \"a\") as log:\n",
    "        log.write(f\"final time {total_time}\")\n",
    "\n",
    "    processed_bid_table = geopandas.GeoDataFrame(processed_bid_list,\n",
    "                                                 columns=[\"bidder\", \"GEOID\", \"round\", \"all_neighbors\",\n",
    "                                                          \"neighbors\", \"winner\", \"won_blocks\", \"satellite\",\"geometry\"])\n",
    "    with open('../outputs/neighbors.pkl', 'wb') as f:\n",
    "        pickle.dump(processed_bid_table, f)"
   ]
  },
  {
   "cell_type": "code",
   "execution_count": 10,
   "metadata": {},
   "outputs": [],
   "source": [
    "def neighbor_status(census_id, neighbors, satellite):\n",
    "    if satellite:\n",
    "        return 3\n",
    "    neighbors_set = set(neighbors)\n",
    "    if len(neighbors_set)==0:\n",
    "        return 0\n",
    "    elif census_id in neighbors:\n",
    "        return 2\n",
    "    else:\n",
    "        return 1"
   ]
  },
  {
   "cell_type": "code",
   "execution_count": 11,
   "metadata": {},
   "outputs": [],
   "source": [
    "processed_bid_table[\"neighbor_status\"] = processed_bid_table.apply(lambda x: neighbor_status(x.GEOID, x.neighbors, x.satellite), axis=1)"
   ]
  },
  {
   "cell_type": "code",
   "execution_count": 12,
   "metadata": {},
   "outputs": [],
   "source": [
    "processed_bid_table[\"num_blocks_won\"] = processed_bid_table.won_blocks.apply(len)\n",
    "processed_bid_table[\"neighbor_bgs\"] = processed_bid_table.neighbors.apply(len)\n",
    "processed_bid_table[\"all_neighbor_bgs\"] = processed_bid_table.all_neighbors.apply(len)\n",
    "\n",
    "agg = processed_bid_table.groupby(\"bidder\").agg({\"GEOID\":len, \"round\":\"mean\", \"num_blocks_won\":sum,\"neighbor_bgs\":\"mean\",\"all_neighbor_bgs\":\"mean\", \"winner\":sum})\n",
    "agg = agg.rename(columns={'GEOID': 'num bids', 'round': 'average final round number', 'num_blocks_won': 'total blocks won', 'neighbor_bgs': 'average neighbors per bid', 'all_neighbor_bgs': 'average any neighbors per bid', \"winner\":\"num wins\"}).reset_index()\n",
    "existing = processed_bid_table.loc[processed_bid_table.neighbor_status == 2].groupby(\"bidder\").agg({\"GEOID\":len, \"round\":\"mean\", \"num_blocks_won\":sum,\"neighbor_bgs\":\"mean\",\"all_neighbor_bgs\":\"mean\", \"winner\":sum})\n",
    "existing = existing.rename(columns={'GEOID': 'existing bg bids', 'round': 'existing average final round number', 'num_blocks_won': 'existing blocks won', 'neighbor_bgs': 'existing average neighbors per bid', 'all_neighbor_bgs': 'existing average any neighbors per bid', \"winner\":\"existing num wins\"}).reset_index()\n",
    "wild_tract = processed_bid_table.loc[processed_bid_table.neighbor_status == 0].groupby(\"bidder\").agg({\"GEOID\":len, \"round\":\"mean\", \"num_blocks_won\":sum,\"neighbor_bgs\":\"mean\",\"all_neighbor_bgs\":\"mean\", \"winner\":sum})\n",
    "wild_tract = wild_tract.rename(columns={'GEOID': 'wild tract bg bids', 'round': 'wild tract average final round number', 'num_blocks_won': 'wild tract blocks won', 'neighbor_bgs': 'wild tract average neighbors per bid', 'all_neighbor_bgs': 'wild tract average any neighbors per bid', \"winner\":\"wild tract num wins\"}).reset_index()\n",
    "neighbor = processed_bid_table.loc[processed_bid_table.neighbor_status == 1].groupby(\"bidder\").agg({\"GEOID\":len, \"round\":\"mean\", \"num_blocks_won\":sum,\"neighbor_bgs\":\"mean\",\"all_neighbor_bgs\":\"mean\", \"winner\":sum})\n",
    "neighbor = neighbor.rename(columns={'GEOID': 'neighbor bg bids', 'round': 'neighbor average final round number', 'num_blocks_won': 'neighbor blocks won', 'neighbor_bgs': 'neighbor neighbors per bid', 'all_neighbor_bgs': 'neighbor any neighbors per bid', \"winner\":\"neighbor num wins\"}).reset_index()\n",
    "winner = processed_bid_table.loc[processed_bid_table.winner]\n",
    "winner_agg = winner.groupby(\"bidder\").agg({\"round\":\"mean\",\"neighbor_bgs\":\"mean\",\"all_neighbor_bgs\":\"mean\"})\n",
    "winner_agg = winner_agg.rename(columns={'round': 'winner average final round number', 'neighbor_bgs': 'winner average neighbors per bid', 'all_neighbor_bgs': 'winner average any neighbors per bid'}).reset_index()\n",
    "winner_existing = winner.loc[winner.neighbor_status == 2].groupby(\"bidder\").agg({\"round\":\"mean\", \"neighbor_bgs\":\"mean\",\"all_neighbor_bgs\":\"mean\"})\n",
    "winner_existing = winner_existing.rename(columns={'round': 'existing winner average final round number', 'neighbor_bgs': 'existing winner average neighbors per bid', 'all_neighbor_bgs': 'existing winner average any neighbors per bid'}).reset_index()\n",
    "winner_wild_tract = winner.loc[winner.neighbor_status == 0].groupby(\"bidder\").agg({\"round\":\"mean\", \"neighbor_bgs\":\"mean\",\"all_neighbor_bgs\":\"mean\"})\n",
    "winner_wild_tract = winner_wild_tract.rename(columns={'round': 'wild tract winner average final round number', 'neighbor_bgs': 'wild tract winner average neighbors per bid', 'all_neighbor_bgs': 'wild tract winner average any neighbors per bid'}).reset_index()\n",
    "winner_neighbor = winner.loc[winner.neighbor_status == 1].groupby(\"bidder\").agg({\"round\":\"mean\",\"neighbor_bgs\":\"mean\",\"all_neighbor_bgs\":\"mean\"})\n",
    "winner_neighbor = winner_neighbor.rename(columns={'round': 'neighbor winner average final round number', 'neighbor_bgs': 'neighbor winner neighbors per bid', 'all_neighbor_bgs': 'neighbor winner any neighbors per bid'}).reset_index()\n",
    "\n",
    "final = winner_neighbor.merge(winner_wild_tract, how=\"outer\").merge(winner_existing, how=\"outer\").merge(winner_agg, how=\"outer\").merge(neighbor, how=\"outer\").merge(wild_tract, how=\"outer\").merge(existing, how=\"outer\").merge(agg, how=\"outer\")\n",
    "final = final.fillna(0)\n",
    "final[\"wins/bid\"] = final[\"num wins\"]/final[\"num bids\"]\n",
    "final[\"blocks/win\"] = final[\"total blocks won\"]/final[\"num wins\"]\n",
    "final = final.fillna(0)"
   ]
  },
  {
   "cell_type": "code",
   "execution_count": 15,
   "metadata": {
    "pycharm": {
     "name": "#%%\n"
    }
   },
   "outputs": [],
   "source": [
    "final.to_csv(\"../outputs/bidder_neighbor_percentage.csv\", index=False)\n",
    "processed_bid_table.to_pickle(\"../outputs/processed_bids.pkl\")"
   ]
  },
  {
   "cell_type": "code",
   "execution_count": null,
   "outputs": [],
   "source": [],
   "metadata": {
    "collapsed": false,
    "pycharm": {
     "name": "#%%\n"
    }
   }
  }
 ],
 "metadata": {
  "kernelspec": {
   "display_name": "Python 3 (ipykernel)",
   "language": "python",
   "name": "python3"
  },
  "language_info": {
   "codemirror_mode": {
    "name": "ipython",
    "version": 3
   },
   "file_extension": ".py",
   "mimetype": "text/x-python",
   "name": "python",
   "nbconvert_exporter": "python",
   "pygments_lexer": "ipython3",
   "version": "3.8.2"
  }
 },
 "nbformat": 4,
 "nbformat_minor": 1
}