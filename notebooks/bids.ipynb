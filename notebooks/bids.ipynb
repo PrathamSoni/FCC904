{
 "cells": [
  {
   "cell_type": "code",
   "execution_count": 1,
   "metadata": {
    "collapsed": true
   },
   "outputs": [],
   "source": [
    "import pandas as pd\n",
    "from collections import defaultdict"
   ]
  },
  {
   "cell_type": "code",
   "execution_count": 2,
   "outputs": [],
   "source": [
    "processed_bids = pd.read_pickle(\"../outputs/processed_bids.pkl\")\n",
    "census = pd.read_pickle(\"../outputs/all_census_data.pkl\")\n",
    "processed_bids = processed_bids.merge(census,how=\"left\", left_on=\"GEOID\", right_on=\"census_block_group\")"
   ],
   "metadata": {
    "collapsed": false,
    "pycharm": {
     "name": "#%%\n"
    }
   }
  },
  {
   "cell_type": "code",
   "execution_count": 3,
   "outputs": [],
   "source": [
    "bids = pd.read_csv(\"../data/all_bids.csv\")\n",
    "bidders = bids.groupby(\"bidder\").agg({\"t+l_weight\":\"first\", \"tier\":\"first\", \"latency\":\"first\"}).reset_index()\n",
    "name_map = {\n",
    "    \"CCO Holdings, LLC\":\"Charter Communications Inc\",\n",
    "    \"Windstream Services LLC, Debtor-In-Possession\":\"Windstream Holdings, Inc.\",\n",
    "    \"Connect Everyone LLC\":\"Starry, Inc.\",\n",
    "    \"Frontier Communications Corporation, DIP\":\"Frontier Communications Corporation\",\n",
    "    \"California Internet, L.P. dba GeoLinks\":\"GeoLinks\",\n",
    "    \"Etheric Communications LLC\":\"Etheric Networks, Inc.\",\n",
    "    \"Consolidated  Communications, Inc.\":\"Consolidated Communications, Inc.\",\n",
    "    \"Frontier Communications Northwest, LLC\":\"Ziply Fiber\",\n",
    "    \"Citynet West Virginia, LLC\":\"Citynet, LLC\",\n",
    "    \"Computer 5, Inc. d/b/a LocalTel Communications\": \"LocalTel Communications\",\n",
    "    \"Armstrong Telephone Company - Northern Division\": \"Armstrong Holdings, Inc.\",\n",
    "    \"Commnet Wireless, LLC\": \"ATN International, Inc.\",\n",
    "    \"Mediacom Communications Corporation\": \"Mediacom Communications Corp.\",\n",
    "    \"Continental Divide Electric Cooperative\": \"Continental Divide Electric Cooperative, Inc.\",\n",
    "    \"South Arkansas Telephone Company\": \"South Arkansas Telephone Co.\",\n",
    "    \"Digital Connections Inc. dba PRODIGI\": \"Digital Connections, Inc.\",\n",
    "    \"Shenandoah Cable Television, LLC\": \"Shenandoah Telecommunications Company\",\n",
    "    \"Direct Communications Rockland, Inc\": \"Direct Communications Rockland, Inc.\",\n",
    "    \"Pine Belt Communications, Inc.\":\"Pine Belt Communications Co. Inc.\",\n",
    "    \"Savage Communications\":\"Savage Communications Inc.\",\n",
    "    \"Hamilton County Telephone Co-op\":\"Hamilton County Telephone Co-Op\",\n",
    "    \"Hotwire Communications, Ltd\":\"Hotwire Communications Ltd.\",\n",
    "    \"Altice USA, Inc.\":\"Altice\",\n",
    "    \"TruVista Communications, Inc.\":\"TruVista Communications of Georgia, LLC\",\n",
    "    \"Hawaii Dialogix Telecom LLC\":\"Hawaii Dialogix Telecom LLC\",\n",
    "    \"Safelink Internet LLC\":\"Safelink Internet\",\n",
    "    \"American Heartland\":\"Farmers Telephone Company\",\n",
    "    \"Cellular Services LLC.\":\"Cellular Services LLC\",\n",
    "    \"Scott County Telephone Cooperative, Inc.\":\"Scott County\",\n",
    "    \"Micrologic Inc.\":\"Micrologic, Inc.\",\n",
    "    \"Pioneer Wireless, Inc\":\"Pioneer Wireless, Inc.\",\n",
    "    \"St. John Telco\":\"St. John Telephone, Inc.\",\n",
    "    \"One Ring Networks, Inc\":\"One Ring Networks, Inc.\",\n",
    "    \"Emery Telephone dba Emery Telcom\":\"Emery Telcom\",\n",
    "    \"XIT Telecommunication & Technology\":\"XIT Rural Telephone Cooperative, Inc.\",\n",
    "    \"Somerset Telephone Co., Inc.\":\"SOMERSET TELEPHONE COMPANY\",\n",
    "    \"Siuslaw Broadband, LLC dba Hyak Technologies\":\"Siuslaw Broadband, LLC\",\n",
    "    \"Minnesota Connections c/o Consolidated Tel Company\":\"Consolidated Telephone Company\",\n",
    "    \"DoCoMo Pacific, Inc.\":\"Docomo Pacific\",\n",
    "    \"Roseau Electric Cooperative, Inc.\":\"Roseau Electric Cooperative\",\n",
    "    \"Custer Telephone Cooperative, Inc.\":\"Custer Telephone Cooperative Inc.\",\n",
    "    \"Lakeland Communications Group, LLC\":\"Lakeland Communications, Inc.\",\n",
    "    \"LigTel Communications, Inc.\":\"Ligtel Communications\",\n",
    "    \"Hamilton Long Distance Company\":\"Hamilton.net, Inc.\",\n",
    "    \"Allen's T.V. Cable Service, Inc.\":\"Allen's TV Cable Service, Inc.\",\n",
    "    \"W. T. Services, Inc.\":\"W.T. Services, Inc.\",\n",
    "    \"Heart of the Catskills Comm. Inc., dba MTC Cable\":\"MTC Cable\",\n",
    "    \"Citizens Vermont Acquisition Corporation\":\"Citizens Telephone Company\",\n",
    "    \"Nova Cablevision, Inc\":\"Nova Cablevision, Inc.\",\n",
    "    \"yondoo Broadband LLC\":\"yondoo Broadband, LLC\",\n",
    "    \"Baraga Telephone Company\":\"Baraga Telephone Company Inc.\",\n",
    "    \"Miles Communications LLC\":\"Miles Communications, Inc.\",\n",
    "    \"PVT NetWorks, Inc.\":\"Penasco Valley Telephone Cooperative, Inc.\",\n",
    "    \"Yucca Telecommunications Systems, Inc.\":\"Yucca Telecom\",\n",
    "    \"H&B Communication's, Inc.\":\"H&B Enterprises Inc.\",\n",
    "    \"MARQUETTE-ADAMS TELEPHONE COOPERATIVE, INC.\":\"Marquette-Adams Telephone Cooperative, Inc.\",\n",
    "    \"Pinpoint Bidding Coalition\":\"Pinpoint Holdings, Inc.\",\n",
    "    \"Computer Techniques, Inc. dba CTI Fiber\":\"CTI Fiber\",\n",
    "    \"Barry Technology Services, LLC\":\"Barry Technology Services\",\n",
    "    \"Bloosurf, LLC\":\"Bloosurf\",\n",
    "    \"St Paul Cooperative Telephone Association\":\"St Paul Coop Telephone Assoc\",\n",
    "    \"Farmers Mutual Cooperative Telephone Company\":\"FARMERS MUTUAL TELEPHONE COMPANY\",\n",
    "    \"NTS Communications, LLC\":\"NTS, Inc.\",\n",
    "    \"Unified Communications Inc.\":\"Unified Communications, Inc.\",\n",
    "    \"Peoples Communication, LLC.\":\"Peoples Communication, Inc.\",\n",
    "    \"Wood County Telephone Company d/b/a Solarus\":\"Solarus\",\n",
    "    \"Comcell Inc.\":\"Comcell, Inc.\",\n",
    "    \"Taylor Telephone Coop., Inc. dba Taylor Telecom\":\"Taylor Telephone Cooperative, Inc.\",\n",
    "    \"Plateau Telecommunications, Incorporated\":\"Plateau\",\n",
    "    \"AMA Communications, LLC\":\"AMA Communicaitons, L.L.C.\",\n",
    "    \"AirCell, Inc.\":\"AirCell\",\n",
    "    \"Bays-ET Highspeed LLC\":\"Bays-ET Highspeed Internet LLC\",\n",
    "    \"Big Bend Telecom LTD\":\"Big Bend Telephone Company, Inc.\",\n",
    "    \"Blue Ridge Cable Technologies, Inc.\":\"Blue Ridge Cable Technologies, Inc.\",\n",
    "    \"Cass Cable TV, Inc.\":\"Cass Cable TV, Inc.\",\n",
    "    \"City of Wilson GreenLight\":\"City of Wilson\",\n",
    "    \"Climax Telephone Company dba CTS Telecom, Inc.\":\"Climax Telephone Company\",\n",
    "    \"Cumberland Telephone Company, Inc\":\"CUMBERLAND TELEPHONE COMPANY\",\n",
    "    \"Cumby Telephone Coooertive, Inc.\":\"Cumby Telephone Coop., Inc.\",\n",
    "    \"Data Stream Mobile Technoligies Inc.\":\"Data Stream\",\n",
    "    \"Get Wireless Inc\":\"Getwireless.net\",\n",
    "    \"Hartington Telecommunications Co., Inc,\":\"Hartington Telecommunications Co., Inc.\",\n",
    "    \"Hilliary Communications Consortium\":\"Hilliary Communications, LLC\",\n",
    "    \"Hillsboro Telephone Company,  Inc.\":\"Hillsboro Telephone Company\",\n",
    "    \"Home Telephone ILEC, LLC\":\"Home Telephone ILEC, LLC d/b/a Home Telecom\",\n",
    "    \"Hood Canal Telephone Co., Inc\":\"Hood Canal Communications\",\n",
    "    \"Kingdom Telecommunications, Inc.\":\"Kingdom Telecommunications Inc\",\n",
    "    \"Lincolnville Communications\":\"Lincolnville Telephone Company\",\n",
    "    \"Local Internet Service Company, Inc.\":\"Local Internet Service Company\",\n",
    "    \"Martell Enterprise  Inc.\":\"Martell Enterprises, Inc.\",\n",
    "    \"Massena Telephone Company, Inc.\":\"Massena Telephone Company\",\n",
    "    \"Moundridge Telephone Company\":\"Moundridge Telephone Co.\",\n",
    "    \"MyServer.org, Inc dba San Diego Broadband\":\"San Diego Broadband\",\n",
    "    \"Newbreak Management, LLC\":\"Newbreak Communications\",\n",
    "    \"NexGenAccess Incorporated\":\"NexGenAccess\",\n",
    "    \"Northwoods Communication Technologies, LLC\":\"Northwoodsconnect\",\n",
    "    \"One Point Technologies Inc\":\"One Point Technologies Inc.\",\n",
    "    \"Panhandle Telecommunication Systems, Inc.\":\"Panhandle Telephone Cooperative, Inc.\",\n",
    "    \"Pathwayz Communications Inc\":\"Pathwayz Communications, Inc.\",\n",
    "    \"RONAN TELEPHONE COMPANY\":\"Ronan Telephone Co\",\n",
    "    \"Rainbow Communications LLC\":\"Rainbow Telecommunications Association, Inc.\",\n",
    "    \"SOUTHWEST ARKANSAS TELEPHONE COOPERATIVE, INC.\":\"Southwest Arkansas Telephone Cooperative, Inc.\",\n",
    "    \"South Central Wireless, Inc.\":\"South Central Wireless Inc.\",\n",
    "    \"Southern Montana Telephone Company (SMTC)\":\"Southern Montana Telephone Company\",\n",
    "    \"Steelville Telephone Exchange Inc.\":\"Steelville Telephone Exchange Inc\",\n",
    "    \"Tekstar Communications, Inc. dba Arvig\":\"Arvig Enterprises, Inc.\",\n",
    "    \"Upsala Cooperative Telephone Association dba Sytek\":\"UPSALA COOPERATIVE TELEPHONE ASSOCIATION\",\n",
    "    \"Valley Telephone Cooperative, Inc\":\"Valley Telephone Cooperative, Inc.\",\n",
    "    \"Velocity.Net Communications, Inc.\":\"Velocity Communications, Inc.\",\n",
    "    \"Woodstock Telephone Co.\":\"Woodstock Telephone Company\",\n",
    "    \"ZIRKEL Wireless, LLC\":\"Zirkel Wireless\",\n",
    "    \"coon valley cooperative telephone association inc.\":\"Coon Valley Co-op Telephone Association, Inc.\",\n",
    "}\n",
    "\n",
    "bidders[\"bidder\"] = bidders[\"bidder\"].map(lambda x: name_map[x] if x in name_map else x)"
   ],
   "metadata": {
    "collapsed": false,
    "pycharm": {
     "name": "#%%\n"
    }
   }
  },
  {
   "cell_type": "code",
   "execution_count": 4,
   "outputs": [
    {
     "data": {
      "text/plain": "                                      bidder         GEOID  round  \\\n0                                1stel, Inc.   10010207001      9   \n1                Hughes Network Systems, LLC   10010207001     13   \n2                Simple Networks Systems LLC   10010207001     10   \n3       Space Exploration Technologies Corp.   10010207001     13   \n4                               Viasat, Inc.   10010207001     12   \n...                                      ...           ...    ...   \n424126           Hughes Network Systems, LLC  560430002002     12   \n424127                  Plains Internet, LLC  560430002002     10   \n424128           Simple Networks Systems LLC  560430002002      1   \n424129  Space Exploration Technologies Corp.  560430002002     13   \n424130                          Viasat, Inc.  560430002002     12   \n\n                                            all_neighbors neighbors  winner  \\\n0       {10010202002: {('Charter Communications, Inc.'...        []   False   \n1       {10010202002: {('Charter Communications, Inc.'...        []   False   \n2       {10010202002: {('Charter Communications, Inc.'...        []   False   \n3       {10010202002: {('Charter Communications, Inc.'...        []    True   \n4       {10010202002: {('Charter Communications, Inc.'...        []   False   \n...                                                   ...       ...     ...   \n424126  {560039626001: {('Mountain West Technologies C...        []   False   \n424127  {560039626001: {('Mountain West Technologies C...        []   False   \n424128  {560039626001: {('Mountain West Technologies C...        []   False   \n424129  {560039626001: {('Mountain West Technologies C...        []    True   \n424130  {560039626001: {('Mountain West Technologies C...        []   False   \n\n                                               won_blocks  \\\n0                                                      []   \n1                                                      []   \n2                                                      []   \n3        [10010207001071, 10010207001073, 10010207001095]   \n4                                                      []   \n...                                                   ...   \n424126                                                 []   \n424127                                                 []   \n424128                                                 []   \n424129  [560430002002314, 560430002002337, 56043000200...   \n424130                                                 []   \n\n                                                 geometry  neighbor_status  \\\n0       POLYGON ((-86.47038 32.45658, -86.47036 32.456...                0   \n1       POLYGON ((-86.47038 32.45658, -86.47036 32.456...                3   \n2       POLYGON ((-86.47038 32.45658, -86.47036 32.456...                0   \n3       POLYGON ((-86.47038 32.45658, -86.47036 32.456...                3   \n4       POLYGON ((-86.47038 32.45658, -86.47036 32.456...                3   \n...                                                   ...              ...   \n424126  POLYGON ((-108.20175 43.82671, -108.20152 43.8...                3   \n424127  POLYGON ((-108.20175 43.82671, -108.20152 43.8...                0   \n424128  POLYGON ((-108.20175 43.82671, -108.20152 43.8...                0   \n424129  POLYGON ((-108.20175 43.82671, -108.20152 43.8...                3   \n424130  POLYGON ((-108.20175 43.82671, -108.20152 43.8...                3   \n\n        num_blocks_won  neighbor_bgs  all_neighbor_bgs  census_block_group  \\\n0                    0             0                11         10010207001   \n1                    0             0                11         10010207001   \n2                    0             0                11         10010207001   \n3                    3             0                11         10010207001   \n4                    0             0                11         10010207001   \n...                ...           ...               ...                 ...   \n424126               0             0                10        560430002002   \n424127               0             0                10        560430002002   \n424128               0             0                10        560430002002   \n424129               7             0                10        560430002002   \n424130               0             0                10        560430002002   \n\n        B01001e1  B01002e1  \n0           2088      39.4  \n1           2088      39.4  \n2           2088      39.4  \n3           2088      39.4  \n4           2088      39.4  \n...          ...       ...  \n424126      1459      48.6  \n424127      1459      48.6  \n424128      1459      48.6  \n424129      1459      48.6  \n424130      1459      48.6  \n\n[424131 rows x 15 columns]",
      "text/html": "<div>\n<style scoped>\n    .dataframe tbody tr th:only-of-type {\n        vertical-align: middle;\n    }\n\n    .dataframe tbody tr th {\n        vertical-align: top;\n    }\n\n    .dataframe thead th {\n        text-align: right;\n    }\n</style>\n<table border=\"1\" class=\"dataframe\">\n  <thead>\n    <tr style=\"text-align: right;\">\n      <th></th>\n      <th>bidder</th>\n      <th>GEOID</th>\n      <th>round</th>\n      <th>all_neighbors</th>\n      <th>neighbors</th>\n      <th>winner</th>\n      <th>won_blocks</th>\n      <th>geometry</th>\n      <th>neighbor_status</th>\n      <th>num_blocks_won</th>\n      <th>neighbor_bgs</th>\n      <th>all_neighbor_bgs</th>\n      <th>census_block_group</th>\n      <th>B01001e1</th>\n      <th>B01002e1</th>\n    </tr>\n  </thead>\n  <tbody>\n    <tr>\n      <th>0</th>\n      <td>1stel, Inc.</td>\n      <td>10010207001</td>\n      <td>9</td>\n      <td>{10010202002: {('Charter Communications, Inc.'...</td>\n      <td>[]</td>\n      <td>False</td>\n      <td>[]</td>\n      <td>POLYGON ((-86.47038 32.45658, -86.47036 32.456...</td>\n      <td>0</td>\n      <td>0</td>\n      <td>0</td>\n      <td>11</td>\n      <td>10010207001</td>\n      <td>2088</td>\n      <td>39.4</td>\n    </tr>\n    <tr>\n      <th>1</th>\n      <td>Hughes Network Systems, LLC</td>\n      <td>10010207001</td>\n      <td>13</td>\n      <td>{10010202002: {('Charter Communications, Inc.'...</td>\n      <td>[]</td>\n      <td>False</td>\n      <td>[]</td>\n      <td>POLYGON ((-86.47038 32.45658, -86.47036 32.456...</td>\n      <td>3</td>\n      <td>0</td>\n      <td>0</td>\n      <td>11</td>\n      <td>10010207001</td>\n      <td>2088</td>\n      <td>39.4</td>\n    </tr>\n    <tr>\n      <th>2</th>\n      <td>Simple Networks Systems LLC</td>\n      <td>10010207001</td>\n      <td>10</td>\n      <td>{10010202002: {('Charter Communications, Inc.'...</td>\n      <td>[]</td>\n      <td>False</td>\n      <td>[]</td>\n      <td>POLYGON ((-86.47038 32.45658, -86.47036 32.456...</td>\n      <td>0</td>\n      <td>0</td>\n      <td>0</td>\n      <td>11</td>\n      <td>10010207001</td>\n      <td>2088</td>\n      <td>39.4</td>\n    </tr>\n    <tr>\n      <th>3</th>\n      <td>Space Exploration Technologies Corp.</td>\n      <td>10010207001</td>\n      <td>13</td>\n      <td>{10010202002: {('Charter Communications, Inc.'...</td>\n      <td>[]</td>\n      <td>True</td>\n      <td>[10010207001071, 10010207001073, 10010207001095]</td>\n      <td>POLYGON ((-86.47038 32.45658, -86.47036 32.456...</td>\n      <td>3</td>\n      <td>3</td>\n      <td>0</td>\n      <td>11</td>\n      <td>10010207001</td>\n      <td>2088</td>\n      <td>39.4</td>\n    </tr>\n    <tr>\n      <th>4</th>\n      <td>Viasat, Inc.</td>\n      <td>10010207001</td>\n      <td>12</td>\n      <td>{10010202002: {('Charter Communications, Inc.'...</td>\n      <td>[]</td>\n      <td>False</td>\n      <td>[]</td>\n      <td>POLYGON ((-86.47038 32.45658, -86.47036 32.456...</td>\n      <td>3</td>\n      <td>0</td>\n      <td>0</td>\n      <td>11</td>\n      <td>10010207001</td>\n      <td>2088</td>\n      <td>39.4</td>\n    </tr>\n    <tr>\n      <th>...</th>\n      <td>...</td>\n      <td>...</td>\n      <td>...</td>\n      <td>...</td>\n      <td>...</td>\n      <td>...</td>\n      <td>...</td>\n      <td>...</td>\n      <td>...</td>\n      <td>...</td>\n      <td>...</td>\n      <td>...</td>\n      <td>...</td>\n      <td>...</td>\n      <td>...</td>\n    </tr>\n    <tr>\n      <th>424126</th>\n      <td>Hughes Network Systems, LLC</td>\n      <td>560430002002</td>\n      <td>12</td>\n      <td>{560039626001: {('Mountain West Technologies C...</td>\n      <td>[]</td>\n      <td>False</td>\n      <td>[]</td>\n      <td>POLYGON ((-108.20175 43.82671, -108.20152 43.8...</td>\n      <td>3</td>\n      <td>0</td>\n      <td>0</td>\n      <td>10</td>\n      <td>560430002002</td>\n      <td>1459</td>\n      <td>48.6</td>\n    </tr>\n    <tr>\n      <th>424127</th>\n      <td>Plains Internet, LLC</td>\n      <td>560430002002</td>\n      <td>10</td>\n      <td>{560039626001: {('Mountain West Technologies C...</td>\n      <td>[]</td>\n      <td>False</td>\n      <td>[]</td>\n      <td>POLYGON ((-108.20175 43.82671, -108.20152 43.8...</td>\n      <td>0</td>\n      <td>0</td>\n      <td>0</td>\n      <td>10</td>\n      <td>560430002002</td>\n      <td>1459</td>\n      <td>48.6</td>\n    </tr>\n    <tr>\n      <th>424128</th>\n      <td>Simple Networks Systems LLC</td>\n      <td>560430002002</td>\n      <td>1</td>\n      <td>{560039626001: {('Mountain West Technologies C...</td>\n      <td>[]</td>\n      <td>False</td>\n      <td>[]</td>\n      <td>POLYGON ((-108.20175 43.82671, -108.20152 43.8...</td>\n      <td>0</td>\n      <td>0</td>\n      <td>0</td>\n      <td>10</td>\n      <td>560430002002</td>\n      <td>1459</td>\n      <td>48.6</td>\n    </tr>\n    <tr>\n      <th>424129</th>\n      <td>Space Exploration Technologies Corp.</td>\n      <td>560430002002</td>\n      <td>13</td>\n      <td>{560039626001: {('Mountain West Technologies C...</td>\n      <td>[]</td>\n      <td>True</td>\n      <td>[560430002002314, 560430002002337, 56043000200...</td>\n      <td>POLYGON ((-108.20175 43.82671, -108.20152 43.8...</td>\n      <td>3</td>\n      <td>7</td>\n      <td>0</td>\n      <td>10</td>\n      <td>560430002002</td>\n      <td>1459</td>\n      <td>48.6</td>\n    </tr>\n    <tr>\n      <th>424130</th>\n      <td>Viasat, Inc.</td>\n      <td>560430002002</td>\n      <td>12</td>\n      <td>{560039626001: {('Mountain West Technologies C...</td>\n      <td>[]</td>\n      <td>False</td>\n      <td>[]</td>\n      <td>POLYGON ((-108.20175 43.82671, -108.20152 43.8...</td>\n      <td>3</td>\n      <td>0</td>\n      <td>0</td>\n      <td>10</td>\n      <td>560430002002</td>\n      <td>1459</td>\n      <td>48.6</td>\n    </tr>\n  </tbody>\n</table>\n<p>424131 rows × 15 columns</p>\n</div>"
     },
     "execution_count": 4,
     "metadata": {},
     "output_type": "execute_result"
    }
   ],
   "source": [
    "processed_bids.loc[processed_bids.bidder.isin(['Space Exploration Technologies Corp.', 'Viasat, Inc.', 'Hughes Network Systems, LLC']), \"neighbor_status\"] = 3\n",
    "processed_bids"
   ],
   "metadata": {
    "collapsed": false,
    "pycharm": {
     "name": "#%%\n"
    }
   }
  },
  {
   "cell_type": "code",
   "execution_count": 5,
   "outputs": [
    {
     "data": {
      "text/plain": "              GEOID                                            bidders  \\\n0       10010207001  {'1stel, Inc.': {'neighbors': [], 'round': 9, ...   \n1       10010208011  {'Hughes Network Systems, LLC': {'neighbors': ...   \n2       10010208012  {'Hughes Network Systems, LLC': {'neighbors': ...   \n3       10010208021  {'Hughes Network Systems, LLC': {'neighbors': ...   \n4       10010209001  {'Hughes Network Systems, LLC': {'neighbors': ...   \n...             ...                                                ...   \n61736  560399676003  {'AMG Technology Investment Group LLC': {'neig...   \n61737  560399677021  {'AMG Technology Investment Group LLC': {'neig...   \n61738  560419753001  {'AMG Technology Investment Group LLC': {'neig...   \n61739  560430002001  {'AMG Technology Investment Group LLC': {'neig...   \n61740  560430002002  {'AMG Technology Investment Group LLC': {'neig...   \n\n                                     winner  \\\n0      Space Exploration Technologies Corp.   \n1      Space Exploration Technologies Corp.   \n2      Space Exploration Technologies Corp.   \n3                       RDOF USA Consortium   \n4                       RDOF USA Consortium   \n...                                     ...   \n61736  Space Exploration Technologies Corp.   \n61737  Space Exploration Technologies Corp.   \n61738  Space Exploration Technologies Corp.   \n61739  Space Exploration Technologies Corp.   \n61740  Space Exploration Technologies Corp.   \n\n                                                  blocks  round  \\\n0       [10010207001071, 10010207001073, 10010207001095]   13.0   \n1      [10010208011010, 10010208011017, 1001020801102...   13.0   \n2      [10010208012004, 10010208012010, 1001020801201...   13.0   \n3      [10010208021003, 10010208021006, 1001020802101...   13.0   \n4      [10010209001000, 10010209001001, 1001020900100...   13.0   \n...                                                  ...    ...   \n61736  [560399676003075, 560399676003087, 56039967600...   13.0   \n61737  [560399677021047, 560399677021058, 56039967702...   13.0   \n61738                                  [560419753001107]   13.0   \n61739                 [560430002001181, 560430002001513]   13.0   \n61740  [560430002002314, 560430002002337, 56043000200...   13.0   \n\n       neighbor_status                                      all_neighbors  \\\n0                  3.0  {10010202002: {('Charter Communications, Inc.'...   \n1                  3.0  {10010206002: {('WideOpenWest Finance, LLC', '...   \n2                  3.0  {10010201001: {('WideOpenWest Finance, LLC', '...   \n3                  0.0  {10010201001: {('WideOpenWest Finance, LLC', '...   \n4                  0.0  {10010208021: {('Central Access, Inc.', 'Centr...   \n...                ...                                                ...   \n61736              3.0  {160199701001: {('Silver Star Telephone Compan...   \n61737              3.0  {560399676001: {('Millennium Networks, LLC', '...   \n61738              3.0  {490439641011: {('COMCAST CABLE COMMUNICATIONS...   \n61739              3.0  {560039626002: {('Mountain West Technologies C...   \n61740              3.0  {560039626001: {('Mountain West Technologies C...   \n\n                                                geometry  population   age  \n0      POLYGON ((-86.47038099999999 32.456581, -86.47...      2088.0  39.4  \n1      POLYGON ((-86.59549799999999 32.381123, -86.59...       860.0  39.3  \n2      POLYGON ((-86.591984 32.44164, -86.591976 32.4...      2336.0  40.9  \n3      POLYGON ((-86.645787 32.554375, -86.6457779999...      3158.0  31.0  \n4      POLYGON ((-86.664761 32.627948, -86.6647069999...      1296.0  44.4  \n...                                                  ...         ...   ...  \n61736  POLYGON ((-111.045492 43.51067099999999, -111....      1731.0  39.8  \n61737  POLYGON ((-111.039007 43.472801, -111.036624 4...      1084.0  42.9  \n61738  POLYGON ((-111.046818 41.156019, -111.046818 4...      1961.0  40.4  \n61739  POLYGON ((-108.550788 44.12770099999999, -108....       777.0  48.0  \n61740  POLYGON ((-108.201752 43.82671, -108.20152 43....      1459.0  48.6  \n\n[61741 rows x 10 columns]",
      "text/html": "<div>\n<style scoped>\n    .dataframe tbody tr th:only-of-type {\n        vertical-align: middle;\n    }\n\n    .dataframe tbody tr th {\n        vertical-align: top;\n    }\n\n    .dataframe thead th {\n        text-align: right;\n    }\n</style>\n<table border=\"1\" class=\"dataframe\">\n  <thead>\n    <tr style=\"text-align: right;\">\n      <th></th>\n      <th>GEOID</th>\n      <th>bidders</th>\n      <th>winner</th>\n      <th>blocks</th>\n      <th>round</th>\n      <th>neighbor_status</th>\n      <th>all_neighbors</th>\n      <th>geometry</th>\n      <th>population</th>\n      <th>age</th>\n    </tr>\n  </thead>\n  <tbody>\n    <tr>\n      <th>0</th>\n      <td>10010207001</td>\n      <td>{'1stel, Inc.': {'neighbors': [], 'round': 9, ...</td>\n      <td>Space Exploration Technologies Corp.</td>\n      <td>[10010207001071, 10010207001073, 10010207001095]</td>\n      <td>13.0</td>\n      <td>3.0</td>\n      <td>{10010202002: {('Charter Communications, Inc.'...</td>\n      <td>POLYGON ((-86.47038099999999 32.456581, -86.47...</td>\n      <td>2088.0</td>\n      <td>39.4</td>\n    </tr>\n    <tr>\n      <th>1</th>\n      <td>10010208011</td>\n      <td>{'Hughes Network Systems, LLC': {'neighbors': ...</td>\n      <td>Space Exploration Technologies Corp.</td>\n      <td>[10010208011010, 10010208011017, 1001020801102...</td>\n      <td>13.0</td>\n      <td>3.0</td>\n      <td>{10010206002: {('WideOpenWest Finance, LLC', '...</td>\n      <td>POLYGON ((-86.59549799999999 32.381123, -86.59...</td>\n      <td>860.0</td>\n      <td>39.3</td>\n    </tr>\n    <tr>\n      <th>2</th>\n      <td>10010208012</td>\n      <td>{'Hughes Network Systems, LLC': {'neighbors': ...</td>\n      <td>Space Exploration Technologies Corp.</td>\n      <td>[10010208012004, 10010208012010, 1001020801201...</td>\n      <td>13.0</td>\n      <td>3.0</td>\n      <td>{10010201001: {('WideOpenWest Finance, LLC', '...</td>\n      <td>POLYGON ((-86.591984 32.44164, -86.591976 32.4...</td>\n      <td>2336.0</td>\n      <td>40.9</td>\n    </tr>\n    <tr>\n      <th>3</th>\n      <td>10010208021</td>\n      <td>{'Hughes Network Systems, LLC': {'neighbors': ...</td>\n      <td>RDOF USA Consortium</td>\n      <td>[10010208021003, 10010208021006, 1001020802101...</td>\n      <td>13.0</td>\n      <td>0.0</td>\n      <td>{10010201001: {('WideOpenWest Finance, LLC', '...</td>\n      <td>POLYGON ((-86.645787 32.554375, -86.6457779999...</td>\n      <td>3158.0</td>\n      <td>31.0</td>\n    </tr>\n    <tr>\n      <th>4</th>\n      <td>10010209001</td>\n      <td>{'Hughes Network Systems, LLC': {'neighbors': ...</td>\n      <td>RDOF USA Consortium</td>\n      <td>[10010209001000, 10010209001001, 1001020900100...</td>\n      <td>13.0</td>\n      <td>0.0</td>\n      <td>{10010208021: {('Central Access, Inc.', 'Centr...</td>\n      <td>POLYGON ((-86.664761 32.627948, -86.6647069999...</td>\n      <td>1296.0</td>\n      <td>44.4</td>\n    </tr>\n    <tr>\n      <th>...</th>\n      <td>...</td>\n      <td>...</td>\n      <td>...</td>\n      <td>...</td>\n      <td>...</td>\n      <td>...</td>\n      <td>...</td>\n      <td>...</td>\n      <td>...</td>\n      <td>...</td>\n    </tr>\n    <tr>\n      <th>61736</th>\n      <td>560399676003</td>\n      <td>{'AMG Technology Investment Group LLC': {'neig...</td>\n      <td>Space Exploration Technologies Corp.</td>\n      <td>[560399676003075, 560399676003087, 56039967600...</td>\n      <td>13.0</td>\n      <td>3.0</td>\n      <td>{160199701001: {('Silver Star Telephone Compan...</td>\n      <td>POLYGON ((-111.045492 43.51067099999999, -111....</td>\n      <td>1731.0</td>\n      <td>39.8</td>\n    </tr>\n    <tr>\n      <th>61737</th>\n      <td>560399677021</td>\n      <td>{'AMG Technology Investment Group LLC': {'neig...</td>\n      <td>Space Exploration Technologies Corp.</td>\n      <td>[560399677021047, 560399677021058, 56039967702...</td>\n      <td>13.0</td>\n      <td>3.0</td>\n      <td>{560399676001: {('Millennium Networks, LLC', '...</td>\n      <td>POLYGON ((-111.039007 43.472801, -111.036624 4...</td>\n      <td>1084.0</td>\n      <td>42.9</td>\n    </tr>\n    <tr>\n      <th>61738</th>\n      <td>560419753001</td>\n      <td>{'AMG Technology Investment Group LLC': {'neig...</td>\n      <td>Space Exploration Technologies Corp.</td>\n      <td>[560419753001107]</td>\n      <td>13.0</td>\n      <td>3.0</td>\n      <td>{490439641011: {('COMCAST CABLE COMMUNICATIONS...</td>\n      <td>POLYGON ((-111.046818 41.156019, -111.046818 4...</td>\n      <td>1961.0</td>\n      <td>40.4</td>\n    </tr>\n    <tr>\n      <th>61739</th>\n      <td>560430002001</td>\n      <td>{'AMG Technology Investment Group LLC': {'neig...</td>\n      <td>Space Exploration Technologies Corp.</td>\n      <td>[560430002001181, 560430002001513]</td>\n      <td>13.0</td>\n      <td>3.0</td>\n      <td>{560039626002: {('Mountain West Technologies C...</td>\n      <td>POLYGON ((-108.550788 44.12770099999999, -108....</td>\n      <td>777.0</td>\n      <td>48.0</td>\n    </tr>\n    <tr>\n      <th>61740</th>\n      <td>560430002002</td>\n      <td>{'AMG Technology Investment Group LLC': {'neig...</td>\n      <td>Space Exploration Technologies Corp.</td>\n      <td>[560430002002314, 560430002002337, 56043000200...</td>\n      <td>13.0</td>\n      <td>3.0</td>\n      <td>{560039626001: {('Mountain West Technologies C...</td>\n      <td>POLYGON ((-108.201752 43.82671, -108.20152 43....</td>\n      <td>1459.0</td>\n      <td>48.6</td>\n    </tr>\n  </tbody>\n</table>\n<p>61741 rows × 10 columns</p>\n</div>"
     },
     "execution_count": 5,
     "metadata": {},
     "output_type": "execute_result"
    }
   ],
   "source": [
    "new_table = defaultdict(dict)\n",
    "for idx, row in processed_bids.iterrows():\n",
    "    id = row[\"GEOID\"]\n",
    "    bidder = row[\"bidder\"]\n",
    "    if \"bidders\" not in new_table[id]:\n",
    "        new_table[id][\"bidders\"] = dict()\n",
    "\n",
    "    new_table[id][\"bidders\"][bidder] = {\"neighbors\": row[\"neighbors\"], \"round\": row[\"round\"],\n",
    "                                        \"neighbor_status\": row[\"neighbor_status\"]}\n",
    "    if row[\"winner\"]:\n",
    "        new_table[id][\"winner\"] = bidder\n",
    "        new_table[id][\"blocks\"] = row[\"won_blocks\"]\n",
    "        new_table[id][\"round\"] = row[\"round\"]\n",
    "        new_table[id][\"neighbor_status\"] = row[\"neighbor_status\"]\n",
    "        new_table[id][\"all_neighbors\"] = row[\"all_neighbors\"]\n",
    "        new_table[id][\"geometry\"] = row[\"geometry\"]\n",
    "        new_table[id][\"population\"] = row[\"B01001e1\"]\n",
    "        new_table[id][\"age\"] = row[\"B01002e1\"]\n",
    "\n",
    "collapsed_bids = pd.DataFrame.from_dict(new_table , orient='index')\n",
    "collapsed_bids = collapsed_bids.reset_index().rename(columns={\"index\":\"GEOID\"})\n",
    "collapsed_bids"
   ],
   "metadata": {
    "collapsed": false,
    "pycharm": {
     "name": "#%%\n"
    }
   }
  },
  {
   "cell_type": "code",
   "execution_count": 6,
   "outputs": [
    {
     "data": {
      "text/plain": "              GEOID                                            bidders  \\\n0       10010207001  {'1stel, Inc.': {'neighbors': [], 'round': 9, ...   \n1       10010208011  {'Hughes Network Systems, LLC': {'neighbors': ...   \n2       10010208012  {'Hughes Network Systems, LLC': {'neighbors': ...   \n3       10010208021  {'Hughes Network Systems, LLC': {'neighbors': ...   \n4       10010209001  {'Hughes Network Systems, LLC': {'neighbors': ...   \n...             ...                                                ...   \n61736  560399676003  {'AMG Technology Investment Group LLC': {'neig...   \n61737  560399677021  {'AMG Technology Investment Group LLC': {'neig...   \n61738  560419753001  {'AMG Technology Investment Group LLC': {'neig...   \n61739  560430002001  {'AMG Technology Investment Group LLC': {'neig...   \n61740  560430002002  {'AMG Technology Investment Group LLC': {'neig...   \n\n                                     winner  \\\n0      Space Exploration Technologies Corp.   \n1      Space Exploration Technologies Corp.   \n2      Space Exploration Technologies Corp.   \n3                       RDOF USA Consortium   \n4                       RDOF USA Consortium   \n...                                     ...   \n61736  Space Exploration Technologies Corp.   \n61737  Space Exploration Technologies Corp.   \n61738  Space Exploration Technologies Corp.   \n61739  Space Exploration Technologies Corp.   \n61740  Space Exploration Technologies Corp.   \n\n                                                  blocks  round  \\\n0       [10010207001071, 10010207001073, 10010207001095]   13.0   \n1      [10010208011010, 10010208011017, 1001020801102...   13.0   \n2      [10010208012004, 10010208012010, 1001020801201...   13.0   \n3      [10010208021003, 10010208021006, 1001020802101...   13.0   \n4      [10010209001000, 10010209001001, 1001020900100...   13.0   \n...                                                  ...    ...   \n61736  [560399676003075, 560399676003087, 56039967600...   13.0   \n61737  [560399677021047, 560399677021058, 56039967702...   13.0   \n61738                                  [560419753001107]   13.0   \n61739                 [560430002001181, 560430002001513]   13.0   \n61740  [560430002002314, 560430002002337, 56043000200...   13.0   \n\n       neighbor_status                                      all_neighbors  \\\n0                  3.0  {10010202002: {('Charter Communications, Inc.'...   \n1                  3.0  {10010206002: {('WideOpenWest Finance, LLC', '...   \n2                  3.0  {10010201001: {('WideOpenWest Finance, LLC', '...   \n3                  0.0  {10010201001: {('WideOpenWest Finance, LLC', '...   \n4                  0.0  {10010208021: {('Central Access, Inc.', 'Centr...   \n...                ...                                                ...   \n61736              3.0  {160199701001: {('Silver Star Telephone Compan...   \n61737              3.0  {560399676001: {('Millennium Networks, LLC', '...   \n61738              3.0  {490439641011: {('COMCAST CABLE COMMUNICATIONS...   \n61739              3.0  {560039626002: {('Mountain West Technologies C...   \n61740              3.0  {560039626001: {('Mountain West Technologies C...   \n\n                                                geometry  population   age  \\\n0      POLYGON ((-86.47038099999999 32.456581, -86.47...      2088.0  39.4   \n1      POLYGON ((-86.59549799999999 32.381123, -86.59...       860.0  39.3   \n2      POLYGON ((-86.591984 32.44164, -86.591976 32.4...      2336.0  40.9   \n3      POLYGON ((-86.645787 32.554375, -86.6457779999...      3158.0  31.0   \n4      POLYGON ((-86.664761 32.627948, -86.6647069999...      1296.0  44.4   \n...                                                  ...         ...   ...   \n61736  POLYGON ((-111.045492 43.51067099999999, -111....      1731.0  39.8   \n61737  POLYGON ((-111.039007 43.472801, -111.036624 4...      1084.0  42.9   \n61738  POLYGON ((-111.046818 41.156019, -111.046818 4...      1961.0  40.4   \n61739  POLYGON ((-108.550788 44.12770099999999, -108....       777.0  48.0   \n61740  POLYGON ((-108.201752 43.82671, -108.20152 43....      1459.0  48.6   \n\n       t+l_weight            tier latency  \n0            20.0  Above Baseline     Low  \n1            20.0  Above Baseline     Low  \n2            20.0  Above Baseline     Low  \n3             0.0         Gigabit     Low  \n4             0.0         Gigabit     Low  \n...           ...             ...     ...  \n61736        20.0  Above Baseline     Low  \n61737        20.0  Above Baseline     Low  \n61738        20.0  Above Baseline     Low  \n61739        20.0  Above Baseline     Low  \n61740        20.0  Above Baseline     Low  \n\n[61741 rows x 13 columns]",
      "text/html": "<div>\n<style scoped>\n    .dataframe tbody tr th:only-of-type {\n        vertical-align: middle;\n    }\n\n    .dataframe tbody tr th {\n        vertical-align: top;\n    }\n\n    .dataframe thead th {\n        text-align: right;\n    }\n</style>\n<table border=\"1\" class=\"dataframe\">\n  <thead>\n    <tr style=\"text-align: right;\">\n      <th></th>\n      <th>GEOID</th>\n      <th>bidders</th>\n      <th>winner</th>\n      <th>blocks</th>\n      <th>round</th>\n      <th>neighbor_status</th>\n      <th>all_neighbors</th>\n      <th>geometry</th>\n      <th>population</th>\n      <th>age</th>\n      <th>t+l_weight</th>\n      <th>tier</th>\n      <th>latency</th>\n    </tr>\n  </thead>\n  <tbody>\n    <tr>\n      <th>0</th>\n      <td>10010207001</td>\n      <td>{'1stel, Inc.': {'neighbors': [], 'round': 9, ...</td>\n      <td>Space Exploration Technologies Corp.</td>\n      <td>[10010207001071, 10010207001073, 10010207001095]</td>\n      <td>13.0</td>\n      <td>3.0</td>\n      <td>{10010202002: {('Charter Communications, Inc.'...</td>\n      <td>POLYGON ((-86.47038099999999 32.456581, -86.47...</td>\n      <td>2088.0</td>\n      <td>39.4</td>\n      <td>20.0</td>\n      <td>Above Baseline</td>\n      <td>Low</td>\n    </tr>\n    <tr>\n      <th>1</th>\n      <td>10010208011</td>\n      <td>{'Hughes Network Systems, LLC': {'neighbors': ...</td>\n      <td>Space Exploration Technologies Corp.</td>\n      <td>[10010208011010, 10010208011017, 1001020801102...</td>\n      <td>13.0</td>\n      <td>3.0</td>\n      <td>{10010206002: {('WideOpenWest Finance, LLC', '...</td>\n      <td>POLYGON ((-86.59549799999999 32.381123, -86.59...</td>\n      <td>860.0</td>\n      <td>39.3</td>\n      <td>20.0</td>\n      <td>Above Baseline</td>\n      <td>Low</td>\n    </tr>\n    <tr>\n      <th>2</th>\n      <td>10010208012</td>\n      <td>{'Hughes Network Systems, LLC': {'neighbors': ...</td>\n      <td>Space Exploration Technologies Corp.</td>\n      <td>[10010208012004, 10010208012010, 1001020801201...</td>\n      <td>13.0</td>\n      <td>3.0</td>\n      <td>{10010201001: {('WideOpenWest Finance, LLC', '...</td>\n      <td>POLYGON ((-86.591984 32.44164, -86.591976 32.4...</td>\n      <td>2336.0</td>\n      <td>40.9</td>\n      <td>20.0</td>\n      <td>Above Baseline</td>\n      <td>Low</td>\n    </tr>\n    <tr>\n      <th>3</th>\n      <td>10010208021</td>\n      <td>{'Hughes Network Systems, LLC': {'neighbors': ...</td>\n      <td>RDOF USA Consortium</td>\n      <td>[10010208021003, 10010208021006, 1001020802101...</td>\n      <td>13.0</td>\n      <td>0.0</td>\n      <td>{10010201001: {('WideOpenWest Finance, LLC', '...</td>\n      <td>POLYGON ((-86.645787 32.554375, -86.6457779999...</td>\n      <td>3158.0</td>\n      <td>31.0</td>\n      <td>0.0</td>\n      <td>Gigabit</td>\n      <td>Low</td>\n    </tr>\n    <tr>\n      <th>4</th>\n      <td>10010209001</td>\n      <td>{'Hughes Network Systems, LLC': {'neighbors': ...</td>\n      <td>RDOF USA Consortium</td>\n      <td>[10010209001000, 10010209001001, 1001020900100...</td>\n      <td>13.0</td>\n      <td>0.0</td>\n      <td>{10010208021: {('Central Access, Inc.', 'Centr...</td>\n      <td>POLYGON ((-86.664761 32.627948, -86.6647069999...</td>\n      <td>1296.0</td>\n      <td>44.4</td>\n      <td>0.0</td>\n      <td>Gigabit</td>\n      <td>Low</td>\n    </tr>\n    <tr>\n      <th>...</th>\n      <td>...</td>\n      <td>...</td>\n      <td>...</td>\n      <td>...</td>\n      <td>...</td>\n      <td>...</td>\n      <td>...</td>\n      <td>...</td>\n      <td>...</td>\n      <td>...</td>\n      <td>...</td>\n      <td>...</td>\n      <td>...</td>\n    </tr>\n    <tr>\n      <th>61736</th>\n      <td>560399676003</td>\n      <td>{'AMG Technology Investment Group LLC': {'neig...</td>\n      <td>Space Exploration Technologies Corp.</td>\n      <td>[560399676003075, 560399676003087, 56039967600...</td>\n      <td>13.0</td>\n      <td>3.0</td>\n      <td>{160199701001: {('Silver Star Telephone Compan...</td>\n      <td>POLYGON ((-111.045492 43.51067099999999, -111....</td>\n      <td>1731.0</td>\n      <td>39.8</td>\n      <td>20.0</td>\n      <td>Above Baseline</td>\n      <td>Low</td>\n    </tr>\n    <tr>\n      <th>61737</th>\n      <td>560399677021</td>\n      <td>{'AMG Technology Investment Group LLC': {'neig...</td>\n      <td>Space Exploration Technologies Corp.</td>\n      <td>[560399677021047, 560399677021058, 56039967702...</td>\n      <td>13.0</td>\n      <td>3.0</td>\n      <td>{560399676001: {('Millennium Networks, LLC', '...</td>\n      <td>POLYGON ((-111.039007 43.472801, -111.036624 4...</td>\n      <td>1084.0</td>\n      <td>42.9</td>\n      <td>20.0</td>\n      <td>Above Baseline</td>\n      <td>Low</td>\n    </tr>\n    <tr>\n      <th>61738</th>\n      <td>560419753001</td>\n      <td>{'AMG Technology Investment Group LLC': {'neig...</td>\n      <td>Space Exploration Technologies Corp.</td>\n      <td>[560419753001107]</td>\n      <td>13.0</td>\n      <td>3.0</td>\n      <td>{490439641011: {('COMCAST CABLE COMMUNICATIONS...</td>\n      <td>POLYGON ((-111.046818 41.156019, -111.046818 4...</td>\n      <td>1961.0</td>\n      <td>40.4</td>\n      <td>20.0</td>\n      <td>Above Baseline</td>\n      <td>Low</td>\n    </tr>\n    <tr>\n      <th>61739</th>\n      <td>560430002001</td>\n      <td>{'AMG Technology Investment Group LLC': {'neig...</td>\n      <td>Space Exploration Technologies Corp.</td>\n      <td>[560430002001181, 560430002001513]</td>\n      <td>13.0</td>\n      <td>3.0</td>\n      <td>{560039626002: {('Mountain West Technologies C...</td>\n      <td>POLYGON ((-108.550788 44.12770099999999, -108....</td>\n      <td>777.0</td>\n      <td>48.0</td>\n      <td>20.0</td>\n      <td>Above Baseline</td>\n      <td>Low</td>\n    </tr>\n    <tr>\n      <th>61740</th>\n      <td>560430002002</td>\n      <td>{'AMG Technology Investment Group LLC': {'neig...</td>\n      <td>Space Exploration Technologies Corp.</td>\n      <td>[560430002002314, 560430002002337, 56043000200...</td>\n      <td>13.0</td>\n      <td>3.0</td>\n      <td>{560039626001: {('Mountain West Technologies C...</td>\n      <td>POLYGON ((-108.201752 43.82671, -108.20152 43....</td>\n      <td>1459.0</td>\n      <td>48.6</td>\n      <td>20.0</td>\n      <td>Above Baseline</td>\n      <td>Low</td>\n    </tr>\n  </tbody>\n</table>\n<p>61741 rows × 13 columns</p>\n</div>"
     },
     "execution_count": 6,
     "metadata": {},
     "output_type": "execute_result"
    }
   ],
   "source": [
    "collapsed_bids = collapsed_bids.merge(bidders, how=\"left\",left_on=\"winner\", right_on=\"bidder\").drop(columns=[\"bidder\"])\n",
    "collapsed_bids.to_pickle(\"../outputs/collapsed_bids.pkl\")\n",
    "collapsed_bids"
   ],
   "metadata": {
    "collapsed": false,
    "pycharm": {
     "name": "#%%\n"
    }
   }
  },
  {
   "cell_type": "code",
   "execution_count": 7,
   "outputs": [
    {
     "data": {
      "text/plain": "              GEOID                                            bidders  \\\n0       10010207001  {'1stel, Inc.': {'neighbors': [], 'round': 9, ...   \n1       10010208011  {'Hughes Network Systems, LLC': {'neighbors': ...   \n2       10010208012  {'Hughes Network Systems, LLC': {'neighbors': ...   \n3       10010208021  {'Hughes Network Systems, LLC': {'neighbors': ...   \n4       10010209001  {'Hughes Network Systems, LLC': {'neighbors': ...   \n...             ...                                                ...   \n61736  560399676003  {'AMG Technology Investment Group LLC': {'neig...   \n61737  560399677021  {'AMG Technology Investment Group LLC': {'neig...   \n61738  560419753001  {'AMG Technology Investment Group LLC': {'neig...   \n61739  560430002001  {'AMG Technology Investment Group LLC': {'neig...   \n61740  560430002002  {'AMG Technology Investment Group LLC': {'neig...   \n\n                                     winner  \\\n0      Space Exploration Technologies Corp.   \n1      Space Exploration Technologies Corp.   \n2      Space Exploration Technologies Corp.   \n3                       RDOF USA Consortium   \n4                       RDOF USA Consortium   \n...                                     ...   \n61736  Space Exploration Technologies Corp.   \n61737  Space Exploration Technologies Corp.   \n61738  Space Exploration Technologies Corp.   \n61739  Space Exploration Technologies Corp.   \n61740  Space Exploration Technologies Corp.   \n\n                                                  blocks  round  \\\n0       [10010207001071, 10010207001073, 10010207001095]   13.0   \n1      [10010208011010, 10010208011017, 1001020801102...   13.0   \n2      [10010208012004, 10010208012010, 1001020801201...   13.0   \n3      [10010208021003, 10010208021006, 1001020802101...   13.0   \n4      [10010209001000, 10010209001001, 1001020900100...   13.0   \n...                                                  ...    ...   \n61736  [560399676003075, 560399676003087, 56039967600...   13.0   \n61737  [560399677021047, 560399677021058, 56039967702...   13.0   \n61738                                  [560419753001107]   13.0   \n61739                 [560430002001181, 560430002001513]   13.0   \n61740  [560430002002314, 560430002002337, 56043000200...   13.0   \n\n       neighbor_status                                      all_neighbors  \\\n0                  3.0  {10010202002: {('Charter Communications, Inc.'...   \n1                  3.0  {10010206002: {('WideOpenWest Finance, LLC', '...   \n2                  3.0  {10010201001: {('WideOpenWest Finance, LLC', '...   \n3                  0.0  {10010201001: {('WideOpenWest Finance, LLC', '...   \n4                  0.0  {10010208021: {('Central Access, Inc.', 'Centr...   \n...                ...                                                ...   \n61736              3.0  {160199701001: {('Silver Star Telephone Compan...   \n61737              3.0  {560399676001: {('Millennium Networks, LLC', '...   \n61738              3.0  {490439641011: {('COMCAST CABLE COMMUNICATIONS...   \n61739              3.0  {560039626002: {('Mountain West Technologies C...   \n61740              3.0  {560039626001: {('Mountain West Technologies C...   \n\n                                                geometry  population   age  \\\n0      POLYGON ((-86.47038099999999 32.456581, -86.47...      2088.0  39.4   \n1      POLYGON ((-86.59549799999999 32.381123, -86.59...       860.0  39.3   \n2      POLYGON ((-86.591984 32.44164, -86.591976 32.4...      2336.0  40.9   \n3      POLYGON ((-86.645787 32.554375, -86.6457779999...      3158.0  31.0   \n4      POLYGON ((-86.664761 32.627948, -86.6647069999...      1296.0  44.4   \n...                                                  ...         ...   ...   \n61736  POLYGON ((-111.045492 43.51067099999999, -111....      1731.0  39.8   \n61737  POLYGON ((-111.039007 43.472801, -111.036624 4...      1084.0  42.9   \n61738  POLYGON ((-111.046818 41.156019, -111.046818 4...      1961.0  40.4   \n61739  POLYGON ((-108.550788 44.12770099999999, -108....       777.0  48.0   \n61740  POLYGON ((-108.201752 43.82671, -108.20152 43....      1459.0  48.6   \n\n       t+l_weight            tier latency  competition bidders  \n0            20.0  Above Baseline     Low                    3  \n1            20.0  Above Baseline     Low                    3  \n2            20.0  Above Baseline     Low                    3  \n3             0.0         Gigabit     Low                    3  \n4             0.0         Gigabit     Low                    3  \n...           ...             ...     ...                  ...  \n61736        20.0  Above Baseline     Low                    3  \n61737        20.0  Above Baseline     Low                    4  \n61738        20.0  Above Baseline     Low                    3  \n61739        20.0  Above Baseline     Low                    3  \n61740        20.0  Above Baseline     Low                    3  \n\n[61590 rows x 14 columns]",
      "text/html": "<div>\n<style scoped>\n    .dataframe tbody tr th:only-of-type {\n        vertical-align: middle;\n    }\n\n    .dataframe tbody tr th {\n        vertical-align: top;\n    }\n\n    .dataframe thead th {\n        text-align: right;\n    }\n</style>\n<table border=\"1\" class=\"dataframe\">\n  <thead>\n    <tr style=\"text-align: right;\">\n      <th></th>\n      <th>GEOID</th>\n      <th>bidders</th>\n      <th>winner</th>\n      <th>blocks</th>\n      <th>round</th>\n      <th>neighbor_status</th>\n      <th>all_neighbors</th>\n      <th>geometry</th>\n      <th>population</th>\n      <th>age</th>\n      <th>t+l_weight</th>\n      <th>tier</th>\n      <th>latency</th>\n      <th>competition bidders</th>\n    </tr>\n  </thead>\n  <tbody>\n    <tr>\n      <th>0</th>\n      <td>10010207001</td>\n      <td>{'1stel, Inc.': {'neighbors': [], 'round': 9, ...</td>\n      <td>Space Exploration Technologies Corp.</td>\n      <td>[10010207001071, 10010207001073, 10010207001095]</td>\n      <td>13.0</td>\n      <td>3.0</td>\n      <td>{10010202002: {('Charter Communications, Inc.'...</td>\n      <td>POLYGON ((-86.47038099999999 32.456581, -86.47...</td>\n      <td>2088.0</td>\n      <td>39.4</td>\n      <td>20.0</td>\n      <td>Above Baseline</td>\n      <td>Low</td>\n      <td>3</td>\n    </tr>\n    <tr>\n      <th>1</th>\n      <td>10010208011</td>\n      <td>{'Hughes Network Systems, LLC': {'neighbors': ...</td>\n      <td>Space Exploration Technologies Corp.</td>\n      <td>[10010208011010, 10010208011017, 1001020801102...</td>\n      <td>13.0</td>\n      <td>3.0</td>\n      <td>{10010206002: {('WideOpenWest Finance, LLC', '...</td>\n      <td>POLYGON ((-86.59549799999999 32.381123, -86.59...</td>\n      <td>860.0</td>\n      <td>39.3</td>\n      <td>20.0</td>\n      <td>Above Baseline</td>\n      <td>Low</td>\n      <td>3</td>\n    </tr>\n    <tr>\n      <th>2</th>\n      <td>10010208012</td>\n      <td>{'Hughes Network Systems, LLC': {'neighbors': ...</td>\n      <td>Space Exploration Technologies Corp.</td>\n      <td>[10010208012004, 10010208012010, 1001020801201...</td>\n      <td>13.0</td>\n      <td>3.0</td>\n      <td>{10010201001: {('WideOpenWest Finance, LLC', '...</td>\n      <td>POLYGON ((-86.591984 32.44164, -86.591976 32.4...</td>\n      <td>2336.0</td>\n      <td>40.9</td>\n      <td>20.0</td>\n      <td>Above Baseline</td>\n      <td>Low</td>\n      <td>3</td>\n    </tr>\n    <tr>\n      <th>3</th>\n      <td>10010208021</td>\n      <td>{'Hughes Network Systems, LLC': {'neighbors': ...</td>\n      <td>RDOF USA Consortium</td>\n      <td>[10010208021003, 10010208021006, 1001020802101...</td>\n      <td>13.0</td>\n      <td>0.0</td>\n      <td>{10010201001: {('WideOpenWest Finance, LLC', '...</td>\n      <td>POLYGON ((-86.645787 32.554375, -86.6457779999...</td>\n      <td>3158.0</td>\n      <td>31.0</td>\n      <td>0.0</td>\n      <td>Gigabit</td>\n      <td>Low</td>\n      <td>3</td>\n    </tr>\n    <tr>\n      <th>4</th>\n      <td>10010209001</td>\n      <td>{'Hughes Network Systems, LLC': {'neighbors': ...</td>\n      <td>RDOF USA Consortium</td>\n      <td>[10010209001000, 10010209001001, 1001020900100...</td>\n      <td>13.0</td>\n      <td>0.0</td>\n      <td>{10010208021: {('Central Access, Inc.', 'Centr...</td>\n      <td>POLYGON ((-86.664761 32.627948, -86.6647069999...</td>\n      <td>1296.0</td>\n      <td>44.4</td>\n      <td>0.0</td>\n      <td>Gigabit</td>\n      <td>Low</td>\n      <td>3</td>\n    </tr>\n    <tr>\n      <th>...</th>\n      <td>...</td>\n      <td>...</td>\n      <td>...</td>\n      <td>...</td>\n      <td>...</td>\n      <td>...</td>\n      <td>...</td>\n      <td>...</td>\n      <td>...</td>\n      <td>...</td>\n      <td>...</td>\n      <td>...</td>\n      <td>...</td>\n      <td>...</td>\n    </tr>\n    <tr>\n      <th>61736</th>\n      <td>560399676003</td>\n      <td>{'AMG Technology Investment Group LLC': {'neig...</td>\n      <td>Space Exploration Technologies Corp.</td>\n      <td>[560399676003075, 560399676003087, 56039967600...</td>\n      <td>13.0</td>\n      <td>3.0</td>\n      <td>{160199701001: {('Silver Star Telephone Compan...</td>\n      <td>POLYGON ((-111.045492 43.51067099999999, -111....</td>\n      <td>1731.0</td>\n      <td>39.8</td>\n      <td>20.0</td>\n      <td>Above Baseline</td>\n      <td>Low</td>\n      <td>3</td>\n    </tr>\n    <tr>\n      <th>61737</th>\n      <td>560399677021</td>\n      <td>{'AMG Technology Investment Group LLC': {'neig...</td>\n      <td>Space Exploration Technologies Corp.</td>\n      <td>[560399677021047, 560399677021058, 56039967702...</td>\n      <td>13.0</td>\n      <td>3.0</td>\n      <td>{560399676001: {('Millennium Networks, LLC', '...</td>\n      <td>POLYGON ((-111.039007 43.472801, -111.036624 4...</td>\n      <td>1084.0</td>\n      <td>42.9</td>\n      <td>20.0</td>\n      <td>Above Baseline</td>\n      <td>Low</td>\n      <td>4</td>\n    </tr>\n    <tr>\n      <th>61738</th>\n      <td>560419753001</td>\n      <td>{'AMG Technology Investment Group LLC': {'neig...</td>\n      <td>Space Exploration Technologies Corp.</td>\n      <td>[560419753001107]</td>\n      <td>13.0</td>\n      <td>3.0</td>\n      <td>{490439641011: {('COMCAST CABLE COMMUNICATIONS...</td>\n      <td>POLYGON ((-111.046818 41.156019, -111.046818 4...</td>\n      <td>1961.0</td>\n      <td>40.4</td>\n      <td>20.0</td>\n      <td>Above Baseline</td>\n      <td>Low</td>\n      <td>3</td>\n    </tr>\n    <tr>\n      <th>61739</th>\n      <td>560430002001</td>\n      <td>{'AMG Technology Investment Group LLC': {'neig...</td>\n      <td>Space Exploration Technologies Corp.</td>\n      <td>[560430002001181, 560430002001513]</td>\n      <td>13.0</td>\n      <td>3.0</td>\n      <td>{560039626002: {('Mountain West Technologies C...</td>\n      <td>POLYGON ((-108.550788 44.12770099999999, -108....</td>\n      <td>777.0</td>\n      <td>48.0</td>\n      <td>20.0</td>\n      <td>Above Baseline</td>\n      <td>Low</td>\n      <td>3</td>\n    </tr>\n    <tr>\n      <th>61740</th>\n      <td>560430002002</td>\n      <td>{'AMG Technology Investment Group LLC': {'neig...</td>\n      <td>Space Exploration Technologies Corp.</td>\n      <td>[560430002002314, 560430002002337, 56043000200...</td>\n      <td>13.0</td>\n      <td>3.0</td>\n      <td>{560039626001: {('Mountain West Technologies C...</td>\n      <td>POLYGON ((-108.201752 43.82671, -108.20152 43....</td>\n      <td>1459.0</td>\n      <td>48.6</td>\n      <td>20.0</td>\n      <td>Above Baseline</td>\n      <td>Low</td>\n      <td>3</td>\n    </tr>\n  </tbody>\n</table>\n<p>61590 rows × 14 columns</p>\n</div>"
     },
     "execution_count": 7,
     "metadata": {},
     "output_type": "execute_result"
    }
   ],
   "source": [
    "def get_number_with_neighbors(cell):\n",
    "    counter = 0\n",
    "    for bidder, data in cell.items():\n",
    "        if data[\"neighbor_status\"] not in [0]: # counts satellites as local competitor always\n",
    "            counter +=1\n",
    "    return counter\n",
    "collapsed_bids[\"competition bidders\"] = collapsed_bids.apply(lambda x: get_number_with_neighbors(x.bidders), axis=1)\n",
    "collapsed_bids[collapsed_bids[\"competition bidders\"] >=2]"
   ],
   "metadata": {
    "collapsed": false,
    "pycharm": {
     "name": "#%%\n"
    }
   }
  },
  {
   "cell_type": "code",
   "execution_count": 8,
   "outputs": [
    {
     "name": "stdout",
     "output_type": "stream",
     "text": [
      "neighbor status all bids\n",
      "0    207299\n",
      "1     10337\n",
      "2     24898\n",
      "3    181597\n",
      "Name: neighbor_status, dtype: int64\n",
      "neighbor status winning bids\n",
      "0    26034\n",
      "1     2782\n",
      "2     8939\n",
      "3    19399\n",
      "Name: neighbor_status, dtype: int64\n",
      "cbg competition bidders\n",
      "0         2\n",
      "1       149\n",
      "2      2203\n",
      "3     34991\n",
      "4     17056\n",
      "5      5474\n",
      "6      1440\n",
      "7       350\n",
      "8        66\n",
      "9         8\n",
      "10        2\n",
      "Name: competition bidders, dtype: int64\n",
      "finishing round\n",
      "12.0     1893\n",
      "13.0    32628\n",
      "14.0     4481\n",
      "15.0     3686\n",
      "16.0     2376\n",
      "17.0     5380\n",
      "18.0     2252\n",
      "19.0     4458\n",
      "Name: round, dtype: int64\n",
      "cbg won\n",
      "True     57154\n",
      "False     4587\n",
      "Name: winner, dtype: int64\n"
     ]
    }
   ],
   "source": [
    "print(\"neighbor status all bids\")\n",
    "print(processed_bids[\"neighbor_status\"].value_counts().sort_index())\n",
    "print(\"neighbor status winning bids\")\n",
    "print(processed_bids[processed_bids[\"winner\"]][\"neighbor_status\"].value_counts().sort_index())\n",
    "print(\"cbg competition bidders\")\n",
    "print(collapsed_bids[\"competition bidders\"].value_counts().sort_index())\n",
    "print(\"finishing round\")\n",
    "print(collapsed_bids[\"round\"].value_counts().sort_index())\n",
    "print(\"cbg won\")\n",
    "print((~collapsed_bids[\"winner\"].isna()).value_counts())"
   ],
   "metadata": {
    "collapsed": false,
    "pycharm": {
     "name": "#%%\n"
    }
   }
  },
  {
   "cell_type": "code",
   "execution_count": 9,
   "outputs": [
    {
     "data": {
      "text/plain": "<Figure size 432x288 with 1 Axes>",
      "image/png": "[encoded data removed]"
     },
     "metadata": {
      "needs_background": "light"
     },
     "output_type": "display_data"
    }
   ],
   "source": [
    "import matplotlib.pyplot as plt\n",
    "plt.violinplot([processed_bids[processed_bids.neighbor_status==0][\"round\"].values,\n",
    "                processed_bids[processed_bids.neighbor_status==1][\"round\"].values,\n",
    "                processed_bids[processed_bids.neighbor_status==2][\"round\"].values,\n",
    "                processed_bids[processed_bids.neighbor_status==3][\"round\"].values],\n",
    "               range(0,4))\n",
    "plt.show()"
   ],
   "metadata": {
    "collapsed": false,
    "pycharm": {
     "name": "#%%\n"
    }
   }
  },
  {
   "cell_type": "code",
   "execution_count": 31,
   "outputs": [],
   "source": [
    "collapsed_bids[\"num_bidders\"] = collapsed_bids.apply(lambda x: len(x.bidders), axis =1)\n",
    "partial_table = collapsed_bids[[\"GEOID\", \"num_bidders\"]]\n",
    "processed_bids = processed_bids.merge(partial_table, how=\"left\")"
   ],
   "metadata": {
    "collapsed": false,
    "pycharm": {
     "name": "#%%\n"
    }
   }
  },
  {
   "cell_type": "code",
   "execution_count": 32,
   "outputs": [
    {
     "data": {
      "text/plain": "                                     bidder         GEOID  round  \\\n0                               1stel, Inc.   10010207001      9   \n2               Simple Networks Systems LLC   10010207001     10   \n5                 Windstream Holdings, Inc.   10010207001      6   \n6                Wisper-CABO 904 Consortium   10010207001     10   \n8                       RDOF USA Consortium   10010208011     12   \n...                                     ...           ...    ...   \n424121                 Plains Internet, LLC  560430002001     10   \n424122          Simple Networks Systems LLC  560430002001     10   \n424125  AMG Technology Investment Group LLC  560430002002      6   \n424127                 Plains Internet, LLC  560430002002     10   \n424128          Simple Networks Systems LLC  560430002002      1   \n\n                                            all_neighbors neighbors  winner  \\\n0       {10010202002: {('Charter Communications, Inc.'...        []   False   \n2       {10010202002: {('Charter Communications, Inc.'...        []   False   \n5       {10010202002: {('Charter Communications, Inc.'...        []   False   \n6       {10010202002: {('Charter Communications, Inc.'...        []   False   \n8       {10010206002: {('WideOpenWest Finance, LLC', '...        []   False   \n...                                                   ...       ...     ...   \n424121  {560039626002: {('Mountain West Technologies C...        []   False   \n424122  {560039626002: {('Mountain West Technologies C...        []   False   \n424125  {560039626001: {('Mountain West Technologies C...        []   False   \n424127  {560039626001: {('Mountain West Technologies C...        []   False   \n424128  {560039626001: {('Mountain West Technologies C...        []   False   \n\n       won_blocks                                           geometry  \\\n0              []  POLYGON ((-86.47038 32.45658, -86.47036 32.456...   \n2              []  POLYGON ((-86.47038 32.45658, -86.47036 32.456...   \n5              []  POLYGON ((-86.47038 32.45658, -86.47036 32.456...   \n6              []  POLYGON ((-86.47038 32.45658, -86.47036 32.456...   \n8              []  POLYGON ((-86.59550 32.38112, -86.59546 32.381...   \n...           ...                                                ...   \n424121         []  POLYGON ((-108.55079 44.12770, -108.55073 44.1...   \n424122         []  POLYGON ((-108.55079 44.12770, -108.55073 44.1...   \n424125         []  POLYGON ((-108.20175 43.82671, -108.20152 43.8...   \n424127         []  POLYGON ((-108.20175 43.82671, -108.20152 43.8...   \n424128         []  POLYGON ((-108.20175 43.82671, -108.20152 43.8...   \n\n        neighbor_status  num_blocks_won  neighbor_bgs  all_neighbor_bgs  \\\n0                     0               0             0                11   \n2                     0               0             0                11   \n5                     0               0             0                11   \n6                     0               0             0                11   \n8                     0               0             0                 7   \n...                 ...             ...           ...               ...   \n424121                0               0             0                 8   \n424122                0               0             0                 8   \n424125                0               0             0                10   \n424127                0               0             0                10   \n424128                0               0             0                10   \n\n        census_block_group  B01001e1  B01002e1  num_bidders  dummy_1  dummy_2  \n0              10010207001      2088      39.4            7    False    False  \n2              10010207001      2088      39.4            7    False    False  \n5              10010207001      2088      39.4            7    False    False  \n6              10010207001      2088      39.4            7    False    False  \n8              10010208011       860      39.3            7    False    False  \n...                    ...       ...       ...          ...      ...      ...  \n424121        560430002001       777      48.0            6    False    False  \n424122        560430002001       777      48.0            6    False    False  \n424125        560430002002      1459      48.6            6    False    False  \n424127        560430002002      1459      48.6            6    False    False  \n424128        560430002002      1459      48.6            6    False    False  \n\n[242534 rows x 18 columns]",
      "text/html": "<div>\n<style scoped>\n    .dataframe tbody tr th:only-of-type {\n        vertical-align: middle;\n    }\n\n    .dataframe tbody tr th {\n        vertical-align: top;\n    }\n\n    .dataframe thead th {\n        text-align: right;\n    }\n</style>\n<table border=\"1\" class=\"dataframe\">\n  <thead>\n    <tr style=\"text-align: right;\">\n      <th></th>\n      <th>bidder</th>\n      <th>GEOID</th>\n      <th>round</th>\n      <th>all_neighbors</th>\n      <th>neighbors</th>\n      <th>winner</th>\n      <th>won_blocks</th>\n      <th>geometry</th>\n      <th>neighbor_status</th>\n      <th>num_blocks_won</th>\n      <th>neighbor_bgs</th>\n      <th>all_neighbor_bgs</th>\n      <th>census_block_group</th>\n      <th>B01001e1</th>\n      <th>B01002e1</th>\n      <th>num_bidders</th>\n      <th>dummy_1</th>\n      <th>dummy_2</th>\n    </tr>\n  </thead>\n  <tbody>\n    <tr>\n      <th>0</th>\n      <td>1stel, Inc.</td>\n      <td>10010207001</td>\n      <td>9</td>\n      <td>{10010202002: {('Charter Communications, Inc.'...</td>\n      <td>[]</td>\n      <td>False</td>\n      <td>[]</td>\n      <td>POLYGON ((-86.47038 32.45658, -86.47036 32.456...</td>\n      <td>0</td>\n      <td>0</td>\n      <td>0</td>\n      <td>11</td>\n      <td>10010207001</td>\n      <td>2088</td>\n      <td>39.4</td>\n      <td>7</td>\n      <td>False</td>\n      <td>False</td>\n    </tr>\n    <tr>\n      <th>2</th>\n      <td>Simple Networks Systems LLC</td>\n      <td>10010207001</td>\n      <td>10</td>\n      <td>{10010202002: {('Charter Communications, Inc.'...</td>\n      <td>[]</td>\n      <td>False</td>\n      <td>[]</td>\n      <td>POLYGON ((-86.47038 32.45658, -86.47036 32.456...</td>\n      <td>0</td>\n      <td>0</td>\n      <td>0</td>\n      <td>11</td>\n      <td>10010207001</td>\n      <td>2088</td>\n      <td>39.4</td>\n      <td>7</td>\n      <td>False</td>\n      <td>False</td>\n    </tr>\n    <tr>\n      <th>5</th>\n      <td>Windstream Holdings, Inc.</td>\n      <td>10010207001</td>\n      <td>6</td>\n      <td>{10010202002: {('Charter Communications, Inc.'...</td>\n      <td>[]</td>\n      <td>False</td>\n      <td>[]</td>\n      <td>POLYGON ((-86.47038 32.45658, -86.47036 32.456...</td>\n      <td>0</td>\n      <td>0</td>\n      <td>0</td>\n      <td>11</td>\n      <td>10010207001</td>\n      <td>2088</td>\n      <td>39.4</td>\n      <td>7</td>\n      <td>False</td>\n      <td>False</td>\n    </tr>\n    <tr>\n      <th>6</th>\n      <td>Wisper-CABO 904 Consortium</td>\n      <td>10010207001</td>\n      <td>10</td>\n      <td>{10010202002: {('Charter Communications, Inc.'...</td>\n      <td>[]</td>\n      <td>False</td>\n      <td>[]</td>\n      <td>POLYGON ((-86.47038 32.45658, -86.47036 32.456...</td>\n      <td>0</td>\n      <td>0</td>\n      <td>0</td>\n      <td>11</td>\n      <td>10010207001</td>\n      <td>2088</td>\n      <td>39.4</td>\n      <td>7</td>\n      <td>False</td>\n      <td>False</td>\n    </tr>\n    <tr>\n      <th>8</th>\n      <td>RDOF USA Consortium</td>\n      <td>10010208011</td>\n      <td>12</td>\n      <td>{10010206002: {('WideOpenWest Finance, LLC', '...</td>\n      <td>[]</td>\n      <td>False</td>\n      <td>[]</td>\n      <td>POLYGON ((-86.59550 32.38112, -86.59546 32.381...</td>\n      <td>0</td>\n      <td>0</td>\n      <td>0</td>\n      <td>7</td>\n      <td>10010208011</td>\n      <td>860</td>\n      <td>39.3</td>\n      <td>7</td>\n      <td>False</td>\n      <td>False</td>\n    </tr>\n    <tr>\n      <th>...</th>\n      <td>...</td>\n      <td>...</td>\n      <td>...</td>\n      <td>...</td>\n      <td>...</td>\n      <td>...</td>\n      <td>...</td>\n      <td>...</td>\n      <td>...</td>\n      <td>...</td>\n      <td>...</td>\n      <td>...</td>\n      <td>...</td>\n      <td>...</td>\n      <td>...</td>\n      <td>...</td>\n      <td>...</td>\n      <td>...</td>\n    </tr>\n    <tr>\n      <th>424121</th>\n      <td>Plains Internet, LLC</td>\n      <td>560430002001</td>\n      <td>10</td>\n      <td>{560039626002: {('Mountain West Technologies C...</td>\n      <td>[]</td>\n      <td>False</td>\n      <td>[]</td>\n      <td>POLYGON ((-108.55079 44.12770, -108.55073 44.1...</td>\n      <td>0</td>\n      <td>0</td>\n      <td>0</td>\n      <td>8</td>\n      <td>560430002001</td>\n      <td>777</td>\n      <td>48.0</td>\n      <td>6</td>\n      <td>False</td>\n      <td>False</td>\n    </tr>\n    <tr>\n      <th>424122</th>\n      <td>Simple Networks Systems LLC</td>\n      <td>560430002001</td>\n      <td>10</td>\n      <td>{560039626002: {('Mountain West Technologies C...</td>\n      <td>[]</td>\n      <td>False</td>\n      <td>[]</td>\n      <td>POLYGON ((-108.55079 44.12770, -108.55073 44.1...</td>\n      <td>0</td>\n      <td>0</td>\n      <td>0</td>\n      <td>8</td>\n      <td>560430002001</td>\n      <td>777</td>\n      <td>48.0</td>\n      <td>6</td>\n      <td>False</td>\n      <td>False</td>\n    </tr>\n    <tr>\n      <th>424125</th>\n      <td>AMG Technology Investment Group LLC</td>\n      <td>560430002002</td>\n      <td>6</td>\n      <td>{560039626001: {('Mountain West Technologies C...</td>\n      <td>[]</td>\n      <td>False</td>\n      <td>[]</td>\n      <td>POLYGON ((-108.20175 43.82671, -108.20152 43.8...</td>\n      <td>0</td>\n      <td>0</td>\n      <td>0</td>\n      <td>10</td>\n      <td>560430002002</td>\n      <td>1459</td>\n      <td>48.6</td>\n      <td>6</td>\n      <td>False</td>\n      <td>False</td>\n    </tr>\n    <tr>\n      <th>424127</th>\n      <td>Plains Internet, LLC</td>\n      <td>560430002002</td>\n      <td>10</td>\n      <td>{560039626001: {('Mountain West Technologies C...</td>\n      <td>[]</td>\n      <td>False</td>\n      <td>[]</td>\n      <td>POLYGON ((-108.20175 43.82671, -108.20152 43.8...</td>\n      <td>0</td>\n      <td>0</td>\n      <td>0</td>\n      <td>10</td>\n      <td>560430002002</td>\n      <td>1459</td>\n      <td>48.6</td>\n      <td>6</td>\n      <td>False</td>\n      <td>False</td>\n    </tr>\n    <tr>\n      <th>424128</th>\n      <td>Simple Networks Systems LLC</td>\n      <td>560430002002</td>\n      <td>1</td>\n      <td>{560039626001: {('Mountain West Technologies C...</td>\n      <td>[]</td>\n      <td>False</td>\n      <td>[]</td>\n      <td>POLYGON ((-108.20175 43.82671, -108.20152 43.8...</td>\n      <td>0</td>\n      <td>0</td>\n      <td>0</td>\n      <td>10</td>\n      <td>560430002002</td>\n      <td>1459</td>\n      <td>48.6</td>\n      <td>6</td>\n      <td>False</td>\n      <td>False</td>\n    </tr>\n  </tbody>\n</table>\n<p>242534 rows × 18 columns</p>\n</div>"
     },
     "execution_count": 32,
     "metadata": {},
     "output_type": "execute_result"
    }
   ],
   "source": [
    "terrestrial = processed_bids[(processed_bids[\"neighbor_status\"] >=0 )& (processed_bids[\"neighbor_status\"] <=2) ].copy()\n",
    "terrestrial[\"dummy_1\"] = terrestrial.apply(lambda x: x.neighbor_status==1, axis =1)\n",
    "terrestrial[\"dummy_2\"] = terrestrial.apply(lambda x: x.neighbor_status==2, axis =1)\n",
    "terrestrial"
   ],
   "metadata": {
    "collapsed": false,
    "pycharm": {
     "name": "#%%\n"
    }
   }
  },
  {
   "cell_type": "code",
   "execution_count": 33,
   "outputs": [
    {
     "name": "stdout",
     "output_type": "stream",
     "text": [
      "                            OLS Regression Results                            \n",
      "==============================================================================\n",
      "Dep. Variable:                  round   R-squared:                       0.054\n",
      "Model:                            OLS   Adj. R-squared:                  0.054\n",
      "Method:                 Least Squares   F-statistic:                     6928.\n",
      "Date:                Thu, 20 Oct 2022   Prob (F-statistic):               0.00\n",
      "Time:                        10:18:42   Log-Likelihood:            -6.6611e+05\n",
      "No. Observations:              242534   AIC:                         1.332e+06\n",
      "Df Residuals:                  242531   BIC:                         1.332e+06\n",
      "Df Model:                           2                                         \n",
      "Covariance Type:            nonrobust                                         \n",
      "===================================================================================\n",
      "                      coef    std err          t      P>|t|      [0.025      0.975]\n",
      "-----------------------------------------------------------------------------------\n",
      "Intercept          11.4295      0.008   1379.694      0.000      11.413      11.446\n",
      "dummy_1[T.True]     2.3543      0.038     61.936      0.000       2.280       2.429\n",
      "dummy_2[T.True]     2.6378      0.025    104.269      0.000       2.588       2.687\n",
      "==============================================================================\n",
      "Omnibus:                     3976.931   Durbin-Watson:                   1.601\n",
      "Prob(Omnibus):                  0.000   Jarque-Bera (JB):             4064.361\n",
      "Skew:                          -0.304   Prob(JB):                         0.00\n",
      "Kurtosis:                       2.817   Cond. No.                         5.01\n",
      "==============================================================================\n",
      "\n",
      "Notes:\n",
      "[1] Standard Errors assume that the covariance matrix of the errors is correctly specified.\n"
     ]
    }
   ],
   "source": [
    "import statsmodels.formula.api as smf\n",
    "formula = \"round ~ dummy_1 + dummy_2\"\n",
    "results = smf.ols(formula,terrestrial).fit()\n",
    "print(results.summary())"
   ],
   "metadata": {
    "collapsed": false,
    "pycharm": {
     "name": "#%%\n"
    }
   }
  },
  {
   "cell_type": "code",
   "execution_count": 34,
   "outputs": [
    {
     "name": "stdout",
     "output_type": "stream",
     "text": [
      "                            OLS Regression Results                            \n",
      "==============================================================================\n",
      "Dep. Variable:                  round   R-squared:                       0.141\n",
      "Model:                            OLS   Adj. R-squared:                  0.141\n",
      "Method:                 Least Squares   F-statistic:                     7915.\n",
      "Date:                Thu, 20 Oct 2022   Prob (F-statistic):               0.00\n",
      "Time:                        10:19:15   Log-Likelihood:            -6.5293e+05\n",
      "No. Observations:              241962   AIC:                         1.306e+06\n",
      "Df Residuals:                  241956   BIC:                         1.306e+06\n",
      "Df Model:                           5                                         \n",
      "Covariance Type:            nonrobust                                         \n",
      "===================================================================================\n",
      "                      coef    std err          t      P>|t|      [0.025      0.975]\n",
      "-----------------------------------------------------------------------------------\n",
      "Intercept           7.9191      0.045    177.014      0.000       7.831       8.007\n",
      "dummy_1[T.True]     2.1268      0.036     58.556      0.000       2.056       2.198\n",
      "dummy_2[T.True]     2.6966      0.024    111.645      0.000       2.649       2.744\n",
      "B01001e1        -4.441e-05   6.23e-06     -7.132      0.000   -5.66e-05   -3.22e-05\n",
      "B01002e1            0.0033      0.001      4.033      0.000       0.002       0.005\n",
      "num_bidders         0.3869      0.003    153.823      0.000       0.382       0.392\n",
      "==============================================================================\n",
      "Omnibus:                     7080.707   Durbin-Watson:                   1.759\n",
      "Prob(Omnibus):                  0.000   Jarque-Bera (JB):             7718.575\n",
      "Skew:                          -0.436   Prob(JB):                         0.00\n",
      "Kurtosis:                       3.071   Cond. No.                     1.18e+04\n",
      "==============================================================================\n",
      "\n",
      "Notes:\n",
      "[1] Standard Errors assume that the covariance matrix of the errors is correctly specified.\n",
      "[2] The condition number is large, 1.18e+04. This might indicate that there are\n",
      "strong multicollinearity or other numerical problems.\n"
     ]
    }
   ],
   "source": [
    "formula = \"round ~ dummy_1 + dummy_2 + B01001e1+ B01002e1 + num_bidders\"\n",
    "results = smf.ols(formula,terrestrial).fit()\n",
    "print(results.summary())"
   ],
   "metadata": {
    "collapsed": false,
    "pycharm": {
     "name": "#%%\n"
    }
   }
  },
  {
   "cell_type": "code",
   "execution_count": 16,
   "outputs": [],
   "source": [
    "def last_terrestrial(bidders):\n",
    "    max_round = 0\n",
    "    for bidder, data in bidders.items():\n",
    "        if data[\"neighbor_status\"] !=3:\n",
    "            max_round = max(max_round, data[\"round\"])\n",
    "    return max_round\n",
    "collapsed_bids[\"terrestrial round\"] = collapsed_bids.apply(lambda x:last_terrestrial(x.bidders), axis=1)"
   ],
   "metadata": {
    "collapsed": false,
    "pycharm": {
     "name": "#%%\n"
    }
   }
  },
  {
   "cell_type": "code",
   "execution_count": 25,
   "outputs": [
    {
     "data": {
      "text/plain": "-1.0        4\n 0.0     2912\n 1.0     3079\n 2.0     3030\n 3.0     2231\n 4.0       61\n 5.0     1624\n 6.0     1475\n 7.0      274\n 8.0        5\n 9.0        1\n 10.0       2\n 11.0       9\n 12.0     366\n 13.0    4326\ndtype: int64"
     },
     "execution_count": 25,
     "metadata": {},
     "output_type": "execute_result"
    }
   ],
   "source": [
    "(collapsed_bids[collapsed_bids[\"neighbor_status\"]==3][\"round\"]-collapsed_bids[collapsed_bids[\"neighbor_status\"]==3][\"terrestrial round\"]).value_counts().sort_index()"
   ],
   "metadata": {
    "collapsed": false,
    "pycharm": {
     "name": "#%%\n"
    }
   }
  },
  {
   "cell_type": "code",
   "execution_count": 45,
   "outputs": [
    {
     "data": {
      "text/plain": "0.3495938707950342"
     },
     "execution_count": 45,
     "metadata": {},
     "output_type": "execute_result"
    }
   ],
   "source": [
    "collapsed_bids[collapsed_bids[\"winner\"]==\"Space Exploration Technologies Corp.\"].population.sum()/collapsed_bids.population.sum()"
   ],
   "metadata": {
    "collapsed": false,
    "pycharm": {
     "name": "#%%\n"
    }
   }
  },
  {
   "cell_type": "code",
   "execution_count": null,
   "outputs": [],
   "source": [],
   "metadata": {
    "collapsed": false,
    "pycharm": {
     "name": "#%%\n"
    }
   }
  }
 ],
 "metadata": {
  "kernelspec": {
   "display_name": "Python 3",
   "language": "python",
   "name": "python3"
  },
  "language_info": {
   "codemirror_mode": {
    "name": "ipython",
    "version": 2
   },
   "file_extension": ".py",
   "mimetype": "text/x-python",
   "name": "python",
   "nbconvert_exporter": "python",
   "pygments_lexer": "ipython2",
   "version": "2.7.6"
  }
 },
 "nbformat": 4,
 "nbformat_minor": 0
}