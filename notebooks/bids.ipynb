{
 "cells": [
  {
   "cell_type": "code",
   "execution_count": 1,
   "metadata": {
    "collapsed": true
   },
   "outputs": [],
   "source": [
    "import pandas as pd\n",
    "from collections import defaultdict"
   ]
  },
  {
   "cell_type": "code",
   "execution_count": 2,
   "outputs": [],
   "source": [
    "processed_bids = pd.read_pickle(\"../outputs/processed_bids.pkl\")"
   ],
   "metadata": {
    "collapsed": false,
    "pycharm": {
     "name": "#%%\n"
    }
   }
  },
  {
   "cell_type": "code",
   "execution_count": 3,
   "outputs": [],
   "source": [
    "new_table = defaultdict(dict)\n",
    "for idx, row in processed_bids.iterrows():\n",
    "    id = row[\"GEOID\"]\n",
    "    bidder = row[\"bidder\"]\n",
    "    if \"bidders\" not in new_table[id]:\n",
    "        new_table[id][\"bidders\"] = dict()\n",
    "    new_table[id][\"all_neighbors\"] = row[\"all_neighbors\"]\n",
    "    new_table[id][\"geometry\"] = row[\"geometry\"]\n",
    "    new_table[id][\"bidders\"][bidder] = {\"neighbors\": row[\"neighbors\"], \"round\": row[\"round\"],\n",
    "                                        \"neighbor_status\": row[\"neighbor_status\"]}\n",
    "    if row[\"winner\"]:\n",
    "        new_table[id][\"winner\"] = bidder\n",
    "        new_table[id][\"blocks\"] = row[\"won_blocks\"]\n",
    "        new_table[id][\"round\"] = row[\"round\"]"
   ],
   "metadata": {
    "collapsed": false,
    "pycharm": {
     "name": "#%%\n"
    }
   }
  },
  {
   "cell_type": "code",
   "execution_count": 12,
   "outputs": [
    {
     "data": {
      "text/plain": "              GEOID                                            bidders  \\\n0       10010207001  {'1stel, Inc.': {'neighbors': [], 'round': 9, ...   \n1       10010208011  {'Hughes Network Systems, LLC': {'neighbors': ...   \n2       10010208012  {'Hughes Network Systems, LLC': {'neighbors': ...   \n3       10010208021  {'Hughes Network Systems, LLC': {'neighbors': ...   \n4       10010209001  {'Hughes Network Systems, LLC': {'neighbors': ...   \n...             ...                                                ...   \n61736  560399676003  {'AMG Technology Investment Group LLC': {'neig...   \n61737  560399677021  {'AMG Technology Investment Group LLC': {'neig...   \n61738  560419753001  {'AMG Technology Investment Group LLC': {'neig...   \n61739  560430002001  {'AMG Technology Investment Group LLC': {'neig...   \n61740  560430002002  {'AMG Technology Investment Group LLC': {'neig...   \n\n                                           all_neighbors  \\\n0      {10010202002: {('WideOpenWest Finance, LLC', '...   \n1      {10010206002: {('WideOpenWest Finance, LLC', '...   \n2      {10010201001: {('WideOpenWest Finance, LLC', '...   \n3      {10010201001: {('WideOpenWest Finance, LLC', '...   \n4      {10010208021: {('Central Access, Inc', 'Centra...   \n...                                                  ...   \n61736  {160199701001: {('Cable One, Inc.', 'Cable ONE...   \n61737  {560399676001: {('Rise Broadband', 'Skybeam, L...   \n61738  {490439641011: {('COMCAST CABLE COMMUNICATIONS...   \n61739  {560039626002: {('Mountain West Technologies C...   \n61740  {560039626001: {('RT', 'Range Telephone Cooper...   \n\n                                                geometry  \\\n0      POLYGON ((-86.47038099999999 32.456581, -86.47...   \n1      POLYGON ((-86.59549799999999 32.381123, -86.59...   \n2      POLYGON ((-86.591984 32.44164, -86.591976 32.4...   \n3      POLYGON ((-86.645787 32.554375, -86.6457779999...   \n4      POLYGON ((-86.664761 32.627948, -86.6647069999...   \n...                                                  ...   \n61736  POLYGON ((-111.045492 43.51067099999999, -111....   \n61737  POLYGON ((-111.039007 43.472801, -111.036624 4...   \n61738  POLYGON ((-111.046818 41.156019, -111.046818 4...   \n61739  POLYGON ((-108.550788 44.12770099999999, -108....   \n61740  POLYGON ((-108.201752 43.82671, -108.20152 43....   \n\n                                     winner  \\\n0      Space Exploration Technologies Corp.   \n1      Space Exploration Technologies Corp.   \n2      Space Exploration Technologies Corp.   \n3                       RDOF USA Consortium   \n4                       RDOF USA Consortium   \n...                                     ...   \n61736  Space Exploration Technologies Corp.   \n61737  Space Exploration Technologies Corp.   \n61738  Space Exploration Technologies Corp.   \n61739  Space Exploration Technologies Corp.   \n61740  Space Exploration Technologies Corp.   \n\n                                                  blocks  round  \n0       [10010207001071, 10010207001073, 10010207001095]   13.0  \n1      [10010208011010, 10010208011017, 1001020801102...   13.0  \n2      [10010208012004, 10010208012010, 1001020801201...   13.0  \n3      [10010208021003, 10010208021006, 1001020802101...   13.0  \n4      [10010209001000, 10010209001001, 1001020900100...   13.0  \n...                                                  ...    ...  \n61736  [560399676003075, 560399676003087, 56039967600...   13.0  \n61737  [560399677021047, 560399677021058, 56039967702...   13.0  \n61738                                  [560419753001107]   13.0  \n61739                 [560430002001181, 560430002001513]   13.0  \n61740  [560430002002314, 560430002002337, 56043000200...   13.0  \n\n[61741 rows x 7 columns]",
      "text/html": "<div>\n<style scoped>\n    .dataframe tbody tr th:only-of-type {\n        vertical-align: middle;\n    }\n\n    .dataframe tbody tr th {\n        vertical-align: top;\n    }\n\n    .dataframe thead th {\n        text-align: right;\n    }\n</style>\n<table border=\"1\" class=\"dataframe\">\n  <thead>\n    <tr style=\"text-align: right;\">\n      <th></th>\n      <th>GEOID</th>\n      <th>bidders</th>\n      <th>all_neighbors</th>\n      <th>geometry</th>\n      <th>winner</th>\n      <th>blocks</th>\n      <th>round</th>\n    </tr>\n  </thead>\n  <tbody>\n    <tr>\n      <th>0</th>\n      <td>10010207001</td>\n      <td>{'1stel, Inc.': {'neighbors': [], 'round': 9, ...</td>\n      <td>{10010202002: {('WideOpenWest Finance, LLC', '...</td>\n      <td>POLYGON ((-86.47038099999999 32.456581, -86.47...</td>\n      <td>Space Exploration Technologies Corp.</td>\n      <td>[10010207001071, 10010207001073, 10010207001095]</td>\n      <td>13.0</td>\n    </tr>\n    <tr>\n      <th>1</th>\n      <td>10010208011</td>\n      <td>{'Hughes Network Systems, LLC': {'neighbors': ...</td>\n      <td>{10010206002: {('WideOpenWest Finance, LLC', '...</td>\n      <td>POLYGON ((-86.59549799999999 32.381123, -86.59...</td>\n      <td>Space Exploration Technologies Corp.</td>\n      <td>[10010208011010, 10010208011017, 1001020801102...</td>\n      <td>13.0</td>\n    </tr>\n    <tr>\n      <th>2</th>\n      <td>10010208012</td>\n      <td>{'Hughes Network Systems, LLC': {'neighbors': ...</td>\n      <td>{10010201001: {('WideOpenWest Finance, LLC', '...</td>\n      <td>POLYGON ((-86.591984 32.44164, -86.591976 32.4...</td>\n      <td>Space Exploration Technologies Corp.</td>\n      <td>[10010208012004, 10010208012010, 1001020801201...</td>\n      <td>13.0</td>\n    </tr>\n    <tr>\n      <th>3</th>\n      <td>10010208021</td>\n      <td>{'Hughes Network Systems, LLC': {'neighbors': ...</td>\n      <td>{10010201001: {('WideOpenWest Finance, LLC', '...</td>\n      <td>POLYGON ((-86.645787 32.554375, -86.6457779999...</td>\n      <td>RDOF USA Consortium</td>\n      <td>[10010208021003, 10010208021006, 1001020802101...</td>\n      <td>13.0</td>\n    </tr>\n    <tr>\n      <th>4</th>\n      <td>10010209001</td>\n      <td>{'Hughes Network Systems, LLC': {'neighbors': ...</td>\n      <td>{10010208021: {('Central Access, Inc', 'Centra...</td>\n      <td>POLYGON ((-86.664761 32.627948, -86.6647069999...</td>\n      <td>RDOF USA Consortium</td>\n      <td>[10010209001000, 10010209001001, 1001020900100...</td>\n      <td>13.0</td>\n    </tr>\n    <tr>\n      <th>...</th>\n      <td>...</td>\n      <td>...</td>\n      <td>...</td>\n      <td>...</td>\n      <td>...</td>\n      <td>...</td>\n      <td>...</td>\n    </tr>\n    <tr>\n      <th>61736</th>\n      <td>560399676003</td>\n      <td>{'AMG Technology Investment Group LLC': {'neig...</td>\n      <td>{160199701001: {('Cable One, Inc.', 'Cable ONE...</td>\n      <td>POLYGON ((-111.045492 43.51067099999999, -111....</td>\n      <td>Space Exploration Technologies Corp.</td>\n      <td>[560399676003075, 560399676003087, 56039967600...</td>\n      <td>13.0</td>\n    </tr>\n    <tr>\n      <th>61737</th>\n      <td>560399677021</td>\n      <td>{'AMG Technology Investment Group LLC': {'neig...</td>\n      <td>{560399676001: {('Rise Broadband', 'Skybeam, L...</td>\n      <td>POLYGON ((-111.039007 43.472801, -111.036624 4...</td>\n      <td>Space Exploration Technologies Corp.</td>\n      <td>[560399677021047, 560399677021058, 56039967702...</td>\n      <td>13.0</td>\n    </tr>\n    <tr>\n      <th>61738</th>\n      <td>560419753001</td>\n      <td>{'AMG Technology Investment Group LLC': {'neig...</td>\n      <td>{490439641011: {('COMCAST CABLE COMMUNICATIONS...</td>\n      <td>POLYGON ((-111.046818 41.156019, -111.046818 4...</td>\n      <td>Space Exploration Technologies Corp.</td>\n      <td>[560419753001107]</td>\n      <td>13.0</td>\n    </tr>\n    <tr>\n      <th>61739</th>\n      <td>560430002001</td>\n      <td>{'AMG Technology Investment Group LLC': {'neig...</td>\n      <td>{560039626002: {('Mountain West Technologies C...</td>\n      <td>POLYGON ((-108.550788 44.12770099999999, -108....</td>\n      <td>Space Exploration Technologies Corp.</td>\n      <td>[560430002001181, 560430002001513]</td>\n      <td>13.0</td>\n    </tr>\n    <tr>\n      <th>61740</th>\n      <td>560430002002</td>\n      <td>{'AMG Technology Investment Group LLC': {'neig...</td>\n      <td>{560039626001: {('RT', 'Range Telephone Cooper...</td>\n      <td>POLYGON ((-108.201752 43.82671, -108.20152 43....</td>\n      <td>Space Exploration Technologies Corp.</td>\n      <td>[560430002002314, 560430002002337, 56043000200...</td>\n      <td>13.0</td>\n    </tr>\n  </tbody>\n</table>\n<p>61741 rows × 7 columns</p>\n</div>"
     },
     "execution_count": 12,
     "metadata": {},
     "output_type": "execute_result"
    }
   ],
   "source": [
    "collapsed_bids = pd.DataFrame.from_dict(new_table , orient='index')\n",
    "collapsed_bids = collapsed_bids.reset_index().rename(columns={\"index\":\"GEOID\"})\n",
    "collapsed_bids"
   ],
   "metadata": {
    "collapsed": false,
    "pycharm": {
     "name": "#%%\n"
    }
   }
  },
  {
   "cell_type": "code",
   "execution_count": 5,
   "outputs": [
    {
     "data": {
      "text/plain": "                                            bidder  t+l_weight  \\\n0                                      1stel, Inc.          20   \n1                             4-Corners Consortium          20   \n2                                   AB Indiana LLC          20   \n3                                              ACT           0   \n4                       AMA Communicaitons, L.L.C.          20   \n..                                             ...         ...   \n311                                  Yucca Telecom           0   \n312                                Zirkel Wireless          20   \n313                         Zito West Holding, LLC           0   \n314  Coon Valley Co-op Telephone Association, Inc.           0   \n315                          yondoo Broadband, LLC           0   \n\n               tier latency  \n0    Above Baseline     Low  \n1    Above Baseline     Low  \n2    Above Baseline     Low  \n3           Gigabit     Low  \n4    Above Baseline     Low  \n..              ...     ...  \n311         Gigabit     Low  \n312  Above Baseline     Low  \n313         Gigabit     Low  \n314         Gigabit     Low  \n315         Gigabit     Low  \n\n[316 rows x 4 columns]",
      "text/html": "<div>\n<style scoped>\n    .dataframe tbody tr th:only-of-type {\n        vertical-align: middle;\n    }\n\n    .dataframe tbody tr th {\n        vertical-align: top;\n    }\n\n    .dataframe thead th {\n        text-align: right;\n    }\n</style>\n<table border=\"1\" class=\"dataframe\">\n  <thead>\n    <tr style=\"text-align: right;\">\n      <th></th>\n      <th>bidder</th>\n      <th>t+l_weight</th>\n      <th>tier</th>\n      <th>latency</th>\n    </tr>\n  </thead>\n  <tbody>\n    <tr>\n      <th>0</th>\n      <td>1stel, Inc.</td>\n      <td>20</td>\n      <td>Above Baseline</td>\n      <td>Low</td>\n    </tr>\n    <tr>\n      <th>1</th>\n      <td>4-Corners Consortium</td>\n      <td>20</td>\n      <td>Above Baseline</td>\n      <td>Low</td>\n    </tr>\n    <tr>\n      <th>2</th>\n      <td>AB Indiana LLC</td>\n      <td>20</td>\n      <td>Above Baseline</td>\n      <td>Low</td>\n    </tr>\n    <tr>\n      <th>3</th>\n      <td>ACT</td>\n      <td>0</td>\n      <td>Gigabit</td>\n      <td>Low</td>\n    </tr>\n    <tr>\n      <th>4</th>\n      <td>AMA Communicaitons, L.L.C.</td>\n      <td>20</td>\n      <td>Above Baseline</td>\n      <td>Low</td>\n    </tr>\n    <tr>\n      <th>...</th>\n      <td>...</td>\n      <td>...</td>\n      <td>...</td>\n      <td>...</td>\n    </tr>\n    <tr>\n      <th>311</th>\n      <td>Yucca Telecom</td>\n      <td>0</td>\n      <td>Gigabit</td>\n      <td>Low</td>\n    </tr>\n    <tr>\n      <th>312</th>\n      <td>Zirkel Wireless</td>\n      <td>20</td>\n      <td>Above Baseline</td>\n      <td>Low</td>\n    </tr>\n    <tr>\n      <th>313</th>\n      <td>Zito West Holding, LLC</td>\n      <td>0</td>\n      <td>Gigabit</td>\n      <td>Low</td>\n    </tr>\n    <tr>\n      <th>314</th>\n      <td>Coon Valley Co-op Telephone Association, Inc.</td>\n      <td>0</td>\n      <td>Gigabit</td>\n      <td>Low</td>\n    </tr>\n    <tr>\n      <th>315</th>\n      <td>yondoo Broadband, LLC</td>\n      <td>0</td>\n      <td>Gigabit</td>\n      <td>Low</td>\n    </tr>\n  </tbody>\n</table>\n<p>316 rows × 4 columns</p>\n</div>"
     },
     "execution_count": 5,
     "metadata": {},
     "output_type": "execute_result"
    }
   ],
   "source": [
    "bids = pd.read_csv(\"../data/all_bids.csv\")\n",
    "bidders = bids.groupby(\"bidder\").agg({\"t+l_weight\":\"first\", \"tier\":\"first\", \"latency\":\"first\"}).reset_index()\n",
    "name_map = {\n",
    "    \"CCO Holdings, LLC\":\"Charter Communications Inc\",\n",
    "    \"Windstream Services LLC, Debtor-In-Possession\":\"Windstream Holdings, Inc.\",\n",
    "    \"Connect Everyone LLC\":\"Starry, Inc.\",\n",
    "    \"Frontier Communications Corporation, DIP\":\"Frontier Communications Corporation\",\n",
    "    \"California Internet, L.P. dba GeoLinks\":\"GeoLinks\",\n",
    "    \"Etheric Communications LLC\":\"Etheric Networks, Inc.\",\n",
    "    \"Consolidated  Communications, Inc.\":\"Consolidated Communications, Inc.\",\n",
    "    \"Frontier Communications Northwest, LLC\":\"Ziply Fiber\",\n",
    "    \"Citynet West Virginia, LLC\":\"Citynet, LLC\",\n",
    "    \"Computer 5, Inc. d/b/a LocalTel Communications\": \"LocalTel Communications\",\n",
    "    \"Armstrong Telephone Company - Northern Division\": \"Armstrong Holdings, Inc.\",\n",
    "    \"Commnet Wireless, LLC\": \"ATN International, Inc.\",\n",
    "    \"Mediacom Communications Corporation\": \"Mediacom Communications Corp.\",\n",
    "    \"Continental Divide Electric Cooperative\": \"Continental Divide Electric Cooperative, Inc.\",\n",
    "    \"South Arkansas Telephone Company\": \"South Arkansas Telephone Co.\",\n",
    "    \"Digital Connections Inc. dba PRODIGI\": \"Digital Connections, Inc.\",\n",
    "    \"Shenandoah Cable Television, LLC\": \"Shenandoah Telecommunications Company\",\n",
    "    \"Direct Communications Rockland, Inc\": \"Direct Communications Rockland, Inc.\",\n",
    "    \"Pine Belt Communications, Inc.\":\"Pine Belt Communications Co. Inc.\",\n",
    "    \"Savage Communications\":\"Savage Communications Inc.\",\n",
    "    \"Hamilton County Telephone Co-op\":\"Hamilton County Telephone Co-Op\",\n",
    "    \"Hotwire Communications, Ltd\":\"Hotwire Communications Ltd.\",\n",
    "    \"Altice USA, Inc.\":\"Altice\",\n",
    "    \"TruVista Communications, Inc.\":\"TruVista Communications of Georgia, LLC\",\n",
    "    \"Hawaii Dialogix Telecom LLC\":\"Hawaii Dialogix Telecom LLC\",\n",
    "    \"Safelink Internet LLC\":\"Safelink Internet\",\n",
    "    \"American Heartland\":\"Farmers Telephone Company\",\n",
    "    \"Cellular Services LLC.\":\"Cellular Services LLC\",\n",
    "    \"Scott County Telephone Cooperative, Inc.\":\"Scott County\",\n",
    "    \"Micrologic Inc.\":\"Micrologic, Inc.\",\n",
    "    \"Pioneer Wireless, Inc\":\"Pioneer Wireless, Inc.\",\n",
    "    \"St. John Telco\":\"St. John Telephone, Inc.\",\n",
    "    \"One Ring Networks, Inc\":\"One Ring Networks, Inc.\",\n",
    "    \"Emery Telephone dba Emery Telcom\":\"Emery Telcom\",\n",
    "    \"XIT Telecommunication & Technology\":\"XIT Rural Telephone Cooperative, Inc.\",\n",
    "    \"Somerset Telephone Co., Inc.\":\"SOMERSET TELEPHONE COMPANY\",\n",
    "    \"Siuslaw Broadband, LLC dba Hyak Technologies\":\"Siuslaw Broadband, LLC\",\n",
    "    \"Minnesota Connections c/o Consolidated Tel Company\":\"Consolidated Telephone Company\",\n",
    "    \"DoCoMo Pacific, Inc.\":\"Docomo Pacific\",\n",
    "    \"Roseau Electric Cooperative, Inc.\":\"Roseau Electric Cooperative\",\n",
    "    \"Custer Telephone Cooperative, Inc.\":\"Custer Telephone Cooperative Inc.\",\n",
    "    \"Lakeland Communications Group, LLC\":\"Lakeland Communications, Inc.\",\n",
    "    \"LigTel Communications, Inc.\":\"Ligtel Communications\",\n",
    "    \"Hamilton Long Distance Company\":\"Hamilton.net, Inc.\",\n",
    "    \"Allen's T.V. Cable Service, Inc.\":\"Allen's TV Cable Service, Inc.\",\n",
    "    \"W. T. Services, Inc.\":\"W.T. Services, Inc.\",\n",
    "    \"Heart of the Catskills Comm. Inc., dba MTC Cable\":\"MTC Cable\",\n",
    "    \"Citizens Vermont Acquisition Corporation\":\"Citizens Telephone Company\",\n",
    "    \"Nova Cablevision, Inc\":\"Nova Cablevision, Inc.\",\n",
    "    \"yondoo Broadband LLC\":\"yondoo Broadband, LLC\",\n",
    "    \"Baraga Telephone Company\":\"Baraga Telephone Company Inc.\",\n",
    "    \"Miles Communications LLC\":\"Miles Communications, Inc.\",\n",
    "    \"PVT NetWorks, Inc.\":\"Penasco Valley Telephone Cooperative, Inc.\",\n",
    "    \"Yucca Telecommunications Systems, Inc.\":\"Yucca Telecom\",\n",
    "    \"H&B Communication's, Inc.\":\"H&B Enterprises Inc.\",\n",
    "    \"MARQUETTE-ADAMS TELEPHONE COOPERATIVE, INC.\":\"Marquette-Adams Telephone Cooperative, Inc.\",\n",
    "    \"Pinpoint Bidding Coalition\":\"Pinpoint Holdings, Inc.\",\n",
    "    \"Computer Techniques, Inc. dba CTI Fiber\":\"CTI Fiber\",\n",
    "    \"Barry Technology Services, LLC\":\"Barry Technology Services\",\n",
    "    \"Bloosurf, LLC\":\"Bloosurf\",\n",
    "    \"St Paul Cooperative Telephone Association\":\"St Paul Coop Telephone Assoc\",\n",
    "    \"Farmers Mutual Cooperative Telephone Company\":\"FARMERS MUTUAL TELEPHONE COMPANY\",\n",
    "    \"NTS Communications, LLC\":\"NTS, Inc.\",\n",
    "    \"Unified Communications Inc.\":\"Unified Communications, Inc.\",\n",
    "    \"Peoples Communication, LLC.\":\"Peoples Communication, Inc.\",\n",
    "    \"Wood County Telephone Company d/b/a Solarus\":\"Solarus\",\n",
    "    \"Comcell Inc.\":\"Comcell, Inc.\",\n",
    "    \"Taylor Telephone Coop., Inc. dba Taylor Telecom\":\"Taylor Telephone Cooperative, Inc.\",\n",
    "    \"Plateau Telecommunications, Incorporated\":\"Plateau\",\n",
    "    \"AMA Communications, LLC\":\"AMA Communicaitons, L.L.C.\",\n",
    "    \"AirCell, Inc.\":\"AirCell\",\n",
    "    \"Bays-ET Highspeed LLC\":\"Bays-ET Highspeed Internet LLC\",\n",
    "    \"Big Bend Telecom LTD\":\"Big Bend Telephone Company, Inc.\",\n",
    "    \"Blue Ridge Cable Technologies, Inc.\":\"Blue Ridge Cable Technologies, Inc.\",\n",
    "    \"Cass Cable TV, Inc.\":\"Cass Cable TV, Inc.\",\n",
    "    \"City of Wilson GreenLight\":\"City of Wilson\",\n",
    "    \"Climax Telephone Company dba CTS Telecom, Inc.\":\"Climax Telephone Company\",\n",
    "    \"Cumberland Telephone Company, Inc\":\"CUMBERLAND TELEPHONE COMPANY\",\n",
    "    \"Cumby Telephone Coooertive, Inc.\":\"Cumby Telephone Coop., Inc.\",\n",
    "    \"Data Stream Mobile Technoligies Inc.\":\"Data Stream\",\n",
    "    \"Get Wireless Inc\":\"Getwireless.net\",\n",
    "    \"Hartington Telecommunications Co., Inc,\":\"Hartington Telecommunications Co., Inc.\",\n",
    "    \"Hilliary Communications Consortium\":\"Hilliary Communications, LLC\",\n",
    "    \"Hillsboro Telephone Company,  Inc.\":\"Hillsboro Telephone Company\",\n",
    "    \"Home Telephone ILEC, LLC\":\"Home Telephone ILEC, LLC d/b/a Home Telecom\",\n",
    "    \"Hood Canal Telephone Co., Inc\":\"Hood Canal Communications\",\n",
    "    \"Kingdom Telecommunications, Inc.\":\"Kingdom Telecommunications Inc\",\n",
    "    \"Lincolnville Communications\":\"Lincolnville Telephone Company\",\n",
    "    \"Local Internet Service Company, Inc.\":\"Local Internet Service Company\",\n",
    "    \"Martell Enterprise  Inc.\":\"Martell Enterprises, Inc.\",\n",
    "    \"Massena Telephone Company, Inc.\":\"Massena Telephone Company\",\n",
    "    \"Moundridge Telephone Company\":\"Moundridge Telephone Co.\",\n",
    "    \"MyServer.org, Inc dba San Diego Broadband\":\"San Diego Broadband\",\n",
    "    \"Newbreak Management, LLC\":\"Newbreak Communications\",\n",
    "    \"NexGenAccess Incorporated\":\"NexGenAccess\",\n",
    "    \"Northwoods Communication Technologies, LLC\":\"Northwoodsconnect\",\n",
    "    \"One Point Technologies Inc\":\"One Point Technologies Inc.\",\n",
    "    \"Panhandle Telecommunication Systems, Inc.\":\"Panhandle Telephone Cooperative, Inc.\",\n",
    "    \"Pathwayz Communications Inc\":\"Pathwayz Communications, Inc.\",\n",
    "    \"RONAN TELEPHONE COMPANY\":\"Ronan Telephone Co\",\n",
    "    \"Rainbow Communications LLC\":\"Rainbow Telecommunications Association, Inc.\",\n",
    "    \"SOUTHWEST ARKANSAS TELEPHONE COOPERATIVE, INC.\":\"Southwest Arkansas Telephone Cooperative, Inc.\",\n",
    "    \"South Central Wireless, Inc.\":\"South Central Wireless Inc.\",\n",
    "    \"Southern Montana Telephone Company (SMTC)\":\"Southern Montana Telephone Company\",\n",
    "    \"Steelville Telephone Exchange Inc.\":\"Steelville Telephone Exchange Inc\",\n",
    "    \"Tekstar Communications, Inc. dba Arvig\":\"Arvig Enterprises, Inc.\",\n",
    "    \"Upsala Cooperative Telephone Association dba Sytek\":\"UPSALA COOPERATIVE TELEPHONE ASSOCIATION\",\n",
    "    \"Valley Telephone Cooperative, Inc\":\"Valley Telephone Cooperative, Inc.\",\n",
    "    \"Velocity.Net Communications, Inc.\":\"Velocity Communications, Inc.\",\n",
    "    \"Woodstock Telephone Co.\":\"Woodstock Telephone Company\",\n",
    "    \"ZIRKEL Wireless, LLC\":\"Zirkel Wireless\",\n",
    "    \"coon valley cooperative telephone association inc.\":\"Coon Valley Co-op Telephone Association, Inc.\",\n",
    "}\n",
    "\n",
    "bidders[\"bidder\"] = bidders[\"bidder\"].map(lambda x: name_map[x] if x in name_map else x)\n",
    "bidders"
   ],
   "metadata": {
    "collapsed": false,
    "pycharm": {
     "name": "#%%\n"
    }
   }
  },
  {
   "cell_type": "code",
   "execution_count": 14,
   "outputs": [
    {
     "data": {
      "text/plain": "              GEOID                                            bidders  \\\n0       10010207001  {'1stel, Inc.': {'neighbors': [], 'round': 9, ...   \n1       10010208011  {'Hughes Network Systems, LLC': {'neighbors': ...   \n2       10010208012  {'Hughes Network Systems, LLC': {'neighbors': ...   \n3       10010208021  {'Hughes Network Systems, LLC': {'neighbors': ...   \n4       10010209001  {'Hughes Network Systems, LLC': {'neighbors': ...   \n...             ...                                                ...   \n61736  560399676003  {'AMG Technology Investment Group LLC': {'neig...   \n61737  560399677021  {'AMG Technology Investment Group LLC': {'neig...   \n61738  560419753001  {'AMG Technology Investment Group LLC': {'neig...   \n61739  560430002001  {'AMG Technology Investment Group LLC': {'neig...   \n61740  560430002002  {'AMG Technology Investment Group LLC': {'neig...   \n\n                                           all_neighbors  \\\n0      {10010202002: {('WideOpenWest Finance, LLC', '...   \n1      {10010206002: {('WideOpenWest Finance, LLC', '...   \n2      {10010201001: {('WideOpenWest Finance, LLC', '...   \n3      {10010201001: {('WideOpenWest Finance, LLC', '...   \n4      {10010208021: {('Central Access, Inc', 'Centra...   \n...                                                  ...   \n61736  {160199701001: {('Cable One, Inc.', 'Cable ONE...   \n61737  {560399676001: {('Rise Broadband', 'Skybeam, L...   \n61738  {490439641011: {('COMCAST CABLE COMMUNICATIONS...   \n61739  {560039626002: {('Mountain West Technologies C...   \n61740  {560039626001: {('RT', 'Range Telephone Cooper...   \n\n                                                geometry  \\\n0      POLYGON ((-86.47038099999999 32.456581, -86.47...   \n1      POLYGON ((-86.59549799999999 32.381123, -86.59...   \n2      POLYGON ((-86.591984 32.44164, -86.591976 32.4...   \n3      POLYGON ((-86.645787 32.554375, -86.6457779999...   \n4      POLYGON ((-86.664761 32.627948, -86.6647069999...   \n...                                                  ...   \n61736  POLYGON ((-111.045492 43.51067099999999, -111....   \n61737  POLYGON ((-111.039007 43.472801, -111.036624 4...   \n61738  POLYGON ((-111.046818 41.156019, -111.046818 4...   \n61739  POLYGON ((-108.550788 44.12770099999999, -108....   \n61740  POLYGON ((-108.201752 43.82671, -108.20152 43....   \n\n                                     winner  \\\n0      Space Exploration Technologies Corp.   \n1      Space Exploration Technologies Corp.   \n2      Space Exploration Technologies Corp.   \n3                       RDOF USA Consortium   \n4                       RDOF USA Consortium   \n...                                     ...   \n61736  Space Exploration Technologies Corp.   \n61737  Space Exploration Technologies Corp.   \n61738  Space Exploration Technologies Corp.   \n61739  Space Exploration Technologies Corp.   \n61740  Space Exploration Technologies Corp.   \n\n                                                  blocks  round  t+l_weight  \\\n0       [10010207001071, 10010207001073, 10010207001095]   13.0        20.0   \n1      [10010208011010, 10010208011017, 1001020801102...   13.0        20.0   \n2      [10010208012004, 10010208012010, 1001020801201...   13.0        20.0   \n3      [10010208021003, 10010208021006, 1001020802101...   13.0         0.0   \n4      [10010209001000, 10010209001001, 1001020900100...   13.0         0.0   \n...                                                  ...    ...         ...   \n61736  [560399676003075, 560399676003087, 56039967600...   13.0        20.0   \n61737  [560399677021047, 560399677021058, 56039967702...   13.0        20.0   \n61738                                  [560419753001107]   13.0        20.0   \n61739                 [560430002001181, 560430002001513]   13.0        20.0   \n61740  [560430002002314, 560430002002337, 56043000200...   13.0        20.0   \n\n                 tier latency  \n0      Above Baseline     Low  \n1      Above Baseline     Low  \n2      Above Baseline     Low  \n3             Gigabit     Low  \n4             Gigabit     Low  \n...               ...     ...  \n61736  Above Baseline     Low  \n61737  Above Baseline     Low  \n61738  Above Baseline     Low  \n61739  Above Baseline     Low  \n61740  Above Baseline     Low  \n\n[61741 rows x 10 columns]",
      "text/html": "<div>\n<style scoped>\n    .dataframe tbody tr th:only-of-type {\n        vertical-align: middle;\n    }\n\n    .dataframe tbody tr th {\n        vertical-align: top;\n    }\n\n    .dataframe thead th {\n        text-align: right;\n    }\n</style>\n<table border=\"1\" class=\"dataframe\">\n  <thead>\n    <tr style=\"text-align: right;\">\n      <th></th>\n      <th>GEOID</th>\n      <th>bidders</th>\n      <th>all_neighbors</th>\n      <th>geometry</th>\n      <th>winner</th>\n      <th>blocks</th>\n      <th>round</th>\n      <th>t+l_weight</th>\n      <th>tier</th>\n      <th>latency</th>\n    </tr>\n  </thead>\n  <tbody>\n    <tr>\n      <th>0</th>\n      <td>10010207001</td>\n      <td>{'1stel, Inc.': {'neighbors': [], 'round': 9, ...</td>\n      <td>{10010202002: {('WideOpenWest Finance, LLC', '...</td>\n      <td>POLYGON ((-86.47038099999999 32.456581, -86.47...</td>\n      <td>Space Exploration Technologies Corp.</td>\n      <td>[10010207001071, 10010207001073, 10010207001095]</td>\n      <td>13.0</td>\n      <td>20.0</td>\n      <td>Above Baseline</td>\n      <td>Low</td>\n    </tr>\n    <tr>\n      <th>1</th>\n      <td>10010208011</td>\n      <td>{'Hughes Network Systems, LLC': {'neighbors': ...</td>\n      <td>{10010206002: {('WideOpenWest Finance, LLC', '...</td>\n      <td>POLYGON ((-86.59549799999999 32.381123, -86.59...</td>\n      <td>Space Exploration Technologies Corp.</td>\n      <td>[10010208011010, 10010208011017, 1001020801102...</td>\n      <td>13.0</td>\n      <td>20.0</td>\n      <td>Above Baseline</td>\n      <td>Low</td>\n    </tr>\n    <tr>\n      <th>2</th>\n      <td>10010208012</td>\n      <td>{'Hughes Network Systems, LLC': {'neighbors': ...</td>\n      <td>{10010201001: {('WideOpenWest Finance, LLC', '...</td>\n      <td>POLYGON ((-86.591984 32.44164, -86.591976 32.4...</td>\n      <td>Space Exploration Technologies Corp.</td>\n      <td>[10010208012004, 10010208012010, 1001020801201...</td>\n      <td>13.0</td>\n      <td>20.0</td>\n      <td>Above Baseline</td>\n      <td>Low</td>\n    </tr>\n    <tr>\n      <th>3</th>\n      <td>10010208021</td>\n      <td>{'Hughes Network Systems, LLC': {'neighbors': ...</td>\n      <td>{10010201001: {('WideOpenWest Finance, LLC', '...</td>\n      <td>POLYGON ((-86.645787 32.554375, -86.6457779999...</td>\n      <td>RDOF USA Consortium</td>\n      <td>[10010208021003, 10010208021006, 1001020802101...</td>\n      <td>13.0</td>\n      <td>0.0</td>\n      <td>Gigabit</td>\n      <td>Low</td>\n    </tr>\n    <tr>\n      <th>4</th>\n      <td>10010209001</td>\n      <td>{'Hughes Network Systems, LLC': {'neighbors': ...</td>\n      <td>{10010208021: {('Central Access, Inc', 'Centra...</td>\n      <td>POLYGON ((-86.664761 32.627948, -86.6647069999...</td>\n      <td>RDOF USA Consortium</td>\n      <td>[10010209001000, 10010209001001, 1001020900100...</td>\n      <td>13.0</td>\n      <td>0.0</td>\n      <td>Gigabit</td>\n      <td>Low</td>\n    </tr>\n    <tr>\n      <th>...</th>\n      <td>...</td>\n      <td>...</td>\n      <td>...</td>\n      <td>...</td>\n      <td>...</td>\n      <td>...</td>\n      <td>...</td>\n      <td>...</td>\n      <td>...</td>\n      <td>...</td>\n    </tr>\n    <tr>\n      <th>61736</th>\n      <td>560399676003</td>\n      <td>{'AMG Technology Investment Group LLC': {'neig...</td>\n      <td>{160199701001: {('Cable One, Inc.', 'Cable ONE...</td>\n      <td>POLYGON ((-111.045492 43.51067099999999, -111....</td>\n      <td>Space Exploration Technologies Corp.</td>\n      <td>[560399676003075, 560399676003087, 56039967600...</td>\n      <td>13.0</td>\n      <td>20.0</td>\n      <td>Above Baseline</td>\n      <td>Low</td>\n    </tr>\n    <tr>\n      <th>61737</th>\n      <td>560399677021</td>\n      <td>{'AMG Technology Investment Group LLC': {'neig...</td>\n      <td>{560399676001: {('Rise Broadband', 'Skybeam, L...</td>\n      <td>POLYGON ((-111.039007 43.472801, -111.036624 4...</td>\n      <td>Space Exploration Technologies Corp.</td>\n      <td>[560399677021047, 560399677021058, 56039967702...</td>\n      <td>13.0</td>\n      <td>20.0</td>\n      <td>Above Baseline</td>\n      <td>Low</td>\n    </tr>\n    <tr>\n      <th>61738</th>\n      <td>560419753001</td>\n      <td>{'AMG Technology Investment Group LLC': {'neig...</td>\n      <td>{490439641011: {('COMCAST CABLE COMMUNICATIONS...</td>\n      <td>POLYGON ((-111.046818 41.156019, -111.046818 4...</td>\n      <td>Space Exploration Technologies Corp.</td>\n      <td>[560419753001107]</td>\n      <td>13.0</td>\n      <td>20.0</td>\n      <td>Above Baseline</td>\n      <td>Low</td>\n    </tr>\n    <tr>\n      <th>61739</th>\n      <td>560430002001</td>\n      <td>{'AMG Technology Investment Group LLC': {'neig...</td>\n      <td>{560039626002: {('Mountain West Technologies C...</td>\n      <td>POLYGON ((-108.550788 44.12770099999999, -108....</td>\n      <td>Space Exploration Technologies Corp.</td>\n      <td>[560430002001181, 560430002001513]</td>\n      <td>13.0</td>\n      <td>20.0</td>\n      <td>Above Baseline</td>\n      <td>Low</td>\n    </tr>\n    <tr>\n      <th>61740</th>\n      <td>560430002002</td>\n      <td>{'AMG Technology Investment Group LLC': {'neig...</td>\n      <td>{560039626001: {('RT', 'Range Telephone Cooper...</td>\n      <td>POLYGON ((-108.201752 43.82671, -108.20152 43....</td>\n      <td>Space Exploration Technologies Corp.</td>\n      <td>[560430002002314, 560430002002337, 56043000200...</td>\n      <td>13.0</td>\n      <td>20.0</td>\n      <td>Above Baseline</td>\n      <td>Low</td>\n    </tr>\n  </tbody>\n</table>\n<p>61741 rows × 10 columns</p>\n</div>"
     },
     "execution_count": 14,
     "metadata": {},
     "output_type": "execute_result"
    }
   ],
   "source": [
    "collapsed_bids = collapsed_bids.merge(bidders, how=\"left\",left_on=\"winner\", right_on=\"bidder\").drop(columns=[\"bidder\"])\n",
    "collapsed_bids.to_pickle(\"../outputs/collapsed_bids.pkl\")\n",
    "collapsed_bids"
   ],
   "metadata": {
    "collapsed": false,
    "pycharm": {
     "name": "#%%\n"
    }
   }
  },
  {
   "cell_type": "code",
   "execution_count": 8,
   "outputs": [
    {
     "data": {
      "text/plain": "{0, 1, 2, 3, 4, 5, 6, 7}"
     },
     "execution_count": 8,
     "metadata": {},
     "output_type": "execute_result"
    }
   ],
   "source": [
    "def get_number_with_neighbors(col):\n",
    "    counter = 0\n",
    "    for bidder, data in col.items():\n",
    "        if data[\"neighbor_status\"] !=0:\n",
    "            counter +=1\n",
    "    return counter"
   ],
   "metadata": {
    "collapsed": false,
    "pycharm": {
     "name": "#%%\n"
    }
   }
  },
  {
   "cell_type": "code",
   "execution_count": 37,
   "outputs": [
    {
     "data": {
      "text/plain": "              GEOID                                            bidders  \\\n114     10090501015  {'Charter Communications Inc': {'neighbors': [...   \n129     10090507003  {'Charter Communications Inc': {'neighbors': [...   \n130     10090507004  {'Charter Communications Inc': {'neighbors': [...   \n203     10150026001  {'Charter Communications Inc': {'neighbors': [...   \n204     10150026002  {'Charter Communications Inc': {'neighbors': [...   \n...             ...                                                ...   \n61718  560350001012  {'AMG Technology Investment Group LLC': {'neig...   \n61719  560350001021  {'AMG Technology Investment Group LLC': {'neig...   \n61720  560350001022  {'AMG Technology Investment Group LLC': {'neig...   \n61721  560379705001  {'AMG Technology Investment Group LLC': {'neig...   \n61732  560379716001  {'AMG Technology Investment Group LLC': {'neig...   \n\n                                           all_neighbors  \\\n114    {10090501011: {('Otelco Inc', 'Otelco Telephon...   \n129    {10090501015: {('COMCAST CABLE COMMUNICATIONS,...   \n130    {10090501015: {('COMCAST CABLE COMMUNICATIONS,...   \n203    {10150015002: {('Cable One, Inc.', 'Cable ONE'...   \n204    {10150025011: {('Cable One, Inc.', 'Cable ONE'...   \n...                                                  ...   \n61718  {560239780001: {('All West/Wyoming, Inc.', 'Al...   \n61719  {560130003002: {('RT', 'Range Telephone Cooper...   \n61720  {560130004001: {('Range Telephone Cooperative,...   \n61721  {560239782002: {('LR Communications, Inc.', 'L...   \n61732  {560130003002: {('RT', 'Range Telephone Cooper...   \n\n                                                geometry  \\\n114    POLYGON ((-86.572293 33.820705, -86.5722909999...   \n129    POLYGON ((-86.652458 33.777399, -86.6521559999...   \n130    POLYGON ((-86.64627899999999 33.781403, -86.64...   \n203    POLYGON ((-86.146225 33.702176, -86.1457719999...   \n204    POLYGON ((-86.06697299999999 33.839278, -86.06...   \n...                                                  ...   \n61718  POLYGON ((-110.59013 42.448446, -110.59013 42....   \n61719  POLYGON ((-109.8936 42.865309, -109.893505 42....   \n61720  POLYGON ((-110.53416 43.28313, -110.53392 43.2...   \n61721  POLYGON ((-110.048908 41.474038, -110.048899 4...   \n61732  POLYGON ((-110.054408 42.007189, -110.054405 4...   \n\n                                     winner  \\\n114              Charter Communications Inc   \n129    Space Exploration Technologies Corp.   \n130    Space Exploration Technologies Corp.   \n203              Charter Communications Inc   \n204              Charter Communications Inc   \n...                                     ...   \n61718  Space Exploration Technologies Corp.   \n61719        Visionary Communications, Inc.   \n61720                     CenturyLink, Inc.   \n61721               Union Telephone Company   \n61732  Space Exploration Technologies Corp.   \n\n                                                  blocks  round  t+l_weight  \\\n114    [10090501015053, 10090501015068, 1009050101507...   15.0         0.0   \n129    [10090507003000, 10090507003003, 1009050700300...   13.0        20.0   \n130    [10090507004003, 10090507004007, 1009050700401...   13.0        20.0   \n203    [10150026001000, 10150026001001, 1015002600100...   19.0         0.0   \n204    [10150026002000, 10150026002001, 1015002600200...   19.0         0.0   \n...                                                  ...    ...         ...   \n61718  [560350001012019, 560350001012021, 56035000101...   17.0        20.0   \n61719  [560350001021000, 560350001021004, 56035000102...   14.0         0.0   \n61720  [560350001022009, 560350001022028, 56035000102...   12.0         0.0   \n61721  [560379705001083, 560379705001171, 56037970500...   13.0        35.0   \n61732  [560379716001057, 560379716001059, 56037971600...   17.0        20.0   \n\n                 tier latency  competition bidders  \n114           Gigabit     Low                    2  \n129    Above Baseline     Low                    2  \n130    Above Baseline     Low                    2  \n203           Gigabit     Low                    2  \n204           Gigabit     Low                    2  \n...               ...     ...                  ...  \n61718  Above Baseline     Low                    2  \n61719         Gigabit     Low                    2  \n61720         Gigabit     Low                    2  \n61721        Baseline     Low                    2  \n61732  Above Baseline     Low                    2  \n\n[7517 rows x 11 columns]",
      "text/html": "<div>\n<style scoped>\n    .dataframe tbody tr th:only-of-type {\n        vertical-align: middle;\n    }\n\n    .dataframe tbody tr th {\n        vertical-align: top;\n    }\n\n    .dataframe thead th {\n        text-align: right;\n    }\n</style>\n<table border=\"1\" class=\"dataframe\">\n  <thead>\n    <tr style=\"text-align: right;\">\n      <th></th>\n      <th>GEOID</th>\n      <th>bidders</th>\n      <th>all_neighbors</th>\n      <th>geometry</th>\n      <th>winner</th>\n      <th>blocks</th>\n      <th>round</th>\n      <th>t+l_weight</th>\n      <th>tier</th>\n      <th>latency</th>\n      <th>competition bidders</th>\n    </tr>\n  </thead>\n  <tbody>\n    <tr>\n      <th>114</th>\n      <td>10090501015</td>\n      <td>{'Charter Communications Inc': {'neighbors': [...</td>\n      <td>{10090501011: {('Otelco Inc', 'Otelco Telephon...</td>\n      <td>POLYGON ((-86.572293 33.820705, -86.5722909999...</td>\n      <td>Charter Communications Inc</td>\n      <td>[10090501015053, 10090501015068, 1009050101507...</td>\n      <td>15.0</td>\n      <td>0.0</td>\n      <td>Gigabit</td>\n      <td>Low</td>\n      <td>2</td>\n    </tr>\n    <tr>\n      <th>129</th>\n      <td>10090507003</td>\n      <td>{'Charter Communications Inc': {'neighbors': [...</td>\n      <td>{10090501015: {('COMCAST CABLE COMMUNICATIONS,...</td>\n      <td>POLYGON ((-86.652458 33.777399, -86.6521559999...</td>\n      <td>Space Exploration Technologies Corp.</td>\n      <td>[10090507003000, 10090507003003, 1009050700300...</td>\n      <td>13.0</td>\n      <td>20.0</td>\n      <td>Above Baseline</td>\n      <td>Low</td>\n      <td>2</td>\n    </tr>\n    <tr>\n      <th>130</th>\n      <td>10090507004</td>\n      <td>{'Charter Communications Inc': {'neighbors': [...</td>\n      <td>{10090501015: {('COMCAST CABLE COMMUNICATIONS,...</td>\n      <td>POLYGON ((-86.64627899999999 33.781403, -86.64...</td>\n      <td>Space Exploration Technologies Corp.</td>\n      <td>[10090507004003, 10090507004007, 1009050700401...</td>\n      <td>13.0</td>\n      <td>20.0</td>\n      <td>Above Baseline</td>\n      <td>Low</td>\n      <td>2</td>\n    </tr>\n    <tr>\n      <th>203</th>\n      <td>10150026001</td>\n      <td>{'Charter Communications Inc': {'neighbors': [...</td>\n      <td>{10150015002: {('Cable One, Inc.', 'Cable ONE'...</td>\n      <td>POLYGON ((-86.146225 33.702176, -86.1457719999...</td>\n      <td>Charter Communications Inc</td>\n      <td>[10150026001000, 10150026001001, 1015002600100...</td>\n      <td>19.0</td>\n      <td>0.0</td>\n      <td>Gigabit</td>\n      <td>Low</td>\n      <td>2</td>\n    </tr>\n    <tr>\n      <th>204</th>\n      <td>10150026002</td>\n      <td>{'Charter Communications Inc': {'neighbors': [...</td>\n      <td>{10150025011: {('Cable One, Inc.', 'Cable ONE'...</td>\n      <td>POLYGON ((-86.06697299999999 33.839278, -86.06...</td>\n      <td>Charter Communications Inc</td>\n      <td>[10150026002000, 10150026002001, 1015002600200...</td>\n      <td>19.0</td>\n      <td>0.0</td>\n      <td>Gigabit</td>\n      <td>Low</td>\n      <td>2</td>\n    </tr>\n    <tr>\n      <th>...</th>\n      <td>...</td>\n      <td>...</td>\n      <td>...</td>\n      <td>...</td>\n      <td>...</td>\n      <td>...</td>\n      <td>...</td>\n      <td>...</td>\n      <td>...</td>\n      <td>...</td>\n      <td>...</td>\n    </tr>\n    <tr>\n      <th>61718</th>\n      <td>560350001012</td>\n      <td>{'AMG Technology Investment Group LLC': {'neig...</td>\n      <td>{560239780001: {('All West/Wyoming, Inc.', 'Al...</td>\n      <td>POLYGON ((-110.59013 42.448446, -110.59013 42....</td>\n      <td>Space Exploration Technologies Corp.</td>\n      <td>[560350001012019, 560350001012021, 56035000101...</td>\n      <td>17.0</td>\n      <td>20.0</td>\n      <td>Above Baseline</td>\n      <td>Low</td>\n      <td>2</td>\n    </tr>\n    <tr>\n      <th>61719</th>\n      <td>560350001021</td>\n      <td>{'AMG Technology Investment Group LLC': {'neig...</td>\n      <td>{560130003002: {('RT', 'Range Telephone Cooper...</td>\n      <td>POLYGON ((-109.8936 42.865309, -109.893505 42....</td>\n      <td>Visionary Communications, Inc.</td>\n      <td>[560350001021000, 560350001021004, 56035000102...</td>\n      <td>14.0</td>\n      <td>0.0</td>\n      <td>Gigabit</td>\n      <td>Low</td>\n      <td>2</td>\n    </tr>\n    <tr>\n      <th>61720</th>\n      <td>560350001022</td>\n      <td>{'AMG Technology Investment Group LLC': {'neig...</td>\n      <td>{560130004001: {('Range Telephone Cooperative,...</td>\n      <td>POLYGON ((-110.53416 43.28313, -110.53392 43.2...</td>\n      <td>CenturyLink, Inc.</td>\n      <td>[560350001022009, 560350001022028, 56035000102...</td>\n      <td>12.0</td>\n      <td>0.0</td>\n      <td>Gigabit</td>\n      <td>Low</td>\n      <td>2</td>\n    </tr>\n    <tr>\n      <th>61721</th>\n      <td>560379705001</td>\n      <td>{'AMG Technology Investment Group LLC': {'neig...</td>\n      <td>{560239782002: {('LR Communications, Inc.', 'L...</td>\n      <td>POLYGON ((-110.048908 41.474038, -110.048899 4...</td>\n      <td>Union Telephone Company</td>\n      <td>[560379705001083, 560379705001171, 56037970500...</td>\n      <td>13.0</td>\n      <td>35.0</td>\n      <td>Baseline</td>\n      <td>Low</td>\n      <td>2</td>\n    </tr>\n    <tr>\n      <th>61732</th>\n      <td>560379716001</td>\n      <td>{'AMG Technology Investment Group LLC': {'neig...</td>\n      <td>{560130003002: {('RT', 'Range Telephone Cooper...</td>\n      <td>POLYGON ((-110.054408 42.007189, -110.054405 4...</td>\n      <td>Space Exploration Technologies Corp.</td>\n      <td>[560379716001057, 560379716001059, 56037971600...</td>\n      <td>17.0</td>\n      <td>20.0</td>\n      <td>Above Baseline</td>\n      <td>Low</td>\n      <td>2</td>\n    </tr>\n  </tbody>\n</table>\n<p>7517 rows × 11 columns</p>\n</div>"
     },
     "execution_count": 37,
     "metadata": {},
     "output_type": "execute_result"
    }
   ],
   "source": [
    "collapsed_bids[\"competition bidders\"] = collapsed_bids.apply(lambda x: get_number_with_neighbors(x.bidders), axis=1)\n",
    "collapsed_bids[collapsed_bids[\"competition bidders\"] >=2]\n",
    "# for k, v in items.items():\n",
    "#     print(k, v[\"round\"], v[\"neighbor_status\"])"
   ],
   "metadata": {
    "collapsed": false,
    "pycharm": {
     "name": "#%%\n"
    }
   }
  },
  {
   "cell_type": "code",
   "execution_count": 38,
   "outputs": [
    {
     "data": {
      "text/plain": "0    36430\n1    17794\n2     5627\n3     1463\n4      349\n5       68\n6        8\n7        2\nName: competition bidders, dtype: int64"
     },
     "execution_count": 38,
     "metadata": {},
     "output_type": "execute_result"
    }
   ],
   "source": [
    "collapsed_bids[\"competition bidders\"].value_counts()"
   ],
   "metadata": {
    "collapsed": false,
    "pycharm": {
     "name": "#%%\n"
    }
   }
  },
  {
   "cell_type": "code",
   "execution_count": 27,
   "outputs": [
    {
     "data": {
      "text/plain": "0    388896\n2     24898\n1     10337\nName: neighbor_status, dtype: int64"
     },
     "execution_count": 27,
     "metadata": {},
     "output_type": "execute_result"
    }
   ],
   "source": [
    "processed_bids[\"neighbor_status\"].value_counts()"
   ],
   "metadata": {
    "collapsed": false,
    "pycharm": {
     "name": "#%%\n"
    }
   }
  },
  {
   "cell_type": "code",
   "execution_count": 29,
   "outputs": [
    {
     "data": {
      "text/plain": "0    45433\n2     8939\n1     2782\nName: neighbor_status, dtype: int64"
     },
     "execution_count": 29,
     "metadata": {},
     "output_type": "execute_result"
    }
   ],
   "source": [
    "processed_bids[processed_bids[\"winner\"]][\"neighbor_status\"].value_counts()"
   ],
   "metadata": {
    "collapsed": false,
    "pycharm": {
     "name": "#%%\n"
    }
   }
  },
  {
   "cell_type": "code",
   "execution_count": null,
   "outputs": [],
   "source": [],
   "metadata": {
    "collapsed": false,
    "pycharm": {
     "name": "#%%\n"
    }
   }
  }
 ],
 "metadata": {
  "kernelspec": {
   "display_name": "Python 3",
   "language": "python",
   "name": "python3"
  },
  "language_info": {
   "codemirror_mode": {
    "name": "ipython",
    "version": 2
   },
   "file_extension": ".py",
   "mimetype": "text/x-python",
   "name": "python",
   "nbconvert_exporter": "python",
   "pygments_lexer": "ipython2",
   "version": "2.7.6"
  }
 },
 "nbformat": 4,
 "nbformat_minor": 0
}