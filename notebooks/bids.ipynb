{
 "cells": [
  {
   "cell_type": "code",
   "execution_count": 10,
   "metadata": {
    "collapsed": true
   },
   "outputs": [],
   "source": [
    "import pandas as pd\n",
    "from collections import defaultdict"
   ]
  },
  {
   "cell_type": "code",
   "execution_count": 3,
   "outputs": [
    {
     "data": {
      "text/plain": "                                      bidder         GEOID  round  \\\n0                                1stel, Inc.   10010207001      9   \n1                Hughes Network Systems, LLC   10010207001     13   \n2                Simple Networks Systems LLC   10010207001     10   \n3       Space Exploration Technologies Corp.   10010207001     13   \n4                               Viasat, Inc.   10010207001     12   \n...                                      ...           ...    ...   \n424126           Hughes Network Systems, LLC  560430002002     12   \n424127                  Plains Internet, LLC  560430002002     10   \n424128           Simple Networks Systems LLC  560430002002      1   \n424129  Space Exploration Technologies Corp.  560430002002     13   \n424130                          Viasat, Inc.  560430002002     12   \n\n                                            all_neighbors neighbors  winner  \\\n0       {10010202002: {('WOW', 'WideOpenWest Finance, ...        []   False   \n1       {10010202002: {('WOW', 'WideOpenWest Finance, ...        []   False   \n2       {10010202002: {('WOW', 'WideOpenWest Finance, ...        []   False   \n3       {10010202002: {('WOW', 'WideOpenWest Finance, ...        []    True   \n4       {10010202002: {('WOW', 'WideOpenWest Finance, ...        []   False   \n...                                                   ...       ...     ...   \n424126  {560039626001: {('Mountain West Technologies C...        []   False   \n424127  {560039626001: {('Mountain West Technologies C...        []   False   \n424128  {560039626001: {('Mountain West Technologies C...        []   False   \n424129  {560039626001: {('Mountain West Technologies C...        []    True   \n424130  {560039626001: {('Mountain West Technologies C...        []   False   \n\n                                               won_blocks  \\\n0                                                      []   \n1                                                      []   \n2                                                      []   \n3        [10010207001071, 10010207001073, 10010207001095]   \n4                                                      []   \n...                                                   ...   \n424126                                                 []   \n424127                                                 []   \n424128                                                 []   \n424129  [560430002002314, 560430002002337, 56043000200...   \n424130                                                 []   \n\n                                                 geometry  neighbor_status  \\\n0       POLYGON ((-86.47038 32.45658, -86.47036 32.456...                0   \n1       POLYGON ((-86.47038 32.45658, -86.47036 32.456...                0   \n2       POLYGON ((-86.47038 32.45658, -86.47036 32.456...                0   \n3       POLYGON ((-86.47038 32.45658, -86.47036 32.456...                0   \n4       POLYGON ((-86.47038 32.45658, -86.47036 32.456...                0   \n...                                                   ...              ...   \n424126  POLYGON ((-108.20175 43.82671, -108.20152 43.8...                0   \n424127  POLYGON ((-108.20175 43.82671, -108.20152 43.8...                0   \n424128  POLYGON ((-108.20175 43.82671, -108.20152 43.8...                0   \n424129  POLYGON ((-108.20175 43.82671, -108.20152 43.8...                0   \n424130  POLYGON ((-108.20175 43.82671, -108.20152 43.8...                0   \n\n        num_blocks_won  neighbor_bgs  all_neighbor_bgs  \n0                    0             0                11  \n1                    0             0                11  \n2                    0             0                11  \n3                    3             0                11  \n4                    0             0                11  \n...                ...           ...               ...  \n424126               0             0                10  \n424127               0             0                10  \n424128               0             0                10  \n424129               7             0                10  \n424130               0             0                10  \n\n[424131 rows x 12 columns]",
      "text/html": "<div>\n<style scoped>\n    .dataframe tbody tr th:only-of-type {\n        vertical-align: middle;\n    }\n\n    .dataframe tbody tr th {\n        vertical-align: top;\n    }\n\n    .dataframe thead th {\n        text-align: right;\n    }\n</style>\n<table border=\"1\" class=\"dataframe\">\n  <thead>\n    <tr style=\"text-align: right;\">\n      <th></th>\n      <th>bidder</th>\n      <th>GEOID</th>\n      <th>round</th>\n      <th>all_neighbors</th>\n      <th>neighbors</th>\n      <th>winner</th>\n      <th>won_blocks</th>\n      <th>geometry</th>\n      <th>neighbor_status</th>\n      <th>num_blocks_won</th>\n      <th>neighbor_bgs</th>\n      <th>all_neighbor_bgs</th>\n    </tr>\n  </thead>\n  <tbody>\n    <tr>\n      <th>0</th>\n      <td>1stel, Inc.</td>\n      <td>10010207001</td>\n      <td>9</td>\n      <td>{10010202002: {('WOW', 'WideOpenWest Finance, ...</td>\n      <td>[]</td>\n      <td>False</td>\n      <td>[]</td>\n      <td>POLYGON ((-86.47038 32.45658, -86.47036 32.456...</td>\n      <td>0</td>\n      <td>0</td>\n      <td>0</td>\n      <td>11</td>\n    </tr>\n    <tr>\n      <th>1</th>\n      <td>Hughes Network Systems, LLC</td>\n      <td>10010207001</td>\n      <td>13</td>\n      <td>{10010202002: {('WOW', 'WideOpenWest Finance, ...</td>\n      <td>[]</td>\n      <td>False</td>\n      <td>[]</td>\n      <td>POLYGON ((-86.47038 32.45658, -86.47036 32.456...</td>\n      <td>0</td>\n      <td>0</td>\n      <td>0</td>\n      <td>11</td>\n    </tr>\n    <tr>\n      <th>2</th>\n      <td>Simple Networks Systems LLC</td>\n      <td>10010207001</td>\n      <td>10</td>\n      <td>{10010202002: {('WOW', 'WideOpenWest Finance, ...</td>\n      <td>[]</td>\n      <td>False</td>\n      <td>[]</td>\n      <td>POLYGON ((-86.47038 32.45658, -86.47036 32.456...</td>\n      <td>0</td>\n      <td>0</td>\n      <td>0</td>\n      <td>11</td>\n    </tr>\n    <tr>\n      <th>3</th>\n      <td>Space Exploration Technologies Corp.</td>\n      <td>10010207001</td>\n      <td>13</td>\n      <td>{10010202002: {('WOW', 'WideOpenWest Finance, ...</td>\n      <td>[]</td>\n      <td>True</td>\n      <td>[10010207001071, 10010207001073, 10010207001095]</td>\n      <td>POLYGON ((-86.47038 32.45658, -86.47036 32.456...</td>\n      <td>0</td>\n      <td>3</td>\n      <td>0</td>\n      <td>11</td>\n    </tr>\n    <tr>\n      <th>4</th>\n      <td>Viasat, Inc.</td>\n      <td>10010207001</td>\n      <td>12</td>\n      <td>{10010202002: {('WOW', 'WideOpenWest Finance, ...</td>\n      <td>[]</td>\n      <td>False</td>\n      <td>[]</td>\n      <td>POLYGON ((-86.47038 32.45658, -86.47036 32.456...</td>\n      <td>0</td>\n      <td>0</td>\n      <td>0</td>\n      <td>11</td>\n    </tr>\n    <tr>\n      <th>...</th>\n      <td>...</td>\n      <td>...</td>\n      <td>...</td>\n      <td>...</td>\n      <td>...</td>\n      <td>...</td>\n      <td>...</td>\n      <td>...</td>\n      <td>...</td>\n      <td>...</td>\n      <td>...</td>\n      <td>...</td>\n    </tr>\n    <tr>\n      <th>424126</th>\n      <td>Hughes Network Systems, LLC</td>\n      <td>560430002002</td>\n      <td>12</td>\n      <td>{560039626001: {('Mountain West Technologies C...</td>\n      <td>[]</td>\n      <td>False</td>\n      <td>[]</td>\n      <td>POLYGON ((-108.20175 43.82671, -108.20152 43.8...</td>\n      <td>0</td>\n      <td>0</td>\n      <td>0</td>\n      <td>10</td>\n    </tr>\n    <tr>\n      <th>424127</th>\n      <td>Plains Internet, LLC</td>\n      <td>560430002002</td>\n      <td>10</td>\n      <td>{560039626001: {('Mountain West Technologies C...</td>\n      <td>[]</td>\n      <td>False</td>\n      <td>[]</td>\n      <td>POLYGON ((-108.20175 43.82671, -108.20152 43.8...</td>\n      <td>0</td>\n      <td>0</td>\n      <td>0</td>\n      <td>10</td>\n    </tr>\n    <tr>\n      <th>424128</th>\n      <td>Simple Networks Systems LLC</td>\n      <td>560430002002</td>\n      <td>1</td>\n      <td>{560039626001: {('Mountain West Technologies C...</td>\n      <td>[]</td>\n      <td>False</td>\n      <td>[]</td>\n      <td>POLYGON ((-108.20175 43.82671, -108.20152 43.8...</td>\n      <td>0</td>\n      <td>0</td>\n      <td>0</td>\n      <td>10</td>\n    </tr>\n    <tr>\n      <th>424129</th>\n      <td>Space Exploration Technologies Corp.</td>\n      <td>560430002002</td>\n      <td>13</td>\n      <td>{560039626001: {('Mountain West Technologies C...</td>\n      <td>[]</td>\n      <td>True</td>\n      <td>[560430002002314, 560430002002337, 56043000200...</td>\n      <td>POLYGON ((-108.20175 43.82671, -108.20152 43.8...</td>\n      <td>0</td>\n      <td>7</td>\n      <td>0</td>\n      <td>10</td>\n    </tr>\n    <tr>\n      <th>424130</th>\n      <td>Viasat, Inc.</td>\n      <td>560430002002</td>\n      <td>12</td>\n      <td>{560039626001: {('Mountain West Technologies C...</td>\n      <td>[]</td>\n      <td>False</td>\n      <td>[]</td>\n      <td>POLYGON ((-108.20175 43.82671, -108.20152 43.8...</td>\n      <td>0</td>\n      <td>0</td>\n      <td>0</td>\n      <td>10</td>\n    </tr>\n  </tbody>\n</table>\n<p>424131 rows × 12 columns</p>\n</div>"
     },
     "execution_count": 3,
     "metadata": {},
     "output_type": "execute_result"
    }
   ],
   "source": [
    "processed_bids = pd.read_pickle(\"../outputs/processed_bids.pkl\")"
   ],
   "metadata": {
    "collapsed": false,
    "pycharm": {
     "name": "#%%\n"
    }
   }
  },
  {
   "cell_type": "code",
   "execution_count": null,
   "outputs": [],
   "source": [
    "new_table = defaultdict(dict)\n",
    "for idx, row in processed_bids.iterrows():\n",
    "    id = row[\"GEOID\"]\n",
    "    bidder = row[\"bidder\"]\n",
    "    if \"bidders\" not in new_table[id]:\n",
    "        new_table[id][\"bidders\"] = dict()\n",
    "    new_table[id][\"all_neighbors\"] = row[\"all_neighbors\"]\n",
    "    new_table[id][\"geometry\"] = row[\"geometry\"]\n",
    "    new_table[id][\"bidders\"][bidder] = {\"neighbors\": row[\"neighbors\"], \"round\": row[\"round\"],\n",
    "                                        \"neighbor_status\": row[\"neighbor_status\"]}\n",
    "    if row[\"winner\"]:\n",
    "        new_table[id][\"winner\"] = bidder\n",
    "        new_table[id][\"blocks\"] = row[\"won_blocks\"]\n",
    "        new_table[id][\"round\"] = row[\"round\"]"
   ],
   "metadata": {
    "collapsed": false,
    "pycharm": {
     "name": "#%%\n"
    }
   }
  },
  {
   "cell_type": "code",
   "execution_count": 50,
   "outputs": [
    {
     "data": {
      "text/plain": "              GEOID                                            bidders  \\\n0       10010207001  {'1stel, Inc.': {'neighbors': [], 'round': 9, ...   \n1       10010208011  {'Hughes Network Systems, LLC': {'neighbors': ...   \n2       10010208012  {'Hughes Network Systems, LLC': {'neighbors': ...   \n3       10010208021  {'Hughes Network Systems, LLC': {'neighbors': ...   \n4       10010209001  {'Hughes Network Systems, LLC': {'neighbors': ...   \n...             ...                                                ...   \n61736  560399676003  {'AMG Technology Investment Group LLC': {'neig...   \n61737  560399677021  {'AMG Technology Investment Group LLC': {'neig...   \n61738  560419753001  {'AMG Technology Investment Group LLC': {'neig...   \n61739  560430002001  {'AMG Technology Investment Group LLC': {'neig...   \n61740  560430002002  {'AMG Technology Investment Group LLC': {'neig...   \n\n                                           all_neighbors  \\\n0      {10010202002: {('WOW', 'WideOpenWest Finance, ...   \n1      {10010206002: {('WOW', 'WideOpenWest Finance, ...   \n2      {10010201001: {('WOW', 'WideOpenWest Finance, ...   \n3      {10010201001: {('WOW', 'WideOpenWest Finance, ...   \n4      {10010208021: {('Central Access, Inc.', 'Centr...   \n...                                                  ...   \n61736  {160199701001: {('Safelink Internet'), ('Alway...   \n61737  {560399676001: {('Rise Broadband', 'JAB Wirele...   \n61738  {490439641011: {('Union Holding Corp.', 'Union...   \n61739  {560039626002: {('Mountain West Technologies C...   \n61740  {560039626001: {('Mountain West Technologies C...   \n\n                                                geometry  \\\n0      POLYGON ((-86.47038099999999 32.456581, -86.47...   \n1      POLYGON ((-86.59549799999999 32.381123, -86.59...   \n2      POLYGON ((-86.591984 32.44164, -86.591976 32.4...   \n3      POLYGON ((-86.645787 32.554375, -86.6457779999...   \n4      POLYGON ((-86.664761 32.627948, -86.6647069999...   \n...                                                  ...   \n61736  POLYGON ((-111.045492 43.51067099999999, -111....   \n61737  POLYGON ((-111.039007 43.472801, -111.036624 4...   \n61738  POLYGON ((-111.046818 41.156019, -111.046818 4...   \n61739  POLYGON ((-108.550788 44.12770099999999, -108....   \n61740  POLYGON ((-108.201752 43.82671, -108.20152 43....   \n\n                                     winner  \\\n0      Space Exploration Technologies Corp.   \n1      Space Exploration Technologies Corp.   \n2      Space Exploration Technologies Corp.   \n3                       RDOF USA Consortium   \n4                       RDOF USA Consortium   \n...                                     ...   \n61736  Space Exploration Technologies Corp.   \n61737  Space Exploration Technologies Corp.   \n61738  Space Exploration Technologies Corp.   \n61739  Space Exploration Technologies Corp.   \n61740  Space Exploration Technologies Corp.   \n\n                                                  blocks round  \n0       [10010207001071, 10010207001073, 10010207001095]  True  \n1      [10010208011010, 10010208011017, 1001020801102...  True  \n2      [10010208012004, 10010208012010, 1001020801201...  True  \n3      [10010208021003, 10010208021006, 1001020802101...  True  \n4      [10010209001000, 10010209001001, 1001020900100...  True  \n...                                                  ...   ...  \n61736  [560399676003075, 560399676003087, 56039967600...  True  \n61737  [560399677021047, 560399677021058, 56039967702...  True  \n61738                                  [560419753001107]  True  \n61739                 [560430002001181, 560430002001513]  True  \n61740  [560430002002314, 560430002002337, 56043000200...  True  \n\n[61741 rows x 7 columns]",
      "text/html": "<div>\n<style scoped>\n    .dataframe tbody tr th:only-of-type {\n        vertical-align: middle;\n    }\n\n    .dataframe tbody tr th {\n        vertical-align: top;\n    }\n\n    .dataframe thead th {\n        text-align: right;\n    }\n</style>\n<table border=\"1\" class=\"dataframe\">\n  <thead>\n    <tr style=\"text-align: right;\">\n      <th></th>\n      <th>GEOID</th>\n      <th>bidders</th>\n      <th>all_neighbors</th>\n      <th>geometry</th>\n      <th>winner</th>\n      <th>blocks</th>\n      <th>round</th>\n    </tr>\n  </thead>\n  <tbody>\n    <tr>\n      <th>0</th>\n      <td>10010207001</td>\n      <td>{'1stel, Inc.': {'neighbors': [], 'round': 9, ...</td>\n      <td>{10010202002: {('WOW', 'WideOpenWest Finance, ...</td>\n      <td>POLYGON ((-86.47038099999999 32.456581, -86.47...</td>\n      <td>Space Exploration Technologies Corp.</td>\n      <td>[10010207001071, 10010207001073, 10010207001095]</td>\n      <td>True</td>\n    </tr>\n    <tr>\n      <th>1</th>\n      <td>10010208011</td>\n      <td>{'Hughes Network Systems, LLC': {'neighbors': ...</td>\n      <td>{10010206002: {('WOW', 'WideOpenWest Finance, ...</td>\n      <td>POLYGON ((-86.59549799999999 32.381123, -86.59...</td>\n      <td>Space Exploration Technologies Corp.</td>\n      <td>[10010208011010, 10010208011017, 1001020801102...</td>\n      <td>True</td>\n    </tr>\n    <tr>\n      <th>2</th>\n      <td>10010208012</td>\n      <td>{'Hughes Network Systems, LLC': {'neighbors': ...</td>\n      <td>{10010201001: {('WOW', 'WideOpenWest Finance, ...</td>\n      <td>POLYGON ((-86.591984 32.44164, -86.591976 32.4...</td>\n      <td>Space Exploration Technologies Corp.</td>\n      <td>[10010208012004, 10010208012010, 1001020801201...</td>\n      <td>True</td>\n    </tr>\n    <tr>\n      <th>3</th>\n      <td>10010208021</td>\n      <td>{'Hughes Network Systems, LLC': {'neighbors': ...</td>\n      <td>{10010201001: {('WOW', 'WideOpenWest Finance, ...</td>\n      <td>POLYGON ((-86.645787 32.554375, -86.6457779999...</td>\n      <td>RDOF USA Consortium</td>\n      <td>[10010208021003, 10010208021006, 1001020802101...</td>\n      <td>True</td>\n    </tr>\n    <tr>\n      <th>4</th>\n      <td>10010209001</td>\n      <td>{'Hughes Network Systems, LLC': {'neighbors': ...</td>\n      <td>{10010208021: {('Central Access, Inc.', 'Centr...</td>\n      <td>POLYGON ((-86.664761 32.627948, -86.6647069999...</td>\n      <td>RDOF USA Consortium</td>\n      <td>[10010209001000, 10010209001001, 1001020900100...</td>\n      <td>True</td>\n    </tr>\n    <tr>\n      <th>...</th>\n      <td>...</td>\n      <td>...</td>\n      <td>...</td>\n      <td>...</td>\n      <td>...</td>\n      <td>...</td>\n      <td>...</td>\n    </tr>\n    <tr>\n      <th>61736</th>\n      <td>560399676003</td>\n      <td>{'AMG Technology Investment Group LLC': {'neig...</td>\n      <td>{160199701001: {('Safelink Internet'), ('Alway...</td>\n      <td>POLYGON ((-111.045492 43.51067099999999, -111....</td>\n      <td>Space Exploration Technologies Corp.</td>\n      <td>[560399676003075, 560399676003087, 56039967600...</td>\n      <td>True</td>\n    </tr>\n    <tr>\n      <th>61737</th>\n      <td>560399677021</td>\n      <td>{'AMG Technology Investment Group LLC': {'neig...</td>\n      <td>{560399676001: {('Rise Broadband', 'JAB Wirele...</td>\n      <td>POLYGON ((-111.039007 43.472801, -111.036624 4...</td>\n      <td>Space Exploration Technologies Corp.</td>\n      <td>[560399677021047, 560399677021058, 56039967702...</td>\n      <td>True</td>\n    </tr>\n    <tr>\n      <th>61738</th>\n      <td>560419753001</td>\n      <td>{'AMG Technology Investment Group LLC': {'neig...</td>\n      <td>{490439641011: {('Union Holding Corp.', 'Union...</td>\n      <td>POLYGON ((-111.046818 41.156019, -111.046818 4...</td>\n      <td>Space Exploration Technologies Corp.</td>\n      <td>[560419753001107]</td>\n      <td>True</td>\n    </tr>\n    <tr>\n      <th>61739</th>\n      <td>560430002001</td>\n      <td>{'AMG Technology Investment Group LLC': {'neig...</td>\n      <td>{560039626002: {('Mountain West Technologies C...</td>\n      <td>POLYGON ((-108.550788 44.12770099999999, -108....</td>\n      <td>Space Exploration Technologies Corp.</td>\n      <td>[560430002001181, 560430002001513]</td>\n      <td>True</td>\n    </tr>\n    <tr>\n      <th>61740</th>\n      <td>560430002002</td>\n      <td>{'AMG Technology Investment Group LLC': {'neig...</td>\n      <td>{560039626001: {('Mountain West Technologies C...</td>\n      <td>POLYGON ((-108.201752 43.82671, -108.20152 43....</td>\n      <td>Space Exploration Technologies Corp.</td>\n      <td>[560430002002314, 560430002002337, 56043000200...</td>\n      <td>True</td>\n    </tr>\n  </tbody>\n</table>\n<p>61741 rows × 7 columns</p>\n</div>"
     },
     "execution_count": 50,
     "metadata": {},
     "output_type": "execute_result"
    }
   ],
   "source": [
    "collapsed_bids = pd.DataFrame.from_dict(new_table , orient='index')\n",
    "collapsed_bids = collapsed_bids.reset_index().rename(columns={\"index\":\"GEOID\"})\n",
    "collapsed_bids"
   ],
   "metadata": {
    "collapsed": false,
    "pycharm": {
     "name": "#%%\n"
    }
   }
  },
  {
   "cell_type": "code",
   "execution_count": 30,
   "outputs": [
    {
     "data": {
      "text/plain": "                                            bidder  t+l_weight  \\\n0                                      1stel, Inc.          20   \n1                             4-Corners Consortium          20   \n2                                   AB Indiana LLC          20   \n3                                              ACT           0   \n4                       AMA Communicaitons, L.L.C.          20   \n..                                             ...         ...   \n311                                  Yucca Telecom           0   \n312                                Zirkel Wireless          20   \n313                         Zito West Holding, LLC           0   \n314  Coon Valley Co-op Telephone Association, Inc.           0   \n315                          yondoo Broadband, LLC           0   \n\n               tier latency  \n0    Above Baseline     Low  \n1    Above Baseline     Low  \n2    Above Baseline     Low  \n3           Gigabit     Low  \n4    Above Baseline     Low  \n..              ...     ...  \n311         Gigabit     Low  \n312  Above Baseline     Low  \n313         Gigabit     Low  \n314         Gigabit     Low  \n315         Gigabit     Low  \n\n[316 rows x 4 columns]",
      "text/html": "<div>\n<style scoped>\n    .dataframe tbody tr th:only-of-type {\n        vertical-align: middle;\n    }\n\n    .dataframe tbody tr th {\n        vertical-align: top;\n    }\n\n    .dataframe thead th {\n        text-align: right;\n    }\n</style>\n<table border=\"1\" class=\"dataframe\">\n  <thead>\n    <tr style=\"text-align: right;\">\n      <th></th>\n      <th>bidder</th>\n      <th>t+l_weight</th>\n      <th>tier</th>\n      <th>latency</th>\n    </tr>\n  </thead>\n  <tbody>\n    <tr>\n      <th>0</th>\n      <td>1stel, Inc.</td>\n      <td>20</td>\n      <td>Above Baseline</td>\n      <td>Low</td>\n    </tr>\n    <tr>\n      <th>1</th>\n      <td>4-Corners Consortium</td>\n      <td>20</td>\n      <td>Above Baseline</td>\n      <td>Low</td>\n    </tr>\n    <tr>\n      <th>2</th>\n      <td>AB Indiana LLC</td>\n      <td>20</td>\n      <td>Above Baseline</td>\n      <td>Low</td>\n    </tr>\n    <tr>\n      <th>3</th>\n      <td>ACT</td>\n      <td>0</td>\n      <td>Gigabit</td>\n      <td>Low</td>\n    </tr>\n    <tr>\n      <th>4</th>\n      <td>AMA Communicaitons, L.L.C.</td>\n      <td>20</td>\n      <td>Above Baseline</td>\n      <td>Low</td>\n    </tr>\n    <tr>\n      <th>...</th>\n      <td>...</td>\n      <td>...</td>\n      <td>...</td>\n      <td>...</td>\n    </tr>\n    <tr>\n      <th>311</th>\n      <td>Yucca Telecom</td>\n      <td>0</td>\n      <td>Gigabit</td>\n      <td>Low</td>\n    </tr>\n    <tr>\n      <th>312</th>\n      <td>Zirkel Wireless</td>\n      <td>20</td>\n      <td>Above Baseline</td>\n      <td>Low</td>\n    </tr>\n    <tr>\n      <th>313</th>\n      <td>Zito West Holding, LLC</td>\n      <td>0</td>\n      <td>Gigabit</td>\n      <td>Low</td>\n    </tr>\n    <tr>\n      <th>314</th>\n      <td>Coon Valley Co-op Telephone Association, Inc.</td>\n      <td>0</td>\n      <td>Gigabit</td>\n      <td>Low</td>\n    </tr>\n    <tr>\n      <th>315</th>\n      <td>yondoo Broadband, LLC</td>\n      <td>0</td>\n      <td>Gigabit</td>\n      <td>Low</td>\n    </tr>\n  </tbody>\n</table>\n<p>316 rows × 4 columns</p>\n</div>"
     },
     "execution_count": 30,
     "metadata": {},
     "output_type": "execute_result"
    }
   ],
   "source": [
    "bids = pd.read_csv(\"../data/all_bids.csv\")\n",
    "bidders = bids.groupby(\"bidder\").agg({\"t+l_weight\":\"first\", \"tier\":\"first\", \"latency\":\"first\"}).reset_index()\n",
    "name_map = {\n",
    "    \"CCO Holdings, LLC\":\"Charter Communications Inc\",\n",
    "    \"Windstream Services LLC, Debtor-In-Possession\":\"Windstream Holdings, Inc.\",\n",
    "    \"Connect Everyone LLC\":\"Starry, Inc.\",\n",
    "    \"Frontier Communications Corporation, DIP\":\"Frontier Communications Corporation\",\n",
    "    \"California Internet, L.P. dba GeoLinks\":\"GeoLinks\",\n",
    "    \"Etheric Communications LLC\":\"Etheric Networks, Inc.\",\n",
    "    \"Consolidated  Communications, Inc.\":\"Consolidated Communications, Inc.\",\n",
    "    \"Frontier Communications Northwest, LLC\":\"Ziply Fiber\",\n",
    "    \"Citynet West Virginia, LLC\":\"Citynet, LLC\",\n",
    "    \"Computer 5, Inc. d/b/a LocalTel Communications\": \"LocalTel Communications\",\n",
    "    \"Armstrong Telephone Company - Northern Division\": \"Armstrong Holdings, Inc.\",\n",
    "    \"Commnet Wireless, LLC\": \"ATN International, Inc.\",\n",
    "    \"Mediacom Communications Corporation\": \"Mediacom Communications Corp.\",\n",
    "    \"Continental Divide Electric Cooperative\": \"Continental Divide Electric Cooperative, Inc.\",\n",
    "    \"South Arkansas Telephone Company\": \"South Arkansas Telephone Co.\",\n",
    "    \"Digital Connections Inc. dba PRODIGI\": \"Digital Connections, Inc.\",\n",
    "    \"Shenandoah Cable Television, LLC\": \"Shenandoah Telecommunications Company\",\n",
    "    \"Direct Communications Rockland, Inc\": \"Direct Communications Rockland, Inc.\",\n",
    "    \"Pine Belt Communications, Inc.\":\"Pine Belt Communications Co. Inc.\",\n",
    "    \"Savage Communications\":\"Savage Communications Inc.\",\n",
    "    \"Hamilton County Telephone Co-op\":\"Hamilton County Telephone Co-Op\",\n",
    "    \"Hotwire Communications, Ltd\":\"Hotwire Communications Ltd.\",\n",
    "    \"Altice USA, Inc.\":\"Altice\",\n",
    "    \"TruVista Communications, Inc.\":\"TruVista Communications of Georgia, LLC\",\n",
    "    \"Hawaii Dialogix Telecom LLC\":\"Hawaii Dialogix Telecom LLC\",\n",
    "    \"Safelink Internet LLC\":\"Safelink Internet\",\n",
    "    \"American Heartland\":\"Farmers Telephone Company\",\n",
    "    \"Cellular Services LLC.\":\"Cellular Services LLC\",\n",
    "    \"Scott County Telephone Cooperative, Inc.\":\"Scott County\",\n",
    "    \"Micrologic Inc.\":\"Micrologic, Inc.\",\n",
    "    \"Pioneer Wireless, Inc\":\"Pioneer Wireless, Inc.\",\n",
    "    \"St. John Telco\":\"St. John Telephone, Inc.\",\n",
    "    \"One Ring Networks, Inc\":\"One Ring Networks, Inc.\",\n",
    "    \"Emery Telephone dba Emery Telcom\":\"Emery Telcom\",\n",
    "    \"XIT Telecommunication & Technology\":\"XIT Rural Telephone Cooperative, Inc.\",\n",
    "    \"Somerset Telephone Co., Inc.\":\"SOMERSET TELEPHONE COMPANY\",\n",
    "    \"Siuslaw Broadband, LLC dba Hyak Technologies\":\"Siuslaw Broadband, LLC\",\n",
    "    \"Minnesota Connections c/o Consolidated Tel Company\":\"Consolidated Telephone Company\",\n",
    "    \"DoCoMo Pacific, Inc.\":\"Docomo Pacific\",\n",
    "    \"Roseau Electric Cooperative, Inc.\":\"Roseau Electric Cooperative\",\n",
    "    \"Custer Telephone Cooperative, Inc.\":\"Custer Telephone Cooperative Inc.\",\n",
    "    \"Lakeland Communications Group, LLC\":\"Lakeland Communications, Inc.\",\n",
    "    \"LigTel Communications, Inc.\":\"Ligtel Communications\",\n",
    "    \"Hamilton Long Distance Company\":\"Hamilton.net, Inc.\",\n",
    "    \"Allen's T.V. Cable Service, Inc.\":\"Allen's TV Cable Service, Inc.\",\n",
    "    \"W. T. Services, Inc.\":\"W.T. Services, Inc.\",\n",
    "    \"Heart of the Catskills Comm. Inc., dba MTC Cable\":\"MTC Cable\",\n",
    "    \"Citizens Vermont Acquisition Corporation\":\"Citizens Telephone Company\",\n",
    "    \"Nova Cablevision, Inc\":\"Nova Cablevision, Inc.\",\n",
    "    \"yondoo Broadband LLC\":\"yondoo Broadband, LLC\",\n",
    "    \"Baraga Telephone Company\":\"Baraga Telephone Company Inc.\",\n",
    "    \"Miles Communications LLC\":\"Miles Communications, Inc.\",\n",
    "    \"PVT NetWorks, Inc.\":\"Penasco Valley Telephone Cooperative, Inc.\",\n",
    "    \"Yucca Telecommunications Systems, Inc.\":\"Yucca Telecom\",\n",
    "    \"H&B Communication's, Inc.\":\"H&B Enterprises Inc.\",\n",
    "    \"MARQUETTE-ADAMS TELEPHONE COOPERATIVE, INC.\":\"Marquette-Adams Telephone Cooperative, Inc.\",\n",
    "    \"Pinpoint Bidding Coalition\":\"Pinpoint Holdings, Inc.\",\n",
    "    \"Computer Techniques, Inc. dba CTI Fiber\":\"CTI Fiber\",\n",
    "    \"Barry Technology Services, LLC\":\"Barry Technology Services\",\n",
    "    \"Bloosurf, LLC\":\"Bloosurf\",\n",
    "    \"St Paul Cooperative Telephone Association\":\"St Paul Coop Telephone Assoc\",\n",
    "    \"Farmers Mutual Cooperative Telephone Company\":\"FARMERS MUTUAL TELEPHONE COMPANY\",\n",
    "    \"NTS Communications, LLC\":\"NTS, Inc.\",\n",
    "    \"Unified Communications Inc.\":\"Unified Communications, Inc.\",\n",
    "    \"Peoples Communication, LLC.\":\"Peoples Communication, Inc.\",\n",
    "    \"Wood County Telephone Company d/b/a Solarus\":\"Solarus\",\n",
    "    \"Comcell Inc.\":\"Comcell, Inc.\",\n",
    "    \"Taylor Telephone Coop., Inc. dba Taylor Telecom\":\"Taylor Telephone Cooperative, Inc.\",\n",
    "    \"Plateau Telecommunications, Incorporated\":\"Plateau\",\n",
    "    \"AMA Communications, LLC\":\"AMA Communicaitons, L.L.C.\",\n",
    "    \"AirCell, Inc.\":\"AirCell\",\n",
    "    \"Bays-ET Highspeed LLC\":\"Bays-ET Highspeed Internet LLC\",\n",
    "    \"Big Bend Telecom LTD\":\"Big Bend Telephone Company, Inc.\",\n",
    "    \"Blue Ridge Cable Technologies, Inc.\":\"Blue Ridge Cable Technologies, Inc.\",\n",
    "    \"Cass Cable TV, Inc.\":\"Cass Cable TV, Inc.\",\n",
    "    \"City of Wilson GreenLight\":\"City of Wilson\",\n",
    "    \"Climax Telephone Company dba CTS Telecom, Inc.\":\"Climax Telephone Company\",\n",
    "    \"Cumberland Telephone Company, Inc\":\"CUMBERLAND TELEPHONE COMPANY\",\n",
    "    \"Cumby Telephone Coooertive, Inc.\":\"Cumby Telephone Coop., Inc.\",\n",
    "    \"Data Stream Mobile Technoligies Inc.\":\"Data Stream\",\n",
    "    \"Get Wireless Inc\":\"Getwireless.net\",\n",
    "    \"Hartington Telecommunications Co., Inc,\":\"Hartington Telecommunications Co., Inc.\",\n",
    "    \"Hilliary Communications Consortium\":\"Hilliary Communications, LLC\",\n",
    "    \"Hillsboro Telephone Company,  Inc.\":\"Hillsboro Telephone Company\",\n",
    "    \"Home Telephone ILEC, LLC\":\"Home Telephone ILEC, LLC d/b/a Home Telecom\",\n",
    "    \"Hood Canal Telephone Co., Inc\":\"Hood Canal Communications\",\n",
    "    \"Kingdom Telecommunications, Inc.\":\"Kingdom Telecommunications Inc\",\n",
    "    \"Lincolnville Communications\":\"Lincolnville Telephone Company\",\n",
    "    \"Local Internet Service Company, Inc.\":\"Local Internet Service Company\",\n",
    "    \"Martell Enterprise  Inc.\":\"Martell Enterprises, Inc.\",\n",
    "    \"Massena Telephone Company, Inc.\":\"Massena Telephone Company\",\n",
    "    \"Moundridge Telephone Company\":\"Moundridge Telephone Co.\",\n",
    "    \"MyServer.org, Inc dba San Diego Broadband\":\"San Diego Broadband\",\n",
    "    \"Newbreak Management, LLC\":\"Newbreak Communications\",\n",
    "    \"NexGenAccess Incorporated\":\"NexGenAccess\",\n",
    "    \"Northwoods Communication Technologies, LLC\":\"Northwoodsconnect\",\n",
    "    \"One Point Technologies Inc\":\"One Point Technologies Inc.\",\n",
    "    \"Panhandle Telecommunication Systems, Inc.\":\"Panhandle Telephone Cooperative, Inc.\",\n",
    "    \"Pathwayz Communications Inc\":\"Pathwayz Communications, Inc.\",\n",
    "    \"RONAN TELEPHONE COMPANY\":\"Ronan Telephone Co\",\n",
    "    \"Rainbow Communications LLC\":\"Rainbow Telecommunications Association, Inc.\",\n",
    "    \"SOUTHWEST ARKANSAS TELEPHONE COOPERATIVE, INC.\":\"Southwest Arkansas Telephone Cooperative, Inc.\",\n",
    "    \"South Central Wireless, Inc.\":\"South Central Wireless Inc.\",\n",
    "    \"Southern Montana Telephone Company (SMTC)\":\"Southern Montana Telephone Company\",\n",
    "    \"Steelville Telephone Exchange Inc.\":\"Steelville Telephone Exchange Inc\",\n",
    "    \"Tekstar Communications, Inc. dba Arvig\":\"Arvig Enterprises, Inc.\",\n",
    "    \"Upsala Cooperative Telephone Association dba Sytek\":\"UPSALA COOPERATIVE TELEPHONE ASSOCIATION\",\n",
    "    \"Valley Telephone Cooperative, Inc\":\"Valley Telephone Cooperative, Inc.\",\n",
    "    \"Velocity.Net Communications, Inc.\":\"Velocity Communications, Inc.\",\n",
    "    \"Woodstock Telephone Co.\":\"Woodstock Telephone Company\",\n",
    "    \"ZIRKEL Wireless, LLC\":\"Zirkel Wireless\",\n",
    "    \"coon valley cooperative telephone association inc.\":\"Coon Valley Co-op Telephone Association, Inc.\",\n",
    "}\n",
    "\n",
    "bidders[\"bidder\"] = bidders[\"bidder\"].map(lambda x: name_map[x] if x in name_map else x)\n",
    "bidders"
   ],
   "metadata": {
    "collapsed": false,
    "pycharm": {
     "name": "#%%\n"
    }
   }
  },
  {
   "cell_type": "code",
   "execution_count": 36,
   "outputs": [],
   "source": [
    "collapsed_bids = collapsed_bids.merge(bidders, how=\"left\",left_on=\"winner\", right_on=\"bidder\")"
   ],
   "metadata": {
    "collapsed": false,
    "pycharm": {
     "name": "#%%\n"
    }
   }
  },
  {
   "cell_type": "code",
   "execution_count": 45,
   "outputs": [
    {
     "data": {
      "text/plain": "                                                 bidders  \\\n0      {'1stel, Inc.': {'neighbors': [], 'round': 9, ...   \n1      {'Hughes Network Systems, LLC': {'neighbors': ...   \n2      {'Hughes Network Systems, LLC': {'neighbors': ...   \n3      {'Hughes Network Systems, LLC': {'neighbors': ...   \n4      {'Hughes Network Systems, LLC': {'neighbors': ...   \n...                                                  ...   \n61736  {'AMG Technology Investment Group LLC': {'neig...   \n61737  {'AMG Technology Investment Group LLC': {'neig...   \n61738  {'AMG Technology Investment Group LLC': {'neig...   \n61739  {'AMG Technology Investment Group LLC': {'neig...   \n61740  {'AMG Technology Investment Group LLC': {'neig...   \n\n                                           all_neighbors  \\\n0      {10010202002: {('WOW', 'WideOpenWest Finance, ...   \n1      {10010206002: {('WOW', 'WideOpenWest Finance, ...   \n2      {10010201001: {('WOW', 'WideOpenWest Finance, ...   \n3      {10010201001: {('WOW', 'WideOpenWest Finance, ...   \n4      {10010208021: {('Central Access, Inc.', 'Centr...   \n...                                                  ...   \n61736  {160199701001: {('Safelink Internet'), ('Alway...   \n61737  {560399676001: {('Rise Broadband', 'JAB Wirele...   \n61738  {490439641011: {('Union Holding Corp.', 'Union...   \n61739  {560039626002: {('Mountain West Technologies C...   \n61740  {560039626001: {('Mountain West Technologies C...   \n\n                                                geometry  \\\n0      POLYGON ((-86.47038099999999 32.456581, -86.47...   \n1      POLYGON ((-86.59549799999999 32.381123, -86.59...   \n2      POLYGON ((-86.591984 32.44164, -86.591976 32.4...   \n3      POLYGON ((-86.645787 32.554375, -86.6457779999...   \n4      POLYGON ((-86.664761 32.627948, -86.6647069999...   \n...                                                  ...   \n61736  POLYGON ((-111.045492 43.51067099999999, -111....   \n61737  POLYGON ((-111.039007 43.472801, -111.036624 4...   \n61738  POLYGON ((-111.046818 41.156019, -111.046818 4...   \n61739  POLYGON ((-108.550788 44.12770099999999, -108....   \n61740  POLYGON ((-108.201752 43.82671, -108.20152 43....   \n\n                                     winner  \\\n0      Space Exploration Technologies Corp.   \n1      Space Exploration Technologies Corp.   \n2      Space Exploration Technologies Corp.   \n3                       RDOF USA Consortium   \n4                       RDOF USA Consortium   \n...                                     ...   \n61736  Space Exploration Technologies Corp.   \n61737  Space Exploration Technologies Corp.   \n61738  Space Exploration Technologies Corp.   \n61739  Space Exploration Technologies Corp.   \n61740  Space Exploration Technologies Corp.   \n\n                                                  blocks round  \\\n0       [10010207001071, 10010207001073, 10010207001095]  True   \n1      [10010208011010, 10010208011017, 1001020801102...  True   \n2      [10010208012004, 10010208012010, 1001020801201...  True   \n3      [10010208021003, 10010208021006, 1001020802101...  True   \n4      [10010209001000, 10010209001001, 1001020900100...  True   \n...                                                  ...   ...   \n61736  [560399676003075, 560399676003087, 56039967600...  True   \n61737  [560399677021047, 560399677021058, 56039967702...  True   \n61738                                  [560419753001107]  True   \n61739                 [560430002001181, 560430002001513]  True   \n61740  [560430002002314, 560430002002337, 56043000200...  True   \n\n                                     bidder  t+l_weight            tier  \\\n0      Space Exploration Technologies Corp.        20.0  Above Baseline   \n1      Space Exploration Technologies Corp.        20.0  Above Baseline   \n2      Space Exploration Technologies Corp.        20.0  Above Baseline   \n3                       RDOF USA Consortium         0.0         Gigabit   \n4                       RDOF USA Consortium         0.0         Gigabit   \n...                                     ...         ...             ...   \n61736  Space Exploration Technologies Corp.        20.0  Above Baseline   \n61737  Space Exploration Technologies Corp.        20.0  Above Baseline   \n61738  Space Exploration Technologies Corp.        20.0  Above Baseline   \n61739  Space Exploration Technologies Corp.        20.0  Above Baseline   \n61740  Space Exploration Technologies Corp.        20.0  Above Baseline   \n\n      latency  \n0         Low  \n1         Low  \n2         Low  \n3         Low  \n4         Low  \n...       ...  \n61736     Low  \n61737     Low  \n61738     Low  \n61739     Low  \n61740     Low  \n\n[61741 rows x 10 columns]",
      "text/html": "<div>\n<style scoped>\n    .dataframe tbody tr th:only-of-type {\n        vertical-align: middle;\n    }\n\n    .dataframe tbody tr th {\n        vertical-align: top;\n    }\n\n    .dataframe thead th {\n        text-align: right;\n    }\n</style>\n<table border=\"1\" class=\"dataframe\">\n  <thead>\n    <tr style=\"text-align: right;\">\n      <th></th>\n      <th>bidders</th>\n      <th>all_neighbors</th>\n      <th>geometry</th>\n      <th>winner</th>\n      <th>blocks</th>\n      <th>round</th>\n      <th>bidder</th>\n      <th>t+l_weight</th>\n      <th>tier</th>\n      <th>latency</th>\n    </tr>\n  </thead>\n  <tbody>\n    <tr>\n      <th>0</th>\n      <td>{'1stel, Inc.': {'neighbors': [], 'round': 9, ...</td>\n      <td>{10010202002: {('WOW', 'WideOpenWest Finance, ...</td>\n      <td>POLYGON ((-86.47038099999999 32.456581, -86.47...</td>\n      <td>Space Exploration Technologies Corp.</td>\n      <td>[10010207001071, 10010207001073, 10010207001095]</td>\n      <td>True</td>\n      <td>Space Exploration Technologies Corp.</td>\n      <td>20.0</td>\n      <td>Above Baseline</td>\n      <td>Low</td>\n    </tr>\n    <tr>\n      <th>1</th>\n      <td>{'Hughes Network Systems, LLC': {'neighbors': ...</td>\n      <td>{10010206002: {('WOW', 'WideOpenWest Finance, ...</td>\n      <td>POLYGON ((-86.59549799999999 32.381123, -86.59...</td>\n      <td>Space Exploration Technologies Corp.</td>\n      <td>[10010208011010, 10010208011017, 1001020801102...</td>\n      <td>True</td>\n      <td>Space Exploration Technologies Corp.</td>\n      <td>20.0</td>\n      <td>Above Baseline</td>\n      <td>Low</td>\n    </tr>\n    <tr>\n      <th>2</th>\n      <td>{'Hughes Network Systems, LLC': {'neighbors': ...</td>\n      <td>{10010201001: {('WOW', 'WideOpenWest Finance, ...</td>\n      <td>POLYGON ((-86.591984 32.44164, -86.591976 32.4...</td>\n      <td>Space Exploration Technologies Corp.</td>\n      <td>[10010208012004, 10010208012010, 1001020801201...</td>\n      <td>True</td>\n      <td>Space Exploration Technologies Corp.</td>\n      <td>20.0</td>\n      <td>Above Baseline</td>\n      <td>Low</td>\n    </tr>\n    <tr>\n      <th>3</th>\n      <td>{'Hughes Network Systems, LLC': {'neighbors': ...</td>\n      <td>{10010201001: {('WOW', 'WideOpenWest Finance, ...</td>\n      <td>POLYGON ((-86.645787 32.554375, -86.6457779999...</td>\n      <td>RDOF USA Consortium</td>\n      <td>[10010208021003, 10010208021006, 1001020802101...</td>\n      <td>True</td>\n      <td>RDOF USA Consortium</td>\n      <td>0.0</td>\n      <td>Gigabit</td>\n      <td>Low</td>\n    </tr>\n    <tr>\n      <th>4</th>\n      <td>{'Hughes Network Systems, LLC': {'neighbors': ...</td>\n      <td>{10010208021: {('Central Access, Inc.', 'Centr...</td>\n      <td>POLYGON ((-86.664761 32.627948, -86.6647069999...</td>\n      <td>RDOF USA Consortium</td>\n      <td>[10010209001000, 10010209001001, 1001020900100...</td>\n      <td>True</td>\n      <td>RDOF USA Consortium</td>\n      <td>0.0</td>\n      <td>Gigabit</td>\n      <td>Low</td>\n    </tr>\n    <tr>\n      <th>...</th>\n      <td>...</td>\n      <td>...</td>\n      <td>...</td>\n      <td>...</td>\n      <td>...</td>\n      <td>...</td>\n      <td>...</td>\n      <td>...</td>\n      <td>...</td>\n      <td>...</td>\n    </tr>\n    <tr>\n      <th>61736</th>\n      <td>{'AMG Technology Investment Group LLC': {'neig...</td>\n      <td>{160199701001: {('Safelink Internet'), ('Alway...</td>\n      <td>POLYGON ((-111.045492 43.51067099999999, -111....</td>\n      <td>Space Exploration Technologies Corp.</td>\n      <td>[560399676003075, 560399676003087, 56039967600...</td>\n      <td>True</td>\n      <td>Space Exploration Technologies Corp.</td>\n      <td>20.0</td>\n      <td>Above Baseline</td>\n      <td>Low</td>\n    </tr>\n    <tr>\n      <th>61737</th>\n      <td>{'AMG Technology Investment Group LLC': {'neig...</td>\n      <td>{560399676001: {('Rise Broadband', 'JAB Wirele...</td>\n      <td>POLYGON ((-111.039007 43.472801, -111.036624 4...</td>\n      <td>Space Exploration Technologies Corp.</td>\n      <td>[560399677021047, 560399677021058, 56039967702...</td>\n      <td>True</td>\n      <td>Space Exploration Technologies Corp.</td>\n      <td>20.0</td>\n      <td>Above Baseline</td>\n      <td>Low</td>\n    </tr>\n    <tr>\n      <th>61738</th>\n      <td>{'AMG Technology Investment Group LLC': {'neig...</td>\n      <td>{490439641011: {('Union Holding Corp.', 'Union...</td>\n      <td>POLYGON ((-111.046818 41.156019, -111.046818 4...</td>\n      <td>Space Exploration Technologies Corp.</td>\n      <td>[560419753001107]</td>\n      <td>True</td>\n      <td>Space Exploration Technologies Corp.</td>\n      <td>20.0</td>\n      <td>Above Baseline</td>\n      <td>Low</td>\n    </tr>\n    <tr>\n      <th>61739</th>\n      <td>{'AMG Technology Investment Group LLC': {'neig...</td>\n      <td>{560039626002: {('Mountain West Technologies C...</td>\n      <td>POLYGON ((-108.550788 44.12770099999999, -108....</td>\n      <td>Space Exploration Technologies Corp.</td>\n      <td>[560430002001181, 560430002001513]</td>\n      <td>True</td>\n      <td>Space Exploration Technologies Corp.</td>\n      <td>20.0</td>\n      <td>Above Baseline</td>\n      <td>Low</td>\n    </tr>\n    <tr>\n      <th>61740</th>\n      <td>{'AMG Technology Investment Group LLC': {'neig...</td>\n      <td>{560039626001: {('Mountain West Technologies C...</td>\n      <td>POLYGON ((-108.201752 43.82671, -108.20152 43....</td>\n      <td>Space Exploration Technologies Corp.</td>\n      <td>[560430002002314, 560430002002337, 56043000200...</td>\n      <td>True</td>\n      <td>Space Exploration Technologies Corp.</td>\n      <td>20.0</td>\n      <td>Above Baseline</td>\n      <td>Low</td>\n    </tr>\n  </tbody>\n</table>\n<p>61741 rows × 10 columns</p>\n</div>"
     },
     "execution_count": 44,
     "metadata": {},
     "output_type": "execute_result"
    },
    {
     "data": {
      "text/plain": "                                                 bidders  \\\n0      {'1stel, Inc.': {'neighbors': [], 'round': 9, ...   \n1      {'Hughes Network Systems, LLC': {'neighbors': ...   \n2      {'Hughes Network Systems, LLC': {'neighbors': ...   \n3      {'Hughes Network Systems, LLC': {'neighbors': ...   \n4      {'Hughes Network Systems, LLC': {'neighbors': ...   \n...                                                  ...   \n61736  {'AMG Technology Investment Group LLC': {'neig...   \n61737  {'AMG Technology Investment Group LLC': {'neig...   \n61738  {'AMG Technology Investment Group LLC': {'neig...   \n61739  {'AMG Technology Investment Group LLC': {'neig...   \n61740  {'AMG Technology Investment Group LLC': {'neig...   \n\n                                           all_neighbors  \\\n0      {10010202002: {('WOW', 'WideOpenWest Finance, ...   \n1      {10010206002: {('WOW', 'WideOpenWest Finance, ...   \n2      {10010201001: {('WOW', 'WideOpenWest Finance, ...   \n3      {10010201001: {('WOW', 'WideOpenWest Finance, ...   \n4      {10010208021: {('Central Access, Inc.', 'Centr...   \n...                                                  ...   \n61736  {160199701001: {('Safelink Internet'), ('Alway...   \n61737  {560399676001: {('Rise Broadband', 'JAB Wirele...   \n61738  {490439641011: {('Union Holding Corp.', 'Union...   \n61739  {560039626002: {('Mountain West Technologies C...   \n61740  {560039626001: {('Mountain West Technologies C...   \n\n                                                geometry  \\\n0      POLYGON ((-86.47038099999999 32.456581, -86.47...   \n1      POLYGON ((-86.59549799999999 32.381123, -86.59...   \n2      POLYGON ((-86.591984 32.44164, -86.591976 32.4...   \n3      POLYGON ((-86.645787 32.554375, -86.6457779999...   \n4      POLYGON ((-86.664761 32.627948, -86.6647069999...   \n...                                                  ...   \n61736  POLYGON ((-111.045492 43.51067099999999, -111....   \n61737  POLYGON ((-111.039007 43.472801, -111.036624 4...   \n61738  POLYGON ((-111.046818 41.156019, -111.046818 4...   \n61739  POLYGON ((-108.550788 44.12770099999999, -108....   \n61740  POLYGON ((-108.201752 43.82671, -108.20152 43....   \n\n                                     winner  \\\n0      Space Exploration Technologies Corp.   \n1      Space Exploration Technologies Corp.   \n2      Space Exploration Technologies Corp.   \n3                       RDOF USA Consortium   \n4                       RDOF USA Consortium   \n...                                     ...   \n61736  Space Exploration Technologies Corp.   \n61737  Space Exploration Technologies Corp.   \n61738  Space Exploration Technologies Corp.   \n61739  Space Exploration Technologies Corp.   \n61740  Space Exploration Technologies Corp.   \n\n                                                  blocks round  \\\n0       [10010207001071, 10010207001073, 10010207001095]  True   \n1      [10010208011010, 10010208011017, 1001020801102...  True   \n2      [10010208012004, 10010208012010, 1001020801201...  True   \n3      [10010208021003, 10010208021006, 1001020802101...  True   \n4      [10010209001000, 10010209001001, 1001020900100...  True   \n...                                                  ...   ...   \n61736  [560399676003075, 560399676003087, 56039967600...  True   \n61737  [560399677021047, 560399677021058, 56039967702...  True   \n61738                                  [560419753001107]  True   \n61739                 [560430002001181, 560430002001513]  True   \n61740  [560430002002314, 560430002002337, 56043000200...  True   \n\n                                     bidder  t+l_weight            tier  \\\n0      Space Exploration Technologies Corp.        20.0  Above Baseline   \n1      Space Exploration Technologies Corp.        20.0  Above Baseline   \n2      Space Exploration Technologies Corp.        20.0  Above Baseline   \n3                       RDOF USA Consortium         0.0         Gigabit   \n4                       RDOF USA Consortium         0.0         Gigabit   \n...                                     ...         ...             ...   \n61736  Space Exploration Technologies Corp.        20.0  Above Baseline   \n61737  Space Exploration Technologies Corp.        20.0  Above Baseline   \n61738  Space Exploration Technologies Corp.        20.0  Above Baseline   \n61739  Space Exploration Technologies Corp.        20.0  Above Baseline   \n61740  Space Exploration Technologies Corp.        20.0  Above Baseline   \n\n      latency  \n0         Low  \n1         Low  \n2         Low  \n3         Low  \n4         Low  \n...       ...  \n61736     Low  \n61737     Low  \n61738     Low  \n61739     Low  \n61740     Low  \n\n[61741 rows x 10 columns]",
      "text/html": "<div>\n<style scoped>\n    .dataframe tbody tr th:only-of-type {\n        vertical-align: middle;\n    }\n\n    .dataframe tbody tr th {\n        vertical-align: top;\n    }\n\n    .dataframe thead th {\n        text-align: right;\n    }\n</style>\n<table border=\"1\" class=\"dataframe\">\n  <thead>\n    <tr style=\"text-align: right;\">\n      <th></th>\n      <th>bidders</th>\n      <th>all_neighbors</th>\n      <th>geometry</th>\n      <th>winner</th>\n      <th>blocks</th>\n      <th>round</th>\n      <th>bidder</th>\n      <th>t+l_weight</th>\n      <th>tier</th>\n      <th>latency</th>\n    </tr>\n  </thead>\n  <tbody>\n    <tr>\n      <th>0</th>\n      <td>{'1stel, Inc.': {'neighbors': [], 'round': 9, ...</td>\n      <td>{10010202002: {('WOW', 'WideOpenWest Finance, ...</td>\n      <td>POLYGON ((-86.47038099999999 32.456581, -86.47...</td>\n      <td>Space Exploration Technologies Corp.</td>\n      <td>[10010207001071, 10010207001073, 10010207001095]</td>\n      <td>True</td>\n      <td>Space Exploration Technologies Corp.</td>\n      <td>20.0</td>\n      <td>Above Baseline</td>\n      <td>Low</td>\n    </tr>\n    <tr>\n      <th>1</th>\n      <td>{'Hughes Network Systems, LLC': {'neighbors': ...</td>\n      <td>{10010206002: {('WOW', 'WideOpenWest Finance, ...</td>\n      <td>POLYGON ((-86.59549799999999 32.381123, -86.59...</td>\n      <td>Space Exploration Technologies Corp.</td>\n      <td>[10010208011010, 10010208011017, 1001020801102...</td>\n      <td>True</td>\n      <td>Space Exploration Technologies Corp.</td>\n      <td>20.0</td>\n      <td>Above Baseline</td>\n      <td>Low</td>\n    </tr>\n    <tr>\n      <th>2</th>\n      <td>{'Hughes Network Systems, LLC': {'neighbors': ...</td>\n      <td>{10010201001: {('WOW', 'WideOpenWest Finance, ...</td>\n      <td>POLYGON ((-86.591984 32.44164, -86.591976 32.4...</td>\n      <td>Space Exploration Technologies Corp.</td>\n      <td>[10010208012004, 10010208012010, 1001020801201...</td>\n      <td>True</td>\n      <td>Space Exploration Technologies Corp.</td>\n      <td>20.0</td>\n      <td>Above Baseline</td>\n      <td>Low</td>\n    </tr>\n    <tr>\n      <th>3</th>\n      <td>{'Hughes Network Systems, LLC': {'neighbors': ...</td>\n      <td>{10010201001: {('WOW', 'WideOpenWest Finance, ...</td>\n      <td>POLYGON ((-86.645787 32.554375, -86.6457779999...</td>\n      <td>RDOF USA Consortium</td>\n      <td>[10010208021003, 10010208021006, 1001020802101...</td>\n      <td>True</td>\n      <td>RDOF USA Consortium</td>\n      <td>0.0</td>\n      <td>Gigabit</td>\n      <td>Low</td>\n    </tr>\n    <tr>\n      <th>4</th>\n      <td>{'Hughes Network Systems, LLC': {'neighbors': ...</td>\n      <td>{10010208021: {('Central Access, Inc.', 'Centr...</td>\n      <td>POLYGON ((-86.664761 32.627948, -86.6647069999...</td>\n      <td>RDOF USA Consortium</td>\n      <td>[10010209001000, 10010209001001, 1001020900100...</td>\n      <td>True</td>\n      <td>RDOF USA Consortium</td>\n      <td>0.0</td>\n      <td>Gigabit</td>\n      <td>Low</td>\n    </tr>\n    <tr>\n      <th>...</th>\n      <td>...</td>\n      <td>...</td>\n      <td>...</td>\n      <td>...</td>\n      <td>...</td>\n      <td>...</td>\n      <td>...</td>\n      <td>...</td>\n      <td>...</td>\n      <td>...</td>\n    </tr>\n    <tr>\n      <th>61736</th>\n      <td>{'AMG Technology Investment Group LLC': {'neig...</td>\n      <td>{160199701001: {('Safelink Internet'), ('Alway...</td>\n      <td>POLYGON ((-111.045492 43.51067099999999, -111....</td>\n      <td>Space Exploration Technologies Corp.</td>\n      <td>[560399676003075, 560399676003087, 56039967600...</td>\n      <td>True</td>\n      <td>Space Exploration Technologies Corp.</td>\n      <td>20.0</td>\n      <td>Above Baseline</td>\n      <td>Low</td>\n    </tr>\n    <tr>\n      <th>61737</th>\n      <td>{'AMG Technology Investment Group LLC': {'neig...</td>\n      <td>{560399676001: {('Rise Broadband', 'JAB Wirele...</td>\n      <td>POLYGON ((-111.039007 43.472801, -111.036624 4...</td>\n      <td>Space Exploration Technologies Corp.</td>\n      <td>[560399677021047, 560399677021058, 56039967702...</td>\n      <td>True</td>\n      <td>Space Exploration Technologies Corp.</td>\n      <td>20.0</td>\n      <td>Above Baseline</td>\n      <td>Low</td>\n    </tr>\n    <tr>\n      <th>61738</th>\n      <td>{'AMG Technology Investment Group LLC': {'neig...</td>\n      <td>{490439641011: {('Union Holding Corp.', 'Union...</td>\n      <td>POLYGON ((-111.046818 41.156019, -111.046818 4...</td>\n      <td>Space Exploration Technologies Corp.</td>\n      <td>[560419753001107]</td>\n      <td>True</td>\n      <td>Space Exploration Technologies Corp.</td>\n      <td>20.0</td>\n      <td>Above Baseline</td>\n      <td>Low</td>\n    </tr>\n    <tr>\n      <th>61739</th>\n      <td>{'AMG Technology Investment Group LLC': {'neig...</td>\n      <td>{560039626002: {('Mountain West Technologies C...</td>\n      <td>POLYGON ((-108.550788 44.12770099999999, -108....</td>\n      <td>Space Exploration Technologies Corp.</td>\n      <td>[560430002001181, 560430002001513]</td>\n      <td>True</td>\n      <td>Space Exploration Technologies Corp.</td>\n      <td>20.0</td>\n      <td>Above Baseline</td>\n      <td>Low</td>\n    </tr>\n    <tr>\n      <th>61740</th>\n      <td>{'AMG Technology Investment Group LLC': {'neig...</td>\n      <td>{560039626001: {('Mountain West Technologies C...</td>\n      <td>POLYGON ((-108.201752 43.82671, -108.20152 43....</td>\n      <td>Space Exploration Technologies Corp.</td>\n      <td>[560430002002314, 560430002002337, 56043000200...</td>\n      <td>True</td>\n      <td>Space Exploration Technologies Corp.</td>\n      <td>20.0</td>\n      <td>Above Baseline</td>\n      <td>Low</td>\n    </tr>\n  </tbody>\n</table>\n<p>61741 rows × 10 columns</p>\n</div>"
     },
     "execution_count": 45,
     "metadata": {},
     "output_type": "execute_result"
    }
   ],
   "source": [
    "collapsed_bids"
   ],
   "metadata": {
    "collapsed": false,
    "pycharm": {
     "name": "#%%\n"
    }
   }
  },
  {
   "cell_type": "code",
   "execution_count": null,
   "outputs": [],
   "source": [],
   "metadata": {
    "collapsed": false,
    "pycharm": {
     "name": "#%%\n"
    }
   }
  }
 ],
 "metadata": {
  "kernelspec": {
   "display_name": "Python 3",
   "language": "python",
   "name": "python3"
  },
  "language_info": {
   "codemirror_mode": {
    "name": "ipython",
    "version": 2
   },
   "file_extension": ".py",
   "mimetype": "text/x-python",
   "name": "python",
   "nbconvert_exporter": "python",
   "pygments_lexer": "ipython2",
   "version": "2.7.6"
  }
 },
 "nbformat": 4,
 "nbformat_minor": 0
}