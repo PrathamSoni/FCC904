{
 "cells": [
  {
   "cell_type": "code",
   "execution_count": 1,
   "metadata": {},
   "outputs": [],
   "source": [
    "import pandas as pd\n",
    "import plotly.figure_factory as ff\n",
    "import time\n",
    "import geopandas\n",
    "from glob import glob"
   ]
  },
  {
   "cell_type": "markdown",
   "source": [],
   "metadata": {
    "collapsed": false
   }
  },
  {
   "cell_type": "code",
   "execution_count": 2,
   "metadata": {},
   "outputs": [
    {
     "data": {
      "text/plain": "         round                      bidder     tier latency     census_id\n0            1  Rainbow Communications LLC  Gigabit     Low  200050816001\n1            1  Rainbow Communications LLC  Gigabit     Low  200050816002\n2            1  Rainbow Communications LLC  Gigabit     Low  200050816003\n3            1  Rainbow Communications LLC  Gigabit     Low  200050816005\n4            1  Rainbow Communications LLC  Gigabit     Low  200050817002\n...        ...                         ...      ...     ...           ...\n4331242     19          NexTier Consortium  Gigabit     Low  484690014001\n4331243     19          NexTier Consortium  Gigabit     Low  484690015011\n4331244     19          NexTier Consortium  Gigabit     Low  484690015012\n4331245     19     Segnem Egere Consortium  Gigabit     Low   50850208001\n4331246     19     Segnem Egere Consortium  Gigabit     Low   50850208002\n\n[4331247 rows x 5 columns]",
      "text/html": "<div>\n<style scoped>\n    .dataframe tbody tr th:only-of-type {\n        vertical-align: middle;\n    }\n\n    .dataframe tbody tr th {\n        vertical-align: top;\n    }\n\n    .dataframe thead th {\n        text-align: right;\n    }\n</style>\n<table border=\"1\" class=\"dataframe\">\n  <thead>\n    <tr style=\"text-align: right;\">\n      <th></th>\n      <th>round</th>\n      <th>bidder</th>\n      <th>tier</th>\n      <th>latency</th>\n      <th>census_id</th>\n    </tr>\n  </thead>\n  <tbody>\n    <tr>\n      <th>0</th>\n      <td>1</td>\n      <td>Rainbow Communications LLC</td>\n      <td>Gigabit</td>\n      <td>Low</td>\n      <td>200050816001</td>\n    </tr>\n    <tr>\n      <th>1</th>\n      <td>1</td>\n      <td>Rainbow Communications LLC</td>\n      <td>Gigabit</td>\n      <td>Low</td>\n      <td>200050816002</td>\n    </tr>\n    <tr>\n      <th>2</th>\n      <td>1</td>\n      <td>Rainbow Communications LLC</td>\n      <td>Gigabit</td>\n      <td>Low</td>\n      <td>200050816003</td>\n    </tr>\n    <tr>\n      <th>3</th>\n      <td>1</td>\n      <td>Rainbow Communications LLC</td>\n      <td>Gigabit</td>\n      <td>Low</td>\n      <td>200050816005</td>\n    </tr>\n    <tr>\n      <th>4</th>\n      <td>1</td>\n      <td>Rainbow Communications LLC</td>\n      <td>Gigabit</td>\n      <td>Low</td>\n      <td>200050817002</td>\n    </tr>\n    <tr>\n      <th>...</th>\n      <td>...</td>\n      <td>...</td>\n      <td>...</td>\n      <td>...</td>\n      <td>...</td>\n    </tr>\n    <tr>\n      <th>4331242</th>\n      <td>19</td>\n      <td>NexTier Consortium</td>\n      <td>Gigabit</td>\n      <td>Low</td>\n      <td>484690014001</td>\n    </tr>\n    <tr>\n      <th>4331243</th>\n      <td>19</td>\n      <td>NexTier Consortium</td>\n      <td>Gigabit</td>\n      <td>Low</td>\n      <td>484690015011</td>\n    </tr>\n    <tr>\n      <th>4331244</th>\n      <td>19</td>\n      <td>NexTier Consortium</td>\n      <td>Gigabit</td>\n      <td>Low</td>\n      <td>484690015012</td>\n    </tr>\n    <tr>\n      <th>4331245</th>\n      <td>19</td>\n      <td>Segnem Egere Consortium</td>\n      <td>Gigabit</td>\n      <td>Low</td>\n      <td>50850208001</td>\n    </tr>\n    <tr>\n      <th>4331246</th>\n      <td>19</td>\n      <td>Segnem Egere Consortium</td>\n      <td>Gigabit</td>\n      <td>Low</td>\n      <td>50850208002</td>\n    </tr>\n  </tbody>\n</table>\n<p>4331247 rows × 5 columns</p>\n</div>"
     },
     "execution_count": 2,
     "metadata": {},
     "output_type": "execute_result"
    }
   ],
   "source": [
    "bids = pd.read_csv(\"data/all_bids.csv\")[[\"round\", \"bidder\", \"tier\", \"latency\", \"census_id\"]]\n",
    "bids"
   ]
  },
  {
   "cell_type": "code",
   "execution_count": 3,
   "metadata": {},
   "outputs": [
    {
     "data": {
      "text/plain": "          LogRecNo  Provider_Id       FRN       ProviderName       DBAName  \\\n0                1        48572  21710371       SBT Internet  SBT Internet   \n1                2        48572  21710371       SBT Internet  SBT Internet   \n2                3        48572  21710371       SBT Internet  SBT Internet   \n3                4        48572  21710371       SBT Internet  SBT Internet   \n4                5        48572  21710371       SBT Internet  SBT Internet   \n...            ...          ...       ...                ...           ...   \n72746273  72746274        53601  18756155  VSAT Systems, LLC    Skycasters   \n72746274  72746275        53601  18756155  VSAT Systems, LLC    Skycasters   \n72746275  72746276        53601  18756155  VSAT Systems, LLC    Skycasters   \n72746276  72746277        53601  18756155  VSAT Systems, LLC    Skycasters   \n72746277  72746278        53601  18756155  VSAT Systems, LLC    Skycasters   \n\n          HoldingCompanyName  HocoNum           HocoFinal StateAbbr  \\\n0         SBT Internet, Inc.   320080  SBT Internet, Inc.        UT   \n1         SBT Internet, Inc.   320080  SBT Internet, Inc.        UT   \n2         SBT Internet, Inc.   320080  SBT Internet, Inc.        UT   \n3         SBT Internet, Inc.   320080  SBT Internet, Inc.        UT   \n4         SBT Internet, Inc.   320080  SBT Internet, Inc.        UT   \n...                      ...      ...                 ...       ...   \n72746273   VSAT Systems, LLC   300167   VSAT Systems, LLC        PR   \n72746274   VSAT Systems, LLC   300167   VSAT Systems, LLC        PR   \n72746275   VSAT Systems, LLC   300167   VSAT Systems, LLC        PR   \n72746276   VSAT Systems, LLC   300167   VSAT Systems, LLC        PR   \n72746277   VSAT Systems, LLC   300167   VSAT Systems, LLC        PR   \n\n                BlockCode  TechCode  Consumer  MaxAdDown  MaxAdUp  Business  \\\n0         490479683011126        70         1        6.0      6.0         1   \n1         490479684021003        70         1        7.0      7.0         0   \n2         490479683011029        70         1        5.0      5.0         0   \n3         490479684021019        70         1       12.0     12.0         1   \n4         490479683011028        70         1        7.0      7.0         0   \n...                   ...       ...       ...        ...      ...       ...   \n72746273  721537506022018        60         1        2.0      1.3         1   \n72746274  721537506022019        60         1        2.0      1.3         1   \n72746275  721537506022020        60         1        2.0      1.3         1   \n72746276  721537506022021        60         1        2.0      1.3         1   \n72746277  721537506022022        60         1        2.0      1.3         1   \n\n          MaxCIRDown  MaxCIRUp  \n0                0.0       0.0  \n1                0.0       0.0  \n2                0.0       0.0  \n3                0.0       0.0  \n4                0.0       0.0  \n...              ...       ...  \n72746273         0.0       0.0  \n72746274         0.0       0.0  \n72746275         0.0       0.0  \n72746276         0.0       0.0  \n72746277         0.0       0.0  \n\n[72746278 rows x 17 columns]",
      "text/html": "<div>\n<style scoped>\n    .dataframe tbody tr th:only-of-type {\n        vertical-align: middle;\n    }\n\n    .dataframe tbody tr th {\n        vertical-align: top;\n    }\n\n    .dataframe thead th {\n        text-align: right;\n    }\n</style>\n<table border=\"1\" class=\"dataframe\">\n  <thead>\n    <tr style=\"text-align: right;\">\n      <th></th>\n      <th>LogRecNo</th>\n      <th>Provider_Id</th>\n      <th>FRN</th>\n      <th>ProviderName</th>\n      <th>DBAName</th>\n      <th>HoldingCompanyName</th>\n      <th>HocoNum</th>\n      <th>HocoFinal</th>\n      <th>StateAbbr</th>\n      <th>BlockCode</th>\n      <th>TechCode</th>\n      <th>Consumer</th>\n      <th>MaxAdDown</th>\n      <th>MaxAdUp</th>\n      <th>Business</th>\n      <th>MaxCIRDown</th>\n      <th>MaxCIRUp</th>\n    </tr>\n  </thead>\n  <tbody>\n    <tr>\n      <th>0</th>\n      <td>1</td>\n      <td>48572</td>\n      <td>21710371</td>\n      <td>SBT Internet</td>\n      <td>SBT Internet</td>\n      <td>SBT Internet, Inc.</td>\n      <td>320080</td>\n      <td>SBT Internet, Inc.</td>\n      <td>UT</td>\n      <td>490479683011126</td>\n      <td>70</td>\n      <td>1</td>\n      <td>6.0</td>\n      <td>6.0</td>\n      <td>1</td>\n      <td>0.0</td>\n      <td>0.0</td>\n    </tr>\n    <tr>\n      <th>1</th>\n      <td>2</td>\n      <td>48572</td>\n      <td>21710371</td>\n      <td>SBT Internet</td>\n      <td>SBT Internet</td>\n      <td>SBT Internet, Inc.</td>\n      <td>320080</td>\n      <td>SBT Internet, Inc.</td>\n      <td>UT</td>\n      <td>490479684021003</td>\n      <td>70</td>\n      <td>1</td>\n      <td>7.0</td>\n      <td>7.0</td>\n      <td>0</td>\n      <td>0.0</td>\n      <td>0.0</td>\n    </tr>\n    <tr>\n      <th>2</th>\n      <td>3</td>\n      <td>48572</td>\n      <td>21710371</td>\n      <td>SBT Internet</td>\n      <td>SBT Internet</td>\n      <td>SBT Internet, Inc.</td>\n      <td>320080</td>\n      <td>SBT Internet, Inc.</td>\n      <td>UT</td>\n      <td>490479683011029</td>\n      <td>70</td>\n      <td>1</td>\n      <td>5.0</td>\n      <td>5.0</td>\n      <td>0</td>\n      <td>0.0</td>\n      <td>0.0</td>\n    </tr>\n    <tr>\n      <th>3</th>\n      <td>4</td>\n      <td>48572</td>\n      <td>21710371</td>\n      <td>SBT Internet</td>\n      <td>SBT Internet</td>\n      <td>SBT Internet, Inc.</td>\n      <td>320080</td>\n      <td>SBT Internet, Inc.</td>\n      <td>UT</td>\n      <td>490479684021019</td>\n      <td>70</td>\n      <td>1</td>\n      <td>12.0</td>\n      <td>12.0</td>\n      <td>1</td>\n      <td>0.0</td>\n      <td>0.0</td>\n    </tr>\n    <tr>\n      <th>4</th>\n      <td>5</td>\n      <td>48572</td>\n      <td>21710371</td>\n      <td>SBT Internet</td>\n      <td>SBT Internet</td>\n      <td>SBT Internet, Inc.</td>\n      <td>320080</td>\n      <td>SBT Internet, Inc.</td>\n      <td>UT</td>\n      <td>490479683011028</td>\n      <td>70</td>\n      <td>1</td>\n      <td>7.0</td>\n      <td>7.0</td>\n      <td>0</td>\n      <td>0.0</td>\n      <td>0.0</td>\n    </tr>\n    <tr>\n      <th>...</th>\n      <td>...</td>\n      <td>...</td>\n      <td>...</td>\n      <td>...</td>\n      <td>...</td>\n      <td>...</td>\n      <td>...</td>\n      <td>...</td>\n      <td>...</td>\n      <td>...</td>\n      <td>...</td>\n      <td>...</td>\n      <td>...</td>\n      <td>...</td>\n      <td>...</td>\n      <td>...</td>\n      <td>...</td>\n    </tr>\n    <tr>\n      <th>72746273</th>\n      <td>72746274</td>\n      <td>53601</td>\n      <td>18756155</td>\n      <td>VSAT Systems, LLC</td>\n      <td>Skycasters</td>\n      <td>VSAT Systems, LLC</td>\n      <td>300167</td>\n      <td>VSAT Systems, LLC</td>\n      <td>PR</td>\n      <td>721537506022018</td>\n      <td>60</td>\n      <td>1</td>\n      <td>2.0</td>\n      <td>1.3</td>\n      <td>1</td>\n      <td>0.0</td>\n      <td>0.0</td>\n    </tr>\n    <tr>\n      <th>72746274</th>\n      <td>72746275</td>\n      <td>53601</td>\n      <td>18756155</td>\n      <td>VSAT Systems, LLC</td>\n      <td>Skycasters</td>\n      <td>VSAT Systems, LLC</td>\n      <td>300167</td>\n      <td>VSAT Systems, LLC</td>\n      <td>PR</td>\n      <td>721537506022019</td>\n      <td>60</td>\n      <td>1</td>\n      <td>2.0</td>\n      <td>1.3</td>\n      <td>1</td>\n      <td>0.0</td>\n      <td>0.0</td>\n    </tr>\n    <tr>\n      <th>72746275</th>\n      <td>72746276</td>\n      <td>53601</td>\n      <td>18756155</td>\n      <td>VSAT Systems, LLC</td>\n      <td>Skycasters</td>\n      <td>VSAT Systems, LLC</td>\n      <td>300167</td>\n      <td>VSAT Systems, LLC</td>\n      <td>PR</td>\n      <td>721537506022020</td>\n      <td>60</td>\n      <td>1</td>\n      <td>2.0</td>\n      <td>1.3</td>\n      <td>1</td>\n      <td>0.0</td>\n      <td>0.0</td>\n    </tr>\n    <tr>\n      <th>72746276</th>\n      <td>72746277</td>\n      <td>53601</td>\n      <td>18756155</td>\n      <td>VSAT Systems, LLC</td>\n      <td>Skycasters</td>\n      <td>VSAT Systems, LLC</td>\n      <td>300167</td>\n      <td>VSAT Systems, LLC</td>\n      <td>PR</td>\n      <td>721537506022021</td>\n      <td>60</td>\n      <td>1</td>\n      <td>2.0</td>\n      <td>1.3</td>\n      <td>1</td>\n      <td>0.0</td>\n      <td>0.0</td>\n    </tr>\n    <tr>\n      <th>72746277</th>\n      <td>72746278</td>\n      <td>53601</td>\n      <td>18756155</td>\n      <td>VSAT Systems, LLC</td>\n      <td>Skycasters</td>\n      <td>VSAT Systems, LLC</td>\n      <td>300167</td>\n      <td>VSAT Systems, LLC</td>\n      <td>PR</td>\n      <td>721537506022022</td>\n      <td>60</td>\n      <td>1</td>\n      <td>2.0</td>\n      <td>1.3</td>\n      <td>1</td>\n      <td>0.0</td>\n      <td>0.0</td>\n    </tr>\n  </tbody>\n</table>\n<p>72746278 rows × 17 columns</p>\n</div>"
     },
     "execution_count": 3,
     "metadata": {},
     "output_type": "execute_result"
    }
   ],
   "source": [
    "existing = pd.read_csv(\"/Users/psoni/Downloads/fbd_us_with_satellite_jun2019_v2.csv\", encoding=\"latin\")\n",
    "existing"
   ]
  },
  {
   "cell_type": "code",
   "execution_count": 4,
   "metadata": {},
   "outputs": [
    {
     "data": {
      "text/plain": "          LogRecNo  Provider_Id       FRN          ProviderName  \\\n322            323        48573  17863556      silica broadband   \n323            324        48573  17863556      silica broadband   \n324            325        48573  17863556      silica broadband   \n325            326        48573  17863556      silica broadband   \n326            327        48573  17863556      silica broadband   \n...            ...          ...       ...                   ...   \n72672169  72672170        53153  12369286  HNS License Sub, LLC   \n72672170  72672171        53153  12369286  HNS License Sub, LLC   \n72672171  72672172        53153  12369286  HNS License Sub, LLC   \n72672172  72672173        53153  12369286  HNS License Sub, LLC   \n72672173  72672174        53153  12369286  HNS License Sub, LLC   \n\n                  DBAName           HoldingCompanyName  HocoNum  \\\n322       SilicaBroadband             silica broadband   400039   \n323       SilicaBroadband             silica broadband   400039   \n324       SilicaBroadband             silica broadband   400039   \n325       SilicaBroadband             silica broadband   400039   \n326       SilicaBroadband             silica broadband   400039   \n...                   ...                          ...      ...   \n72672169        HughesNet  Hughes Network Systems, LLC   130627   \n72672170        HughesNet  Hughes Network Systems, LLC   130627   \n72672171        HughesNet  Hughes Network Systems, LLC   130627   \n72672172        HughesNet  Hughes Network Systems, LLC   130627   \n72672173        HughesNet  Hughes Network Systems, LLC   130627   \n\n                            HocoFinal StateAbbr        BlockCode  TechCode  \\\n322                  Silica Broadband        KY  211850308022005        50   \n323                  Silica Broadband        KY  211850308023017        50   \n324                  Silica Broadband        KY  211850308023006        50   \n325                  Silica Broadband        KY  211850308021001        50   \n326                  Silica Broadband        KY  211850308021027        50   \n...                               ...       ...              ...       ...   \n72672169  Hughes Network Systems, LLC        PR  721537506022018        60   \n72672170  Hughes Network Systems, LLC        PR  721537506022019        60   \n72672171  Hughes Network Systems, LLC        PR  721537506022020        60   \n72672172  Hughes Network Systems, LLC        PR  721537506022021        60   \n72672173  Hughes Network Systems, LLC        PR  721537506022022        60   \n\n          Consumer  MaxAdDown  MaxAdUp  Business  MaxCIRDown  MaxCIRUp  \\\n322              1     1000.0   1000.0         0         0.0       0.0   \n323              1     1000.0   1000.0         0         0.0       0.0   \n324              1     1000.0   1000.0         0         0.0       0.0   \n325              1     1000.0   1000.0         0         0.0       0.0   \n326              1     1000.0   1000.0         0         0.0       0.0   \n...            ...        ...      ...       ...         ...       ...   \n72672169         1       25.0      3.0         1         0.0       0.0   \n72672170         1       25.0      3.0         1         0.0       0.0   \n72672171         1       25.0      3.0         1         0.0       0.0   \n72672172         1       25.0      3.0         1         0.0       0.0   \n72672173         1       25.0      3.0         1         0.0       0.0   \n\n                    bg  \n322       211850308022  \n323       211850308023  \n324       211850308023  \n325       211850308021  \n326       211850308021  \n...                ...  \n72672169  721537506022  \n72672170  721537506022  \n72672171  721537506022  \n72672172  721537506022  \n72672173  721537506022  \n\n[35620812 rows x 18 columns]",
      "text/html": "<div>\n<style scoped>\n    .dataframe tbody tr th:only-of-type {\n        vertical-align: middle;\n    }\n\n    .dataframe tbody tr th {\n        vertical-align: top;\n    }\n\n    .dataframe thead th {\n        text-align: right;\n    }\n</style>\n<table border=\"1\" class=\"dataframe\">\n  <thead>\n    <tr style=\"text-align: right;\">\n      <th></th>\n      <th>LogRecNo</th>\n      <th>Provider_Id</th>\n      <th>FRN</th>\n      <th>ProviderName</th>\n      <th>DBAName</th>\n      <th>HoldingCompanyName</th>\n      <th>HocoNum</th>\n      <th>HocoFinal</th>\n      <th>StateAbbr</th>\n      <th>BlockCode</th>\n      <th>TechCode</th>\n      <th>Consumer</th>\n      <th>MaxAdDown</th>\n      <th>MaxAdUp</th>\n      <th>Business</th>\n      <th>MaxCIRDown</th>\n      <th>MaxCIRUp</th>\n      <th>bg</th>\n    </tr>\n  </thead>\n  <tbody>\n    <tr>\n      <th>322</th>\n      <td>323</td>\n      <td>48573</td>\n      <td>17863556</td>\n      <td>silica broadband</td>\n      <td>SilicaBroadband</td>\n      <td>silica broadband</td>\n      <td>400039</td>\n      <td>Silica Broadband</td>\n      <td>KY</td>\n      <td>211850308022005</td>\n      <td>50</td>\n      <td>1</td>\n      <td>1000.0</td>\n      <td>1000.0</td>\n      <td>0</td>\n      <td>0.0</td>\n      <td>0.0</td>\n      <td>211850308022</td>\n    </tr>\n    <tr>\n      <th>323</th>\n      <td>324</td>\n      <td>48573</td>\n      <td>17863556</td>\n      <td>silica broadband</td>\n      <td>SilicaBroadband</td>\n      <td>silica broadband</td>\n      <td>400039</td>\n      <td>Silica Broadband</td>\n      <td>KY</td>\n      <td>211850308023017</td>\n      <td>50</td>\n      <td>1</td>\n      <td>1000.0</td>\n      <td>1000.0</td>\n      <td>0</td>\n      <td>0.0</td>\n      <td>0.0</td>\n      <td>211850308023</td>\n    </tr>\n    <tr>\n      <th>324</th>\n      <td>325</td>\n      <td>48573</td>\n      <td>17863556</td>\n      <td>silica broadband</td>\n      <td>SilicaBroadband</td>\n      <td>silica broadband</td>\n      <td>400039</td>\n      <td>Silica Broadband</td>\n      <td>KY</td>\n      <td>211850308023006</td>\n      <td>50</td>\n      <td>1</td>\n      <td>1000.0</td>\n      <td>1000.0</td>\n      <td>0</td>\n      <td>0.0</td>\n      <td>0.0</td>\n      <td>211850308023</td>\n    </tr>\n    <tr>\n      <th>325</th>\n      <td>326</td>\n      <td>48573</td>\n      <td>17863556</td>\n      <td>silica broadband</td>\n      <td>SilicaBroadband</td>\n      <td>silica broadband</td>\n      <td>400039</td>\n      <td>Silica Broadband</td>\n      <td>KY</td>\n      <td>211850308021001</td>\n      <td>50</td>\n      <td>1</td>\n      <td>1000.0</td>\n      <td>1000.0</td>\n      <td>0</td>\n      <td>0.0</td>\n      <td>0.0</td>\n      <td>211850308021</td>\n    </tr>\n    <tr>\n      <th>326</th>\n      <td>327</td>\n      <td>48573</td>\n      <td>17863556</td>\n      <td>silica broadband</td>\n      <td>SilicaBroadband</td>\n      <td>silica broadband</td>\n      <td>400039</td>\n      <td>Silica Broadband</td>\n      <td>KY</td>\n      <td>211850308021027</td>\n      <td>50</td>\n      <td>1</td>\n      <td>1000.0</td>\n      <td>1000.0</td>\n      <td>0</td>\n      <td>0.0</td>\n      <td>0.0</td>\n      <td>211850308021</td>\n    </tr>\n    <tr>\n      <th>...</th>\n      <td>...</td>\n      <td>...</td>\n      <td>...</td>\n      <td>...</td>\n      <td>...</td>\n      <td>...</td>\n      <td>...</td>\n      <td>...</td>\n      <td>...</td>\n      <td>...</td>\n      <td>...</td>\n      <td>...</td>\n      <td>...</td>\n      <td>...</td>\n      <td>...</td>\n      <td>...</td>\n      <td>...</td>\n      <td>...</td>\n    </tr>\n    <tr>\n      <th>72672169</th>\n      <td>72672170</td>\n      <td>53153</td>\n      <td>12369286</td>\n      <td>HNS License Sub, LLC</td>\n      <td>HughesNet</td>\n      <td>Hughes Network Systems, LLC</td>\n      <td>130627</td>\n      <td>Hughes Network Systems, LLC</td>\n      <td>PR</td>\n      <td>721537506022018</td>\n      <td>60</td>\n      <td>1</td>\n      <td>25.0</td>\n      <td>3.0</td>\n      <td>1</td>\n      <td>0.0</td>\n      <td>0.0</td>\n      <td>721537506022</td>\n    </tr>\n    <tr>\n      <th>72672170</th>\n      <td>72672171</td>\n      <td>53153</td>\n      <td>12369286</td>\n      <td>HNS License Sub, LLC</td>\n      <td>HughesNet</td>\n      <td>Hughes Network Systems, LLC</td>\n      <td>130627</td>\n      <td>Hughes Network Systems, LLC</td>\n      <td>PR</td>\n      <td>721537506022019</td>\n      <td>60</td>\n      <td>1</td>\n      <td>25.0</td>\n      <td>3.0</td>\n      <td>1</td>\n      <td>0.0</td>\n      <td>0.0</td>\n      <td>721537506022</td>\n    </tr>\n    <tr>\n      <th>72672171</th>\n      <td>72672172</td>\n      <td>53153</td>\n      <td>12369286</td>\n      <td>HNS License Sub, LLC</td>\n      <td>HughesNet</td>\n      <td>Hughes Network Systems, LLC</td>\n      <td>130627</td>\n      <td>Hughes Network Systems, LLC</td>\n      <td>PR</td>\n      <td>721537506022020</td>\n      <td>60</td>\n      <td>1</td>\n      <td>25.0</td>\n      <td>3.0</td>\n      <td>1</td>\n      <td>0.0</td>\n      <td>0.0</td>\n      <td>721537506022</td>\n    </tr>\n    <tr>\n      <th>72672172</th>\n      <td>72672173</td>\n      <td>53153</td>\n      <td>12369286</td>\n      <td>HNS License Sub, LLC</td>\n      <td>HughesNet</td>\n      <td>Hughes Network Systems, LLC</td>\n      <td>130627</td>\n      <td>Hughes Network Systems, LLC</td>\n      <td>PR</td>\n      <td>721537506022021</td>\n      <td>60</td>\n      <td>1</td>\n      <td>25.0</td>\n      <td>3.0</td>\n      <td>1</td>\n      <td>0.0</td>\n      <td>0.0</td>\n      <td>721537506022</td>\n    </tr>\n    <tr>\n      <th>72672173</th>\n      <td>72672174</td>\n      <td>53153</td>\n      <td>12369286</td>\n      <td>HNS License Sub, LLC</td>\n      <td>HughesNet</td>\n      <td>Hughes Network Systems, LLC</td>\n      <td>130627</td>\n      <td>Hughes Network Systems, LLC</td>\n      <td>PR</td>\n      <td>721537506022022</td>\n      <td>60</td>\n      <td>1</td>\n      <td>25.0</td>\n      <td>3.0</td>\n      <td>1</td>\n      <td>0.0</td>\n      <td>0.0</td>\n      <td>721537506022</td>\n    </tr>\n  </tbody>\n</table>\n<p>35620812 rows × 18 columns</p>\n</div>"
     },
     "execution_count": 4,
     "metadata": {},
     "output_type": "execute_result"
    }
   ],
   "source": [
    "existing[\"bg\"] = existing[\"BlockCode\"]//1000\n",
    "existing.loc[existing[\"MaxAdDown\"]>=25]"
   ]
  },
  {
   "cell_type": "code",
   "execution_count": 5,
   "outputs": [
    {
     "name": "stdout",
     "output_type": "stream",
     "text": [
      "220732\n",
      "61766\n",
      "61766\n"
     ]
    }
   ],
   "source": [
    "existing_bg = set(existing[\"bg\"].tolist())\n",
    "bid_bg = set(bids[\"census_id\"].tolist())\n",
    "print(len(existing_bg))\n",
    "print(len(bid_bg))\n",
    "print(len(existing_bg.intersection(bid_bg)))"
   ],
   "metadata": {
    "collapsed": false,
    "pycharm": {
     "name": "#%%\n"
    }
   }
  },
  {
   "cell_type": "code",
   "execution_count": 6,
   "outputs": [
    {
     "name": "stdout",
     "output_type": "stream",
     "text": [
      "61766\n",
      "11147273\n",
      "786952\n",
      "786854\n"
     ]
    }
   ],
   "source": [
    "eligible = pd.read_csv(\"data/auction904_updated_block_cbg.csv\")\n",
    "eligible_bg = eligible[\"cbg_id\"].tolist()\n",
    "print(len(set(eligible_bg)))\n",
    "eligible_b = eligible[\"block_id\"].tolist()\n",
    "existing_b = set(existing.loc[existing[\"MaxAdDown\"]>=25][\"BlockCode\"].tolist())\n",
    "print(len(existing_b))\n",
    "print(len(eligible_b))\n",
    "print(len(existing_b.intersection(eligible_b)))"
   ],
   "metadata": {
    "collapsed": false,
    "pycharm": {
     "name": "#%%\n"
    }
   }
  },
  {
   "cell_type": "code",
   "execution_count": 7,
   "metadata": {},
   "outputs": [
    {
     "data": {
      "text/plain": "     STATEFP20 COUNTYFP20 TRACTCE20       GEOID20  \\\n0           12        086    008415  120860084151   \n1           12        086    008415  120860084152   \n2           12        086    008415  120860084153   \n3           12        086    016800  120860168002   \n4           12        086    016800  120860168001   \n...        ...        ...       ...           ...   \n3920        01        079    979501  010799795012   \n3921        01        079    979502  010799795023   \n3922        01        079    979201  010799792011   \n3923        01        079    979202  010799792022   \n3924        01        079    979501  010799795011   \n\n                                               geometry  \n0     POLYGON ((-80.36757 25.66494, -80.36491 25.665...  \n1     POLYGON ((-80.35607 25.66529, -80.35605 25.665...  \n2     POLYGON ((-80.36721 25.65017, -80.36511 25.650...  \n3     POLYGON ((-80.42949 25.71012, -80.42940 25.710...  \n4     POLYGON ((-80.43107 25.71388, -80.43044 25.713...  \n...                                                 ...  \n3920  POLYGON ((-87.20741 34.55710, -87.20740 34.557...  \n3921  POLYGON ((-87.24162 34.53591, -87.24161 34.536...  \n3922  POLYGON ((-87.43611 34.72743, -87.43610 34.727...  \n3923  POLYGON ((-87.45696 34.61352, -87.45693 34.613...  \n3924  POLYGON ((-87.15945 34.56001, -87.15944 34.560...  \n\n[242335 rows x 5 columns]",
      "text/html": "<div>\n<style scoped>\n    .dataframe tbody tr th:only-of-type {\n        vertical-align: middle;\n    }\n\n    .dataframe tbody tr th {\n        vertical-align: top;\n    }\n\n    .dataframe thead th {\n        text-align: right;\n    }\n</style>\n<table border=\"1\" class=\"dataframe\">\n  <thead>\n    <tr style=\"text-align: right;\">\n      <th></th>\n      <th>STATEFP20</th>\n      <th>COUNTYFP20</th>\n      <th>TRACTCE20</th>\n      <th>GEOID20</th>\n      <th>geometry</th>\n    </tr>\n  </thead>\n  <tbody>\n    <tr>\n      <th>0</th>\n      <td>12</td>\n      <td>086</td>\n      <td>008415</td>\n      <td>120860084151</td>\n      <td>POLYGON ((-80.36757 25.66494, -80.36491 25.665...</td>\n    </tr>\n    <tr>\n      <th>1</th>\n      <td>12</td>\n      <td>086</td>\n      <td>008415</td>\n      <td>120860084152</td>\n      <td>POLYGON ((-80.35607 25.66529, -80.35605 25.665...</td>\n    </tr>\n    <tr>\n      <th>2</th>\n      <td>12</td>\n      <td>086</td>\n      <td>008415</td>\n      <td>120860084153</td>\n      <td>POLYGON ((-80.36721 25.65017, -80.36511 25.650...</td>\n    </tr>\n    <tr>\n      <th>3</th>\n      <td>12</td>\n      <td>086</td>\n      <td>016800</td>\n      <td>120860168002</td>\n      <td>POLYGON ((-80.42949 25.71012, -80.42940 25.710...</td>\n    </tr>\n    <tr>\n      <th>4</th>\n      <td>12</td>\n      <td>086</td>\n      <td>016800</td>\n      <td>120860168001</td>\n      <td>POLYGON ((-80.43107 25.71388, -80.43044 25.713...</td>\n    </tr>\n    <tr>\n      <th>...</th>\n      <td>...</td>\n      <td>...</td>\n      <td>...</td>\n      <td>...</td>\n      <td>...</td>\n    </tr>\n    <tr>\n      <th>3920</th>\n      <td>01</td>\n      <td>079</td>\n      <td>979501</td>\n      <td>010799795012</td>\n      <td>POLYGON ((-87.20741 34.55710, -87.20740 34.557...</td>\n    </tr>\n    <tr>\n      <th>3921</th>\n      <td>01</td>\n      <td>079</td>\n      <td>979502</td>\n      <td>010799795023</td>\n      <td>POLYGON ((-87.24162 34.53591, -87.24161 34.536...</td>\n    </tr>\n    <tr>\n      <th>3922</th>\n      <td>01</td>\n      <td>079</td>\n      <td>979201</td>\n      <td>010799792011</td>\n      <td>POLYGON ((-87.43611 34.72743, -87.43610 34.727...</td>\n    </tr>\n    <tr>\n      <th>3923</th>\n      <td>01</td>\n      <td>079</td>\n      <td>979202</td>\n      <td>010799792022</td>\n      <td>POLYGON ((-87.45696 34.61352, -87.45693 34.613...</td>\n    </tr>\n    <tr>\n      <th>3924</th>\n      <td>01</td>\n      <td>079</td>\n      <td>979501</td>\n      <td>010799795011</td>\n      <td>POLYGON ((-87.15945 34.56001, -87.15944 34.560...</td>\n    </tr>\n  </tbody>\n</table>\n<p>242335 rows × 5 columns</p>\n</div>"
     },
     "execution_count": 7,
     "metadata": {},
     "output_type": "execute_result"
    }
   ],
   "source": [
    "shapefiles = glob(\"data/all_data/*.shp\")\n",
    "county_shapes = []\n",
    "for file in  shapefiles:\n",
    "    county_shapes.append(geopandas.read_file(file))\n",
    "    \n",
    "county_shapes = pd.concat(county_shapes)[[\"STATEFP20\", \"COUNTYFP20\", \"TRACTCE20\",\"GEOID20\", \"geometry\"]]\n",
    "county_shapes"
   ]
  },
  {
   "cell_type": "code",
   "execution_count": 13,
   "outputs": [
    {
     "data": {
      "text/plain": "        census_id                                             bidder  \\\n0    450019501001  {Hughes Network Systems, LLC, Commnet Wireless...   \n1    450019501002  {Hughes Network Systems, LLC, Commnet Wireless...   \n2    450019501003  {Commnet Wireless, LLC, Viasat, Inc., Hughes N...   \n3    450019502001  {Hughes Network Systems, LLC, Commnet Wireless...   \n4    450019503001  {Hughes Network Systems, LLC, Commnet Wireless...   \n..            ...                                                ...   \n651  450910617051  {Viasat, Inc., Hughes Network Systems, LLC, Sp...   \n652  450910617082  {Verizon Communications Inc., Hughes Network S...   \n653  450910619001  {Hughes Network Systems, LLC, Viasat, Inc., CC...   \n654  450910619002  {Hughes Network Systems, LLC, Viasat, Inc., CC...   \n655  450910619003  {Verizon Communications Inc., Hughes Network S...   \n\n    STATEFP20 COUNTYFP20 TRACTCE20       GEOID20  \\\n0          45        001    950100  450019501001   \n1          45        001    950100  450019501002   \n2          45        001    950100  450019501003   \n3          45        001    950200  450019502001   \n4          45        001    950300  450019503001   \n..        ...        ...       ...           ...   \n651        45        091    061705  450910617051   \n652        45        091    061708  450910617082   \n653        45        091    061900  450910619001   \n654        45        091    061900  450910619002   \n655        45        091    061900  450910619003   \n\n                                              geometry  \n0    POLYGON ((-82.43106 34.40825, -82.42560 34.411...  \n1    POLYGON ((-82.31787 34.39077, -82.31770 34.390...  \n2    POLYGON ((-82.38600 34.38641, -82.38578 34.386...  \n3    POLYGON ((-82.50906 34.35774, -82.50827 34.358...  \n4    POLYGON ((-82.59390 34.27630, -82.59367 34.276...  \n..                                                 ...  \n651  POLYGON ((-81.20460 35.10578, -81.20424 35.106...  \n652  POLYGON ((-81.08486 35.06638, -81.08479 35.066...  \n653  POLYGON ((-81.49234 34.94781, -81.49211 34.948...  \n654  POLYGON ((-81.40053 35.06545, -81.40026 35.065...  \n655  POLYGON ((-81.47980 34.93791, -81.47977 34.938...  \n\n[656 rows x 7 columns]",
      "text/html": "<div>\n<style scoped>\n    .dataframe tbody tr th:only-of-type {\n        vertical-align: middle;\n    }\n\n    .dataframe tbody tr th {\n        vertical-align: top;\n    }\n\n    .dataframe thead th {\n        text-align: right;\n    }\n</style>\n<table border=\"1\" class=\"dataframe\">\n  <thead>\n    <tr style=\"text-align: right;\">\n      <th></th>\n      <th>census_id</th>\n      <th>bidder</th>\n      <th>STATEFP20</th>\n      <th>COUNTYFP20</th>\n      <th>TRACTCE20</th>\n      <th>GEOID20</th>\n      <th>geometry</th>\n    </tr>\n  </thead>\n  <tbody>\n    <tr>\n      <th>0</th>\n      <td>450019501001</td>\n      <td>{Hughes Network Systems, LLC, Commnet Wireless...</td>\n      <td>45</td>\n      <td>001</td>\n      <td>950100</td>\n      <td>450019501001</td>\n      <td>POLYGON ((-82.43106 34.40825, -82.42560 34.411...</td>\n    </tr>\n    <tr>\n      <th>1</th>\n      <td>450019501002</td>\n      <td>{Hughes Network Systems, LLC, Commnet Wireless...</td>\n      <td>45</td>\n      <td>001</td>\n      <td>950100</td>\n      <td>450019501002</td>\n      <td>POLYGON ((-82.31787 34.39077, -82.31770 34.390...</td>\n    </tr>\n    <tr>\n      <th>2</th>\n      <td>450019501003</td>\n      <td>{Commnet Wireless, LLC, Viasat, Inc., Hughes N...</td>\n      <td>45</td>\n      <td>001</td>\n      <td>950100</td>\n      <td>450019501003</td>\n      <td>POLYGON ((-82.38600 34.38641, -82.38578 34.386...</td>\n    </tr>\n    <tr>\n      <th>3</th>\n      <td>450019502001</td>\n      <td>{Hughes Network Systems, LLC, Commnet Wireless...</td>\n      <td>45</td>\n      <td>001</td>\n      <td>950200</td>\n      <td>450019502001</td>\n      <td>POLYGON ((-82.50906 34.35774, -82.50827 34.358...</td>\n    </tr>\n    <tr>\n      <th>4</th>\n      <td>450019503001</td>\n      <td>{Hughes Network Systems, LLC, Commnet Wireless...</td>\n      <td>45</td>\n      <td>001</td>\n      <td>950300</td>\n      <td>450019503001</td>\n      <td>POLYGON ((-82.59390 34.27630, -82.59367 34.276...</td>\n    </tr>\n    <tr>\n      <th>...</th>\n      <td>...</td>\n      <td>...</td>\n      <td>...</td>\n      <td>...</td>\n      <td>...</td>\n      <td>...</td>\n      <td>...</td>\n    </tr>\n    <tr>\n      <th>651</th>\n      <td>450910617051</td>\n      <td>{Viasat, Inc., Hughes Network Systems, LLC, Sp...</td>\n      <td>45</td>\n      <td>091</td>\n      <td>061705</td>\n      <td>450910617051</td>\n      <td>POLYGON ((-81.20460 35.10578, -81.20424 35.106...</td>\n    </tr>\n    <tr>\n      <th>652</th>\n      <td>450910617082</td>\n      <td>{Verizon Communications Inc., Hughes Network S...</td>\n      <td>45</td>\n      <td>091</td>\n      <td>061708</td>\n      <td>450910617082</td>\n      <td>POLYGON ((-81.08486 35.06638, -81.08479 35.066...</td>\n    </tr>\n    <tr>\n      <th>653</th>\n      <td>450910619001</td>\n      <td>{Hughes Network Systems, LLC, Viasat, Inc., CC...</td>\n      <td>45</td>\n      <td>091</td>\n      <td>061900</td>\n      <td>450910619001</td>\n      <td>POLYGON ((-81.49234 34.94781, -81.49211 34.948...</td>\n    </tr>\n    <tr>\n      <th>654</th>\n      <td>450910619002</td>\n      <td>{Hughes Network Systems, LLC, Viasat, Inc., CC...</td>\n      <td>45</td>\n      <td>091</td>\n      <td>061900</td>\n      <td>450910619002</td>\n      <td>POLYGON ((-81.40053 35.06545, -81.40026 35.065...</td>\n    </tr>\n    <tr>\n      <th>655</th>\n      <td>450910619003</td>\n      <td>{Verizon Communications Inc., Hughes Network S...</td>\n      <td>45</td>\n      <td>091</td>\n      <td>061900</td>\n      <td>450910619003</td>\n      <td>POLYGON ((-81.47980 34.93791, -81.47977 34.938...</td>\n    </tr>\n  </tbody>\n</table>\n<p>656 rows × 7 columns</p>\n</div>"
     },
     "execution_count": 13,
     "metadata": {},
     "output_type": "execute_result"
    }
   ],
   "source": [
    "bids[\"state\"] = bids[\"census_id\"]//10000000000\n",
    "sc_bids = bids.loc[bids[\"state\"]==45]\n",
    "county_shapes[\"GEOID20\"] = pd.to_numeric(county_shapes[\"GEOID20\"])\n",
    "sc_bids = sc_bids.groupby(\"census_id\")[\"bidder\"].apply(set).reset_index(name=\"bidder\")\n",
    "sc_bids = sc_bids.merge(county_shapes, left_on=\"census_id\", right_on=\"GEOID20\")\n",
    "sc_bids"
   ],
   "metadata": {
    "collapsed": false,
    "pycharm": {
     "name": "#%%\n"
    }
   }
  },
  {
   "cell_type": "code",
   "execution_count": 14,
   "outputs": [
    {
     "data": {
      "text/plain": "                bg                                            DBAName  \\\n0     450019501001  {HughesNet, AT&T South Carolina, Charter Commu...   \n1     450019501002  {HughesNet, CenturyLink, GCI Communication Cor...   \n2     450019501003  {HughesNet, CenturyLink, Charter Communication...   \n3     450019502001  {HughesNet, AT&T South Carolina, Charter Commu...   \n4     450019502002  {HughesNet, CenturyLink, Charter Communication...   \n...            ...                                                ...   \n2210  450910618021  {HughesNet, AT&T South Carolina, Charter Commu...   \n2211  450910618022  {Comporium, HughesNet, AT&T South Carolina, Ch...   \n2212  450910619001  {Comporium, HughesNet, AT&T South Carolina, GC...   \n2213  450910619002  {Comporium, HughesNet, AT&T South Carolina, GC...   \n2214  450910619003  {Chester Telephone Company, Comporium, HughesN...   \n\n     STATEFP20 COUNTYFP20 TRACTCE20       GEOID20  \\\n0           45        001    950100  450019501001   \n1           45        001    950100  450019501002   \n2           45        001    950100  450019501003   \n3           45        001    950200  450019502001   \n4           45        001    950200  450019502002   \n...        ...        ...       ...           ...   \n2210        45        091    061802  450910618021   \n2211        45        091    061802  450910618022   \n2212        45        091    061900  450910619001   \n2213        45        091    061900  450910619002   \n2214        45        091    061900  450910619003   \n\n                                               geometry  \n0     POLYGON ((-82.43106 34.40825, -82.42560 34.411...  \n1     POLYGON ((-82.31787 34.39077, -82.31770 34.390...  \n2     POLYGON ((-82.38600 34.38641, -82.38578 34.386...  \n3     POLYGON ((-82.50906 34.35774, -82.50827 34.358...  \n4     POLYGON ((-82.41860 34.36138, -82.41848 34.361...  \n...                                                 ...  \n2210  POLYGON ((-81.25371 35.12702, -81.25355 35.127...  \n2211  POLYGON ((-81.22080 35.09372, -81.22057 35.094...  \n2212  POLYGON ((-81.49234 34.94781, -81.49211 34.948...  \n2213  POLYGON ((-81.40053 35.06545, -81.40026 35.065...  \n2214  POLYGON ((-81.47980 34.93791, -81.47977 34.938...  \n\n[2215 rows x 7 columns]",
      "text/html": "<div>\n<style scoped>\n    .dataframe tbody tr th:only-of-type {\n        vertical-align: middle;\n    }\n\n    .dataframe tbody tr th {\n        vertical-align: top;\n    }\n\n    .dataframe thead th {\n        text-align: right;\n    }\n</style>\n<table border=\"1\" class=\"dataframe\">\n  <thead>\n    <tr style=\"text-align: right;\">\n      <th></th>\n      <th>bg</th>\n      <th>DBAName</th>\n      <th>STATEFP20</th>\n      <th>COUNTYFP20</th>\n      <th>TRACTCE20</th>\n      <th>GEOID20</th>\n      <th>geometry</th>\n    </tr>\n  </thead>\n  <tbody>\n    <tr>\n      <th>0</th>\n      <td>450019501001</td>\n      <td>{HughesNet, AT&amp;T South Carolina, Charter Commu...</td>\n      <td>45</td>\n      <td>001</td>\n      <td>950100</td>\n      <td>450019501001</td>\n      <td>POLYGON ((-82.43106 34.40825, -82.42560 34.411...</td>\n    </tr>\n    <tr>\n      <th>1</th>\n      <td>450019501002</td>\n      <td>{HughesNet, CenturyLink, GCI Communication Cor...</td>\n      <td>45</td>\n      <td>001</td>\n      <td>950100</td>\n      <td>450019501002</td>\n      <td>POLYGON ((-82.31787 34.39077, -82.31770 34.390...</td>\n    </tr>\n    <tr>\n      <th>2</th>\n      <td>450019501003</td>\n      <td>{HughesNet, CenturyLink, Charter Communication...</td>\n      <td>45</td>\n      <td>001</td>\n      <td>950100</td>\n      <td>450019501003</td>\n      <td>POLYGON ((-82.38600 34.38641, -82.38578 34.386...</td>\n    </tr>\n    <tr>\n      <th>3</th>\n      <td>450019502001</td>\n      <td>{HughesNet, AT&amp;T South Carolina, Charter Commu...</td>\n      <td>45</td>\n      <td>001</td>\n      <td>950200</td>\n      <td>450019502001</td>\n      <td>POLYGON ((-82.50906 34.35774, -82.50827 34.358...</td>\n    </tr>\n    <tr>\n      <th>4</th>\n      <td>450019502002</td>\n      <td>{HughesNet, CenturyLink, Charter Communication...</td>\n      <td>45</td>\n      <td>001</td>\n      <td>950200</td>\n      <td>450019502002</td>\n      <td>POLYGON ((-82.41860 34.36138, -82.41848 34.361...</td>\n    </tr>\n    <tr>\n      <th>...</th>\n      <td>...</td>\n      <td>...</td>\n      <td>...</td>\n      <td>...</td>\n      <td>...</td>\n      <td>...</td>\n      <td>...</td>\n    </tr>\n    <tr>\n      <th>2210</th>\n      <td>450910618021</td>\n      <td>{HughesNet, AT&amp;T South Carolina, Charter Commu...</td>\n      <td>45</td>\n      <td>091</td>\n      <td>061802</td>\n      <td>450910618021</td>\n      <td>POLYGON ((-81.25371 35.12702, -81.25355 35.127...</td>\n    </tr>\n    <tr>\n      <th>2211</th>\n      <td>450910618022</td>\n      <td>{Comporium, HughesNet, AT&amp;T South Carolina, Ch...</td>\n      <td>45</td>\n      <td>091</td>\n      <td>061802</td>\n      <td>450910618022</td>\n      <td>POLYGON ((-81.22080 35.09372, -81.22057 35.094...</td>\n    </tr>\n    <tr>\n      <th>2212</th>\n      <td>450910619001</td>\n      <td>{Comporium, HughesNet, AT&amp;T South Carolina, GC...</td>\n      <td>45</td>\n      <td>091</td>\n      <td>061900</td>\n      <td>450910619001</td>\n      <td>POLYGON ((-81.49234 34.94781, -81.49211 34.948...</td>\n    </tr>\n    <tr>\n      <th>2213</th>\n      <td>450910619002</td>\n      <td>{Comporium, HughesNet, AT&amp;T South Carolina, GC...</td>\n      <td>45</td>\n      <td>091</td>\n      <td>061900</td>\n      <td>450910619002</td>\n      <td>POLYGON ((-81.40053 35.06545, -81.40026 35.065...</td>\n    </tr>\n    <tr>\n      <th>2214</th>\n      <td>450910619003</td>\n      <td>{Chester Telephone Company, Comporium, HughesN...</td>\n      <td>45</td>\n      <td>091</td>\n      <td>061900</td>\n      <td>450910619003</td>\n      <td>POLYGON ((-81.47980 34.93791, -81.47977 34.938...</td>\n    </tr>\n  </tbody>\n</table>\n<p>2215 rows × 7 columns</p>\n</div>"
     },
     "execution_count": 14,
     "metadata": {},
     "output_type": "execute_result"
    }
   ],
   "source": [
    "existing[\"state\"] = existing[\"bg\"]//10000000000\n",
    "sc_existing = existing.loc[existing[\"state\"]==45]\n",
    "sc_existing = sc_existing.groupby(\"bg\")[\"DBAName\"].apply(set).reset_index(name=\"DBAName\")\n",
    "sc_existing = sc_existing.merge(county_shapes, left_on=\"bg\", right_on=\"GEOID20\")\n",
    "sc_existing = geopandas.GeoDataFrame(sc_existing)\n",
    "sc_existing"
   ],
   "metadata": {
    "collapsed": false,
    "pycharm": {
     "name": "#%%\n"
    }
   }
  },
  {
   "cell_type": "code",
   "execution_count": 26,
   "metadata": {},
   "outputs": [
    {
     "name": "stdout",
     "output_type": "stream",
     "text": [
      "15.702913999557495\n"
     ]
    }
   ],
   "source": [
    "start = time.time()\n",
    "for index, row in sc_bids.iterrows():\n",
    "    neighbors = sc_existing[~sc_existing.geometry.disjoint(row['geometry'])]\n",
    "    ids = neighbors.GEOID20.tolist()\n",
    "    names = neighbors.DBAName.tolist()\n",
    "    out = {}\n",
    "    for idx, name_list in zip(ids, names):\n",
    "        for name in name_list:\n",
    "            running = out.get(name, [])\n",
    "            running.append(idx)\n",
    "            out[name] = running\n",
    "    sc_bids.at[index, \"neighbors\"] = out\n",
    "\n",
    "print(time.time()-start)\n"
   ]
  },
  {
   "cell_type": "code",
   "execution_count": 18,
   "metadata": {},
   "outputs": [
    {
     "data": {
      "text/plain": "        census_id                                             bidder  \\\n0    450019501001  {Hughes Network Systems, LLC, Commnet Wireless...   \n1    450019501002  {Hughes Network Systems, LLC, Commnet Wireless...   \n2    450019501003  {Commnet Wireless, LLC, Viasat, Inc., Hughes N...   \n3    450019502001  {Hughes Network Systems, LLC, Commnet Wireless...   \n4    450019503001  {Hughes Network Systems, LLC, Commnet Wireless...   \n..            ...                                                ...   \n651  450910617051  {Viasat, Inc., Hughes Network Systems, LLC, Sp...   \n652  450910617082  {Verizon Communications Inc., Hughes Network S...   \n653  450910619001  {Hughes Network Systems, LLC, Viasat, Inc., CC...   \n654  450910619002  {Hughes Network Systems, LLC, Viasat, Inc., CC...   \n655  450910619003  {Verizon Communications Inc., Hughes Network S...   \n\n    STATEFP20 COUNTYFP20 TRACTCE20       GEOID20  \\\n0          45        001    950100  450019501001   \n1          45        001    950100  450019501002   \n2          45        001    950100  450019501003   \n3          45        001    950200  450019502001   \n4          45        001    950300  450019503001   \n..        ...        ...       ...           ...   \n651        45        091    061705  450910617051   \n652        45        091    061708  450910617082   \n653        45        091    061900  450910619001   \n654        45        091    061900  450910619002   \n655        45        091    061900  450910619003   \n\n                                              geometry  \\\n0    POLYGON ((-82.43106 34.40825, -82.42560 34.411...   \n1    POLYGON ((-82.31787 34.39077, -82.31770 34.390...   \n2    POLYGON ((-82.38600 34.38641, -82.38578 34.386...   \n3    POLYGON ((-82.50906 34.35774, -82.50827 34.358...   \n4    POLYGON ((-82.59390 34.27630, -82.59367 34.276...   \n..                                                 ...   \n651  POLYGON ((-81.20460 35.10578, -81.20424 35.106...   \n652  POLYGON ((-81.08486 35.06638, -81.08479 35.066...   \n653  POLYGON ((-81.49234 34.94781, -81.49211 34.948...   \n654  POLYGON ((-81.40053 35.06545, -81.40026 35.065...   \n655  POLYGON ((-81.47980 34.93791, -81.47977 34.938...   \n\n                                             neighbors  \n0    {450019501002: {'HughesNet', 'CenturyLink', 'G...  \n1    {450019501001: {'HughesNet', 'AT&T South Carol...  \n2    {450019501001: {'HughesNet', 'AT&T South Carol...  \n3    {450019501001: {'HughesNet', 'AT&T South Carol...  \n4    {450019502001: {'HughesNet', 'AT&T South Carol...  \n..                                                 ...  \n651  {450910617052: {'Comporium', 'HughesNet', 'AT&...  \n652  {450910617081: {'Comporium', 'HughesNet', 'AT&...  \n653  {450219706021: {'HughesNet', 'AT&T South Carol...  \n654  {450910617011: {'Comporium', 'HughesNet', 'AT&...  \n655  {450219706021: {'HughesNet', 'AT&T South Carol...  \n\n[656 rows x 8 columns]",
      "text/html": "<div>\n<style scoped>\n    .dataframe tbody tr th:only-of-type {\n        vertical-align: middle;\n    }\n\n    .dataframe tbody tr th {\n        vertical-align: top;\n    }\n\n    .dataframe thead th {\n        text-align: right;\n    }\n</style>\n<table border=\"1\" class=\"dataframe\">\n  <thead>\n    <tr style=\"text-align: right;\">\n      <th></th>\n      <th>census_id</th>\n      <th>bidder</th>\n      <th>STATEFP20</th>\n      <th>COUNTYFP20</th>\n      <th>TRACTCE20</th>\n      <th>GEOID20</th>\n      <th>geometry</th>\n      <th>neighbors</th>\n    </tr>\n  </thead>\n  <tbody>\n    <tr>\n      <th>0</th>\n      <td>450019501001</td>\n      <td>{Hughes Network Systems, LLC, Commnet Wireless...</td>\n      <td>45</td>\n      <td>001</td>\n      <td>950100</td>\n      <td>450019501001</td>\n      <td>POLYGON ((-82.43106 34.40825, -82.42560 34.411...</td>\n      <td>{450019501002: {'HughesNet', 'CenturyLink', 'G...</td>\n    </tr>\n    <tr>\n      <th>1</th>\n      <td>450019501002</td>\n      <td>{Hughes Network Systems, LLC, Commnet Wireless...</td>\n      <td>45</td>\n      <td>001</td>\n      <td>950100</td>\n      <td>450019501002</td>\n      <td>POLYGON ((-82.31787 34.39077, -82.31770 34.390...</td>\n      <td>{450019501001: {'HughesNet', 'AT&amp;T South Carol...</td>\n    </tr>\n    <tr>\n      <th>2</th>\n      <td>450019501003</td>\n      <td>{Commnet Wireless, LLC, Viasat, Inc., Hughes N...</td>\n      <td>45</td>\n      <td>001</td>\n      <td>950100</td>\n      <td>450019501003</td>\n      <td>POLYGON ((-82.38600 34.38641, -82.38578 34.386...</td>\n      <td>{450019501001: {'HughesNet', 'AT&amp;T South Carol...</td>\n    </tr>\n    <tr>\n      <th>3</th>\n      <td>450019502001</td>\n      <td>{Hughes Network Systems, LLC, Commnet Wireless...</td>\n      <td>45</td>\n      <td>001</td>\n      <td>950200</td>\n      <td>450019502001</td>\n      <td>POLYGON ((-82.50906 34.35774, -82.50827 34.358...</td>\n      <td>{450019501001: {'HughesNet', 'AT&amp;T South Carol...</td>\n    </tr>\n    <tr>\n      <th>4</th>\n      <td>450019503001</td>\n      <td>{Hughes Network Systems, LLC, Commnet Wireless...</td>\n      <td>45</td>\n      <td>001</td>\n      <td>950300</td>\n      <td>450019503001</td>\n      <td>POLYGON ((-82.59390 34.27630, -82.59367 34.276...</td>\n      <td>{450019502001: {'HughesNet', 'AT&amp;T South Carol...</td>\n    </tr>\n    <tr>\n      <th>...</th>\n      <td>...</td>\n      <td>...</td>\n      <td>...</td>\n      <td>...</td>\n      <td>...</td>\n      <td>...</td>\n      <td>...</td>\n      <td>...</td>\n    </tr>\n    <tr>\n      <th>651</th>\n      <td>450910617051</td>\n      <td>{Viasat, Inc., Hughes Network Systems, LLC, Sp...</td>\n      <td>45</td>\n      <td>091</td>\n      <td>061705</td>\n      <td>450910617051</td>\n      <td>POLYGON ((-81.20460 35.10578, -81.20424 35.106...</td>\n      <td>{450910617052: {'Comporium', 'HughesNet', 'AT&amp;...</td>\n    </tr>\n    <tr>\n      <th>652</th>\n      <td>450910617082</td>\n      <td>{Verizon Communications Inc., Hughes Network S...</td>\n      <td>45</td>\n      <td>091</td>\n      <td>061708</td>\n      <td>450910617082</td>\n      <td>POLYGON ((-81.08486 35.06638, -81.08479 35.066...</td>\n      <td>{450910617081: {'Comporium', 'HughesNet', 'AT&amp;...</td>\n    </tr>\n    <tr>\n      <th>653</th>\n      <td>450910619001</td>\n      <td>{Hughes Network Systems, LLC, Viasat, Inc., CC...</td>\n      <td>45</td>\n      <td>091</td>\n      <td>061900</td>\n      <td>450910619001</td>\n      <td>POLYGON ((-81.49234 34.94781, -81.49211 34.948...</td>\n      <td>{450219706021: {'HughesNet', 'AT&amp;T South Carol...</td>\n    </tr>\n    <tr>\n      <th>654</th>\n      <td>450910619002</td>\n      <td>{Hughes Network Systems, LLC, Viasat, Inc., CC...</td>\n      <td>45</td>\n      <td>091</td>\n      <td>061900</td>\n      <td>450910619002</td>\n      <td>POLYGON ((-81.40053 35.06545, -81.40026 35.065...</td>\n      <td>{450910617011: {'Comporium', 'HughesNet', 'AT&amp;...</td>\n    </tr>\n    <tr>\n      <th>655</th>\n      <td>450910619003</td>\n      <td>{Verizon Communications Inc., Hughes Network S...</td>\n      <td>45</td>\n      <td>091</td>\n      <td>061900</td>\n      <td>450910619003</td>\n      <td>POLYGON ((-81.47980 34.93791, -81.47977 34.938...</td>\n      <td>{450219706021: {'HughesNet', 'AT&amp;T South Carol...</td>\n    </tr>\n  </tbody>\n</table>\n<p>656 rows × 8 columns</p>\n</div>"
     },
     "execution_count": 18,
     "metadata": {},
     "output_type": "execute_result"
    }
   ],
   "source": [
    "sc_bids"
   ]
  },
  {
   "cell_type": "code",
   "execution_count": 23,
   "metadata": {},
   "outputs": [
    {
     "data": {
      "text/plain": "{'CCO Holdings, LLC',\n 'Commnet Wireless, LLC',\n 'Hughes Network Systems, LLC',\n 'Space Exploration Technologies Corp.',\n 'Viasat, Inc.'}"
     },
     "execution_count": 23,
     "metadata": {},
     "output_type": "execute_result"
    }
   ],
   "source": [
    "sc_bids.loc[sc_bids.census_id==450019501001].bidder.item()"
   ]
  },
  {
   "cell_type": "code",
   "execution_count": 27,
   "metadata": {},
   "outputs": [
    {
     "data": {
      "text/plain": "{'HughesNet': [450019501001,\n  450019501002,\n  450019501003,\n  450019502001,\n  450019502002,\n  450450032022,\n  450599202011],\n 'AT&T South Carolina': [450019501001,\n  450019502001,\n  450450032022,\n  450599202011],\n 'Charter Communications Inc': [450019501001,\n  450019501003,\n  450019502001,\n  450019502002,\n  450450032022],\n 'GCI Communication Corp.': [450019501001,\n  450019501002,\n  450019501003,\n  450019502001,\n  450019502002,\n  450450032022,\n  450599202011],\n 'Skycasters': [450019501001,\n  450019501002,\n  450019501003,\n  450019502001,\n  450019502002,\n  450450032022,\n  450599202011],\n 'Viasat Inc': [450019501001,\n  450019501002,\n  450019501003,\n  450019502001,\n  450019502002,\n  450450032022,\n  450599202011],\n 'Northland Communications': [450019501001,\n  450019501002,\n  450019501003,\n  450019502002,\n  450599202011],\n 'West Carolina Rural Telephone Cooperative, Inc.': [450019501001,\n  450019501002,\n  450019501003,\n  450019502001,\n  450019502002],\n 'CenturyLink': [450019501002, 450019501003, 450019502002],\n 'Piedmont Rural Telephone Cooperative, Inc.': [450019501002, 450599202011],\n 'West Carolina Communications': [450019501003, 450019502002],\n 'Comcast': [450019501003, 450450032022],\n 'PRTCommunications, LLC': [450599202011]}"
     },
     "execution_count": 27,
     "metadata": {},
     "output_type": "execute_result"
    }
   ],
   "source": [
    "sc_bids.loc[sc_bids.census_id==450019501001].neighbors.item()"
   ]
  },
  {
   "cell_type": "code",
   "execution_count": null,
   "outputs": [],
   "source": [],
   "metadata": {
    "collapsed": false,
    "pycharm": {
     "name": "#%%\n"
    }
   }
  }
 ],
 "metadata": {
  "kernelspec": {
   "display_name": "Python 3 (ipykernel)",
   "language": "python",
   "name": "python3"
  },
  "language_info": {
   "codemirror_mode": {
    "name": "ipython",
    "version": 3
   },
   "file_extension": ".py",
   "mimetype": "text/x-python",
   "name": "python",
   "nbconvert_exporter": "python",
   "pygments_lexer": "ipython3",
   "version": "3.8.2"
  }
 },
 "nbformat": 4,
 "nbformat_minor": 1
}